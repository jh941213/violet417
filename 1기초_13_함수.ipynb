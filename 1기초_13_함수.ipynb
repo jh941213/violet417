{
  "nbformat": 4,
  "nbformat_minor": 0,
  "metadata": {
    "colab": {
      "provenance": [],
      "collapsed_sections": [],
      "authorship_tag": "ABX9TyPoZTjTKlm6eik37L/QkREp",
      "include_colab_link": true
    },
    "kernelspec": {
      "name": "python3",
      "display_name": "Python 3"
    },
    "language_info": {
      "name": "python"
    }
  },
  "cells": [
    {
      "cell_type": "markdown",
      "metadata": {
        "id": "view-in-github",
        "colab_type": "text"
      },
      "source": [
        "<a href=\"https://colab.research.google.com/github/violet417/violet417/blob/main/1%EA%B8%B0%EC%B4%88_13_%ED%95%A8%EC%88%98.ipynb\" target=\"_parent\"><img src=\"https://colab.research.google.com/assets/colab-badge.svg\" alt=\"Open In Colab\"/></a>"
      ]
    },
    {
      "cell_type": "code",
      "execution_count": null,
      "metadata": {
        "id": "ua7Jtw60tLDK"
      },
      "outputs": [],
      "source": [
        "# 함수: 어떤 일을 수행한 다음에 그 결과를 내어놓는 것\n",
        "# 함수 기본구조\n",
        "''' def 함수명(매개변수):\n",
        "        <수행할 문장1>\n",
        "        <수행할 문장2>'''"
      ]
    },
    {
      "cell_type": "code",
      "source": [
        "''' def 함수이름(매개변수):\n",
        "        <수행할 문장>\n",
        "        ...\n",
        "        return 결과값'''"
      ],
      "metadata": {
        "id": "m7QTUgTKtftl"
      },
      "execution_count": null,
      "outputs": []
    },
    {
      "cell_type": "code",
      "source": [
        "# 입력값이 없는 함수\n",
        "def say():\n",
        "    return 'Hi'\n",
        "a = say()\n",
        "print(a)"
      ],
      "metadata": {
        "colab": {
          "base_uri": "https://localhost:8080/"
        },
        "id": "ZtVH7hbotqAx",
        "outputId": "aab27aaf-63cd-44b5-8300-20cce24e727f"
      },
      "execution_count": null,
      "outputs": [
        {
          "output_type": "stream",
          "name": "stdout",
          "text": [
            "Hi\n"
          ]
        }
      ]
    },
    {
      "cell_type": "code",
      "source": [
        "# 반환값이 없는 함수\n",
        "def add(a, b):\n",
        "    print(\"%d, %d의 합은 %d입니다.\"%(a, b, a+b))\n",
        "a = add(3, 5)\n",
        "print(a)    # 반환값이 없으므로 a에 전달된 값이 없음. None으로 표시"
      ],
      "metadata": {
        "colab": {
          "base_uri": "https://localhost:8080/"
        },
        "id": "vGQ1gNWNtxh9",
        "outputId": "233fd589-5f62-4b6a-8b4b-a5b91e3d98c1"
      },
      "execution_count": null,
      "outputs": [
        {
          "output_type": "stream",
          "name": "stdout",
          "text": [
            "3, 5의 합은 8입니다.\n",
            "None\n"
          ]
        }
      ]
    },
    {
      "cell_type": "code",
      "source": [
        "# 입력값도 반환값도 없는 함수\n",
        "def say():\n",
        "    print('Hi')\n",
        "say()"
      ],
      "metadata": {
        "colab": {
          "base_uri": "https://localhost:8080/"
        },
        "id": "2q05nPTNuBfM",
        "outputId": "459222a9-86c9-46ae-e691-cd1c6d1a945f"
      },
      "execution_count": null,
      "outputs": [
        {
          "output_type": "stream",
          "name": "stdout",
          "text": [
            "Hi\n"
          ]
        }
      ]
    },
    {
      "cell_type": "code",
      "source": [
        "# 입력값이 몇 개가 될지 모를 때\n",
        "''' def 함수이름(*매개변수):\n",
        "         <수행할 문장>\n",
        "\n",
        "    def 함수이름(매개변수1, *매개변수):\n",
        "         <수행할 문장)'''"
      ],
      "metadata": {
        "id": "HbrkUurtuYy2"
      },
      "execution_count": null,
      "outputs": []
    },
    {
      "cell_type": "code",
      "source": [
        "# 입력값을 딕셔너리로 받을 때\n",
        "''' def 함수이름(**매개변수):\n",
        "         <수행할 문장>'''\n",
        "# print_kwargs(a=1) -> {'a':1}\n",
        "# print_kwargs(name = 'foo', 'age' = 3) -> {'age':3, 'name':'foo'}"
      ],
      "metadata": {
        "id": "gi06gzjyu44q"
      },
      "execution_count": null,
      "outputs": []
    },
    {
      "cell_type": "code",
      "source": [
        "# 특별한 상황일 때 함수를 빠져나가고 싶다면\n",
        "def say_nick(nick):\n",
        "    if nick == '바보':\n",
        "        return\n",
        "    print(\"나의 별명은 {}입니다.\".format(nick))\n"
      ],
      "metadata": {
        "id": "6w4DlOBAvK4r"
      },
      "execution_count": null,
      "outputs": []
    },
    {
      "cell_type": "code",
      "source": [
        "# 기본값 설정\n",
        "def say_myself(name, old, man=True):\n",
        "    print(\"나의 이름은 {}입니다.\".format(name))\n",
        "    print(\"나이는 {}살입니다.\".format(old))\n",
        "    if man == True:\n",
        "        print(\"남자입니다.\")\n",
        "    else:\n",
        "        print(\"여자입니다.\")"
      ],
      "metadata": {
        "id": "rAOAlDfrue4K"
      },
      "execution_count": null,
      "outputs": []
    },
    {
      "cell_type": "code",
      "source": [
        "print(say_myself('홍길동', 30, man=True))\n",
        "print(say_myself('아이유', 20, man=False))"
      ],
      "metadata": {
        "colab": {
          "base_uri": "https://localhost:8080/"
        },
        "id": "ZgM67BxzvDB2",
        "outputId": "093fd821-b65b-4bdf-cb51-8d8a54c25d02"
      },
      "execution_count": null,
      "outputs": [
        {
          "output_type": "stream",
          "name": "stdout",
          "text": [
            "나의 이름은 홍길동입니다.\n",
            "나이는 30살입니다.\n",
            "남자입니다.\n",
            "None\n",
            "나의 이름은 아이유입니다.\n",
            "나이는 20살입니다.\n",
            "여자입니다.\n",
            "None\n"
          ]
        }
      ]
    },
    {
      "cell_type": "code",
      "source": [
        "# 함수 안에서 사용되는 변수는 함수 안에서만 사용이 된다.\n",
        "a = 1   # 전역변수: 모든 곳에 영향을 미친다. \n",
        "def vartest(a):\n",
        "    a = a + 1    # 지역변수: 함수 안에서만 사용되는 변수"
      ],
      "metadata": {
        "id": "nd6fV6IjvuJ3"
      },
      "execution_count": null,
      "outputs": []
    },
    {
      "cell_type": "code",
      "source": [
        "a = 1   # 전역변수\n",
        "def vartest(a):\n",
        "    global a    # 전역변수 a 명시\n",
        "    a = a+1     # 전역변수 a: 기존 a에 덮어 씌워짐"
      ],
      "metadata": {
        "id": "5jZCG2zAwHcY"
      },
      "execution_count": null,
      "outputs": []
    },
    {
      "cell_type": "code",
      "source": [
        "# lambda: 아주 간단한 함수를 만들 때 편리함. \n",
        "add = lambda a, b: a+b\n",
        "\n",
        "def add(a, b):\n",
        "    return a + b"
      ],
      "metadata": {
        "id": "CvLh9sQZwbrw"
      },
      "execution_count": null,
      "outputs": []
    },
    {
      "cell_type": "code",
      "source": [
        "def add(num1, num2):\n",
        "    return num1 + num2\n",
        "\n",
        "a = add(3, 4)\n",
        "print(a)"
      ],
      "metadata": {
        "colab": {
          "base_uri": "https://localhost:8080/"
        },
        "id": "iOc6MxKTw00A",
        "outputId": "8130da93-ff77-4618-d2b3-6877947de98f"
      },
      "execution_count": null,
      "outputs": [
        {
          "output_type": "stream",
          "name": "stdout",
          "text": [
            "7\n"
          ]
        }
      ]
    },
    {
      "cell_type": "code",
      "source": [
        "def say():\n",
        "    return 'hello'  # 입력 값이 없는 함수\n",
        "\n",
        "a = say()\n",
        "print(a)"
      ],
      "metadata": {
        "colab": {
          "base_uri": "https://localhost:8080/"
        },
        "id": "ztbzY2HEw8Rz",
        "outputId": "97076bc4-d203-470e-bc9f-9a6585f1e76a"
      },
      "execution_count": null,
      "outputs": [
        {
          "output_type": "stream",
          "name": "stdout",
          "text": [
            "hello\n"
          ]
        }
      ]
    },
    {
      "cell_type": "code",
      "source": [
        "def add(num1, num2):\n",
        "    print(num1 + num2)  # 반환 값이 없는 함수 \n",
        "\n",
        "a = add(4, 5)\n",
        "print(a)        # 반환 값이 없으므로 None 표시"
      ],
      "metadata": {
        "colab": {
          "base_uri": "https://localhost:8080/"
        },
        "id": "21Yrz40VxCf-",
        "outputId": "6296bfe5-f68f-4eca-a4b5-13099d6fca8e"
      },
      "execution_count": null,
      "outputs": [
        {
          "output_type": "stream",
          "name": "stdout",
          "text": [
            "9\n",
            "None\n"
          ]
        }
      ]
    },
    {
      "cell_type": "code",
      "source": [
        "def intro(name, age, sex=5):\n",
        "    print(\"나의 이름은 {}이고, {}살입니다.\".format(name, age))\n",
        "    if sex == 5:\n",
        "        print(\"나는 남자입니다.\")\n",
        "    else:\n",
        "        print(\"나는 여자입니다.\")\n",
        "\n",
        "intro(\"홍길동\", 30)\n",
        "\n",
        "intro(\"아이유\", 20, 3)"
      ],
      "metadata": {
        "colab": {
          "base_uri": "https://localhost:8080/"
        },
        "id": "sIrYSsHfxR3x",
        "outputId": "be459c15-b1d4-4480-a686-75a3da591fea"
      },
      "execution_count": null,
      "outputs": [
        {
          "output_type": "stream",
          "name": "stdout",
          "text": [
            "나의 이름은 홍길동이고, 30살입니다.\n",
            "나는 남자입니다.\n",
            "나의 이름은 아이유이고, 20살입니다.\n",
            "나는 여자입니다.\n"
          ]
        }
      ]
    },
    {
      "cell_type": "code",
      "source": [
        "def test():\n",
        "    a = 5   # 지역변수\n",
        "\n",
        "a = 0   # 전역변수\n",
        "test()\n",
        "print(a)"
      ],
      "metadata": {
        "colab": {
          "base_uri": "https://localhost:8080/"
        },
        "id": "ZsZHmWlUyFfV",
        "outputId": "d88db5bd-05c0-462d-c78c-9fa166c8cec1"
      },
      "execution_count": null,
      "outputs": [
        {
          "output_type": "stream",
          "name": "stdout",
          "text": [
            "0\n"
          ]
        }
      ]
    },
    {
      "cell_type": "code",
      "source": [
        "def test():\n",
        "    global a   # 전역변수 a 명시\n",
        "    a = 5      # 전역변수\n",
        "\n",
        "a = 0   # 전역변수\n",
        "test()\n",
        "print(a)"
      ],
      "metadata": {
        "colab": {
          "base_uri": "https://localhost:8080/"
        },
        "id": "-UXIdK79yfIn",
        "outputId": "ebe026ff-0e13-4339-b78e-501b85c1a35f"
      },
      "execution_count": null,
      "outputs": [
        {
          "output_type": "stream",
          "name": "stdout",
          "text": [
            "5\n"
          ]
        }
      ]
    },
    {
      "cell_type": "code",
      "source": [
        "# 재귀함수: 내가 나를 부르는 함수\n",
        "def fac(n):\n",
        "    a = 1\n",
        "    for i in range(1, n+1):\n",
        "        a = a * i\n",
        "    return a\n",
        "\n",
        "print(fac(5))"
      ],
      "metadata": {
        "colab": {
          "base_uri": "https://localhost:8080/"
        },
        "id": "VN4UXX_6yv5y",
        "outputId": "ba18fd37-096f-44fc-b4ef-dac4dcca9ab7"
      },
      "execution_count": null,
      "outputs": [
        {
          "output_type": "stream",
          "name": "stdout",
          "text": [
            "120\n"
          ]
        }
      ]
    },
    {
      "cell_type": "code",
      "source": [
        "def fac(n):\n",
        "    if n == 1:\n",
        "        return 1\n",
        "    else:\n",
        "        return n * fac(n-1)\n",
        "\n",
        "print(fac(5))"
      ],
      "metadata": {
        "colab": {
          "base_uri": "https://localhost:8080/"
        },
        "id": "GDRZgtyszLUU",
        "outputId": "3339d638-3689-4fe3-b6eb-d92c30779f17"
      },
      "execution_count": null,
      "outputs": [
        {
          "output_type": "stream",
          "name": "stdout",
          "text": [
            "120\n"
          ]
        }
      ]
    },
    {
      "cell_type": "markdown",
      "source": [
        "[실습예제]\n",
        "피보나치 수열에서 위치에 해당하는 값을 반환해주는 함수를 완성해보세요.  \n",
        "예) fibo함수에 5를 전달하면 5번째 피보나치 수열의 값을 반환하면 됩니다.  \n",
        "피보나치 수열: 0, 1, 1, 2, 3, 5, 8, 13, 21, ..."
      ],
      "metadata": {
        "id": "R4UrZpwPzgG3"
      }
    },
    {
      "cell_type": "code",
      "source": [
        "def fibo(n):\n",
        "    if n == 1: \n",
        "        return 0\n",
        "    elif n == 2:\n",
        "        return 1\n",
        "    else:\n",
        "        return(fibo(n-1)+fibo(n-2))\n",
        "\n",
        "print(fibo(7))"
      ],
      "metadata": {
        "colab": {
          "base_uri": "https://localhost:8080/"
        },
        "id": "S6qv6HsRzV88",
        "outputId": "8335b6f1-0ec1-4940-fc81-faed02bc70c8"
      },
      "execution_count": null,
      "outputs": [
        {
          "output_type": "stream",
          "name": "stdout",
          "text": [
            "8\n"
          ]
        }
      ]
    },
    {
      "cell_type": "code",
      "source": [],
      "metadata": {
        "id": "lpSw8tWg0B0h"
      },
      "execution_count": null,
      "outputs": []
    }
  ]
}