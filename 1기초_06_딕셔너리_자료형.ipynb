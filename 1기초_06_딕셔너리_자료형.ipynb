{
  "nbformat": 4,
  "nbformat_minor": 0,
  "metadata": {
    "colab": {
      "provenance": [],
      "collapsed_sections": [],
      "authorship_tag": "ABX9TyM5BF3fxH8GyX1Q+TYa1PxG",
      "include_colab_link": true
    },
    "kernelspec": {
      "name": "python3",
      "display_name": "Python 3"
    },
    "language_info": {
      "name": "python"
    }
  },
  "cells": [
    {
      "cell_type": "markdown",
      "metadata": {
        "id": "view-in-github",
        "colab_type": "text"
      },
      "source": [
        "<a href=\"https://colab.research.google.com/github/violet417/violet417/blob/main/1%EA%B8%B0%EC%B4%88_06_%EB%94%95%EC%85%94%EB%84%88%EB%A6%AC_%EC%9E%90%EB%A3%8C%ED%98%95.ipynb\" target=\"_parent\"><img src=\"https://colab.research.google.com/assets/colab-badge.svg\" alt=\"Open In Colab\"/></a>"
      ]
    },
    {
      "cell_type": "code",
      "source": [
        "# 딕셔너리 자료형: 대응 관계를 나타낼 수 있는 자료형\n",
        "# key값: 이름, 성별, 나이 | value값: 홍길동, 남자, 30\n",
        "dic = {'이름':'홍길동', '성별':'남자', '나이':30}\n",
        "print(dic)"
      ],
      "metadata": {
        "id": "doZeopk137wg",
        "colab": {
          "base_uri": "https://localhost:8080/"
        },
        "outputId": "99a049e8-c6c7-4514-b496-1e6747a64017"
      },
      "execution_count": null,
      "outputs": [
        {
          "output_type": "stream",
          "name": "stdout",
          "text": [
            "{'이름': '홍길동', '성별': '남자', '나이': 30}\n"
          ]
        }
      ]
    },
    {
      "cell_type": "code",
      "source": [
        "'''[딕셔너리 자료형 특징]\n",
        "1. 딕셔너리는 무조건 key값 기준으로 판단하고, 수행한다. \n",
        "2. 딕셔너리는 집합 형태로 구성되어 있어 순서가 없다. \n",
        "3. key값으로 리스트를 쓸 수 없다. \n",
        "4. 중복된 key값을 존재할 수 없다. \n",
        "5. key값으로 튜플은 가능하다. '''"
      ],
      "metadata": {
        "id": "x43gKfYY39D6"
      },
      "execution_count": null,
      "outputs": []
    },
    {
      "cell_type": "code",
      "source": [
        "# 딕셔너리에 값 추가하기\n",
        "dic = {'이름':'홍길동', '성별':'남자', '나이':30}\n",
        "dic['사는곳'] = '수원'\n",
        "print(dic)"
      ],
      "metadata": {
        "colab": {
          "base_uri": "https://localhost:8080/"
        },
        "id": "4hJ3F_He39Be",
        "outputId": "0a77dfc5-adf7-46ff-903a-c0df49df22ac"
      },
      "execution_count": null,
      "outputs": [
        {
          "output_type": "stream",
          "name": "stdout",
          "text": [
            "{'이름': '홍길동', '성별': '남자', '나이': 30, '사는곳': '수원'}\n"
          ]
        }
      ]
    },
    {
      "cell_type": "code",
      "source": [
        "# 딕셔너리에 값이 있는지 확인하기    | 무조건 key값 기준으로 확인\n",
        "dic = {'이름':'홍길동', '성별':'남자', '나이':30}\n",
        "print(\"이름\" in dic)\n",
        "print(\"홍길동\" in dic)"
      ],
      "metadata": {
        "colab": {
          "base_uri": "https://localhost:8080/"
        },
        "id": "XyjwsEWp38-y",
        "outputId": "cf8cb0a3-8007-422b-e1e5-cbd5a73a9f75"
      },
      "execution_count": null,
      "outputs": [
        {
          "output_type": "stream",
          "name": "stdout",
          "text": [
            "True\n",
            "False\n"
          ]
        }
      ]
    },
    {
      "cell_type": "code",
      "source": [
        "# 딕셔너리에 값 삭제하기\n",
        "dic = {'이름':'홍길동', '성별':'남자', '나이':30}\n",
        "del dic['나이']\n",
        "print(dic)"
      ],
      "metadata": {
        "colab": {
          "base_uri": "https://localhost:8080/"
        },
        "id": "UErMVFbS388J",
        "outputId": "6a6b6572-77ba-4372-89f9-07b47d4b7bab"
      },
      "execution_count": null,
      "outputs": [
        {
          "output_type": "stream",
          "name": "stdout",
          "text": [
            "{'이름': '홍길동', '성별': '남자'}\n"
          ]
        }
      ]
    },
    {
      "cell_type": "code",
      "source": [
        "# 딕셔너리 key값에 접근하기\n",
        "# 딕셔너리는 key값에만 접근 가능하다. value값에 접근시 오류발생\n",
        "dic = {'이름':'홍길동', '성별':'남자', '나이':30}\n",
        "print(dic['이름'])"
      ],
      "metadata": {
        "colab": {
          "base_uri": "https://localhost:8080/"
        },
        "id": "3WuHpceL385o",
        "outputId": "9be5437c-cda3-4071-a2e8-0a0eeb0e42fb"
      },
      "execution_count": null,
      "outputs": [
        {
          "output_type": "stream",
          "name": "stdout",
          "text": [
            "홍길동\n"
          ]
        }
      ]
    },
    {
      "cell_type": "code",
      "source": [
        "# 딕셔너리 값 변경하기\n",
        "dic = {'이름':'홍길동', '성별':'남자', '나이':30}\n",
        "dic['이름'] = '강동원'\n",
        "print(dic)"
      ],
      "metadata": {
        "colab": {
          "base_uri": "https://localhost:8080/"
        },
        "id": "lM1zietC382u",
        "outputId": "9adcd779-8ace-4305-c7f7-48ee831d2cbd"
      },
      "execution_count": null,
      "outputs": [
        {
          "output_type": "stream",
          "name": "stdout",
          "text": [
            "{'이름': '강동원', '성별': '남자', '나이': 30}\n"
          ]
        }
      ]
    },
    {
      "cell_type": "code",
      "source": [
        "# 딕셔너리는 중복된 key값을 가질 수 없다. | 마지막으로 입력된 key값이 저장됨. \n",
        "dic = {'이름':'홍길동', '이름':'강동원'}\n",
        "print(dic)"
      ],
      "metadata": {
        "colab": {
          "base_uri": "https://localhost:8080/"
        },
        "id": "E6gDJP0k38yi",
        "outputId": "cb9e9cda-b2cf-4ddc-e1d0-d6f4228dde10"
      },
      "execution_count": null,
      "outputs": [
        {
          "output_type": "stream",
          "name": "stdout",
          "text": [
            "{'이름': '강동원'}\n"
          ]
        }
      ]
    },
    {
      "cell_type": "code",
      "source": [
        "# 딕셔너리 전용함수: keys()\n",
        "dic = {'이름':'홍길동', '성별':'남자', '나이':30}\n",
        "print(dic.keys())\n",
        "print(list(dic.keys()))"
      ],
      "metadata": {
        "colab": {
          "base_uri": "https://localhost:8080/"
        },
        "id": "7ezT5A0658N4",
        "outputId": "7ad315fb-dd82-4f69-c112-05f21a65110e"
      },
      "execution_count": null,
      "outputs": [
        {
          "output_type": "stream",
          "name": "stdout",
          "text": [
            "dict_keys(['이름', '성별', '나이'])\n",
            "['이름', '성별', '나이']\n"
          ]
        }
      ]
    },
    {
      "cell_type": "code",
      "source": [
        "# 딕셔너리 전용함수: values()\n",
        "dic = {'이름':'홍길동', '성별':'남자', '나이':30}\n",
        "print(dic.values())\n",
        "print(list(dic.values()))"
      ],
      "metadata": {
        "colab": {
          "base_uri": "https://localhost:8080/"
        },
        "id": "Vgjcl0XP57e4",
        "outputId": "970da5a9-c94e-45f1-ab47-668007dd2a6a"
      },
      "execution_count": null,
      "outputs": [
        {
          "output_type": "stream",
          "name": "stdout",
          "text": [
            "dict_values(['홍길동', '남자', 30])\n",
            "['홍길동', '남자', 30]\n"
          ]
        }
      ]
    },
    {
      "cell_type": "code",
      "source": [
        "# 딕셔너리 전용함수: items()\n",
        "dic = {'이름':'홍길동', '성별':'남자', '나이':30}\n",
        "print(dic.items())\n",
        "print(list(dic.items()))"
      ],
      "metadata": {
        "colab": {
          "base_uri": "https://localhost:8080/"
        },
        "id": "e51oah6W38qu",
        "outputId": "686d1d7f-921d-4118-a98b-5fe5b0308ce7"
      },
      "execution_count": null,
      "outputs": [
        {
          "output_type": "stream",
          "name": "stdout",
          "text": [
            "dict_items([('이름', '홍길동'), ('성별', '남자'), ('나이', 30)])\n",
            "[('이름', '홍길동'), ('성별', '남자'), ('나이', 30)]\n"
          ]
        }
      ]
    },
    {
      "cell_type": "code",
      "execution_count": null,
      "metadata": {
        "colab": {
          "base_uri": "https://localhost:8080/"
        },
        "id": "DA7YrUERW5eG",
        "outputId": "beaf6067-b113-45d8-9025-cb3b9fd51ecc"
      },
      "outputs": [
        {
          "output_type": "stream",
          "name": "stdout",
          "text": [
            "{'죠스바': 1200, '메로나': 1500, '월드컵': 1800, '붕어싸만코': 2000}\n"
          ]
        }
      ],
      "source": [
        "'''<실습 예제>\n",
        "죠스바 1200원, 메로나 1500원, 월드컵 1800원\n",
        "\n",
        "1. 위의 아이스크림 정보를 아이스크림 이름은 key값, 가격은 value으로 하는\n",
        "딕셔너리를 만드신 후, 변수 dic에 저장하세요.\n",
        "2. 1에서 만든 변수 dic에 붕어싸만코 2000원에 대한 정보를 추가해보세요.\n",
        "(이름은 key, 가격은 value)\n",
        "3. 변수 dic에서 메로나에 대한 정보를 삭제해주세요.\n",
        "4. 변수 dic에서 죠스바의 가격을 1500원으로 변경해주세요.\n",
        "5. 변수 dic을 화면에 출력해보세요.\n",
        "6. 변수 dic의 key값들만 모두 출력해주세요.\n",
        "변수 dic의 value값들만 모두 출력해주세요. '''\n",
        "\n",
        "dic = {\"죠스바\":1200, \"메로나\":1500, \"월드컵\":1800}\n",
        "dic['붕어싸만코'] = 2000\n",
        "print(dic)"
      ]
    },
    {
      "cell_type": "code",
      "source": [
        "del dic['메로나']\n",
        "dic['죠스바'] = 1500\n",
        "print(dic)"
      ],
      "metadata": {
        "colab": {
          "base_uri": "https://localhost:8080/"
        },
        "id": "8vmxBuPLX7h1",
        "outputId": "bfa614db-7611-4f68-834c-7be400a07e30"
      },
      "execution_count": null,
      "outputs": [
        {
          "output_type": "stream",
          "name": "stdout",
          "text": [
            "{'죠스바': 1500, '월드컵': 1800, '붕어싸만코': 2000}\n"
          ]
        }
      ]
    },
    {
      "cell_type": "code",
      "source": [
        "print(dic.keys())\n",
        "print(list(dic.keys()))\n",
        "print(dic.values())\n",
        "print(list(dic.values()))\n",
        "print(dic.items())\n",
        "print(list(dic.items()))"
      ],
      "metadata": {
        "colab": {
          "base_uri": "https://localhost:8080/"
        },
        "id": "vkzLsM-IYLgn",
        "outputId": "a3c39780-a2cc-4edb-c5f8-b8016bab43f1"
      },
      "execution_count": null,
      "outputs": [
        {
          "output_type": "stream",
          "name": "stdout",
          "text": [
            "dict_keys(['죠스바', '월드컵', '붕어싸만코'])\n",
            "['죠스바', '월드컵', '붕어싸만코']\n",
            "dict_values([1500, 1800, 2000])\n",
            "[1500, 1800, 2000]\n",
            "dict_items([('죠스바', 1500), ('월드컵', 1800), ('붕어싸만코', 2000)])\n",
            "[('죠스바', 1500), ('월드컵', 1800), ('붕어싸만코', 2000)]\n"
          ]
        }
      ]
    },
    {
      "cell_type": "code",
      "source": [],
      "metadata": {
        "id": "N9h_-T-rYQw4"
      },
      "execution_count": null,
      "outputs": []
    }
  ]
}