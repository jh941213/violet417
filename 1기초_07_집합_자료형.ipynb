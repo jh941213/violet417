{
  "nbformat": 4,
  "nbformat_minor": 0,
  "metadata": {
    "colab": {
      "provenance": [],
      "collapsed_sections": [],
      "authorship_tag": "ABX9TyPBfidO8ncC/a9QBzPzFb+9",
      "include_colab_link": true
    },
    "kernelspec": {
      "name": "python3",
      "display_name": "Python 3"
    },
    "language_info": {
      "name": "python"
    }
  },
  "cells": [
    {
      "cell_type": "markdown",
      "metadata": {
        "id": "view-in-github",
        "colab_type": "text"
      },
      "source": [
        "<a href=\"https://colab.research.google.com/github/violet417/violet417/blob/main/1%EA%B8%B0%EC%B4%88_07_%EC%A7%91%ED%95%A9_%EC%9E%90%EB%A3%8C%ED%98%95.ipynb\" target=\"_parent\"><img src=\"https://colab.research.google.com/assets/colab-badge.svg\" alt=\"Open In Colab\"/></a>"
      ]
    },
    {
      "cell_type": "code",
      "source": [
        "# 집합 자료형: 집합 형태로 이루어진 자료형\n",
        "s1 = set([1,2,3,1,1,1])\n",
        "print(s1)"
      ],
      "metadata": {
        "colab": {
          "base_uri": "https://localhost:8080/"
        },
        "id": "2xu35O6S11Il",
        "outputId": "9b5e3631-abbd-4a17-b12b-8902d061479e"
      },
      "execution_count": null,
      "outputs": [
        {
          "output_type": "stream",
          "name": "stdout",
          "text": [
            "{1, 2, 3}\n"
          ]
        }
      ]
    },
    {
      "cell_type": "code",
      "source": [
        "s1 = set('Hello World!')\n",
        "print(s1)"
      ],
      "metadata": {
        "colab": {
          "base_uri": "https://localhost:8080/"
        },
        "id": "9b7KXcgS1387",
        "outputId": "b9356799-23da-45ae-c770-b5eb0a9a7a74"
      },
      "execution_count": null,
      "outputs": [
        {
          "output_type": "stream",
          "name": "stdout",
          "text": [
            "{' ', 'W', 'l', 'o', 'r', 'd', 'H', '!', 'e'}\n"
          ]
        }
      ]
    },
    {
      "cell_type": "code",
      "source": [
        "'''[집합 자료형 특징]\n",
        "1. 중복을 허용하지 않는다.\n",
        "2. 순서가 없다. \n",
        "3. 중복된 데이터를 삭제할 때 많이 사용된다. '''"
      ],
      "metadata": {
        "id": "BafLD65N13xT"
      },
      "execution_count": null,
      "outputs": []
    },
    {
      "cell_type": "code",
      "source": [
        "# 집합 리스트로 변환하기\n",
        "s1 = set(\"Hello World!\")\n",
        "s1 = list(s1)\n",
        "print(s1)"
      ],
      "metadata": {
        "colab": {
          "base_uri": "https://localhost:8080/"
        },
        "id": "_dgRWM-k12CC",
        "outputId": "70aa67fd-e588-49c0-bac1-4cfbd17a8974"
      },
      "execution_count": null,
      "outputs": [
        {
          "output_type": "stream",
          "name": "stdout",
          "text": [
            "[' ', 'W', 'l', 'o', 'r', 'd', 'H', '!', 'e']\n"
          ]
        }
      ]
    },
    {
      "cell_type": "code",
      "source": [
        "# 집합 튜플로 변환하기\n",
        "s1 = set(\"Hello World!\")\n",
        "s1 = tuple(s1)\n",
        "print(s1)"
      ],
      "metadata": {
        "colab": {
          "base_uri": "https://localhost:8080/"
        },
        "id": "qnoTLndc2h2x",
        "outputId": "5340eb43-84c7-4fd5-8cd6-3762ff82dab9"
      },
      "execution_count": null,
      "outputs": [
        {
          "output_type": "stream",
          "name": "stdout",
          "text": [
            "(' ', 'W', 'l', 'o', 'r', 'd', 'H', '!', 'e')\n"
          ]
        }
      ]
    },
    {
      "cell_type": "code",
      "source": [
        "# 교집합(intersection)\n",
        "s1 = set([1,2,3,4,5,6])\n",
        "s2 = set([4,5,6,7,8,9])\n",
        "print(s1 & s2)"
      ],
      "metadata": {
        "colab": {
          "base_uri": "https://localhost:8080/"
        },
        "id": "HszHTxk72hvi",
        "outputId": "e6707225-6fcb-4d20-8c89-2969a69ec128"
      },
      "execution_count": null,
      "outputs": [
        {
          "output_type": "stream",
          "name": "stdout",
          "text": [
            "{4, 5, 6}\n"
          ]
        }
      ]
    },
    {
      "cell_type": "code",
      "source": [
        "# 합집합(union)\n",
        "s1 = set([1,2,3,4,5,6])\n",
        "s2 = set([4,5,6,7,8,9])\n",
        "print(s1 | s2)"
      ],
      "metadata": {
        "colab": {
          "base_uri": "https://localhost:8080/"
        },
        "id": "a6FOV_Gr2hjv",
        "outputId": "49f620a2-c9e8-4f81-8f0f-3a9540174ab8"
      },
      "execution_count": null,
      "outputs": [
        {
          "output_type": "stream",
          "name": "stdout",
          "text": [
            "{1, 2, 3, 4, 5, 6, 7, 8, 9}\n"
          ]
        }
      ]
    },
    {
      "cell_type": "code",
      "source": [
        "# 차집합\n",
        "s1 = set([1,2,3,4,5,6])\n",
        "s2 = set([4,5,6,7,8,9])\n",
        "print(s1 - s2)\n",
        "print(s2 - s1)"
      ],
      "metadata": {
        "colab": {
          "base_uri": "https://localhost:8080/"
        },
        "id": "S-Wy6cPp26lY",
        "outputId": "8fb648e8-666a-4b20-ec46-954ca5c8c231"
      },
      "execution_count": null,
      "outputs": [
        {
          "output_type": "stream",
          "name": "stdout",
          "text": [
            "{1, 2, 3}\n",
            "{8, 9, 7}\n"
          ]
        }
      ]
    },
    {
      "cell_type": "code",
      "source": [
        "# 집합 전용함수: add | 하나의 값을 추가. 중복된 데이터는 처리하지 않음. \n",
        "s1 = set([1,2,3,4,5,6])\n",
        "s1.add(7)\n",
        "print(s1)\n",
        "s1.add(3)\n",
        "print(s1)"
      ],
      "metadata": {
        "colab": {
          "base_uri": "https://localhost:8080/"
        },
        "id": "I_IdBR1x3DWn",
        "outputId": "333101a4-0283-4f33-b902-17c3b088c664"
      },
      "execution_count": null,
      "outputs": [
        {
          "output_type": "stream",
          "name": "stdout",
          "text": [
            "{1, 2, 3, 4, 5, 6, 7}\n",
            "{1, 2, 3, 4, 5, 6, 7}\n"
          ]
        }
      ]
    },
    {
      "cell_type": "code",
      "source": [
        "# 집합 전용함수: update | 여러개의 값을 추가\n",
        "s1 = set([1,2,3,4,5,6])\n",
        "s1.update([7,8,9,10]) \n",
        "print(s1)"
      ],
      "metadata": {
        "colab": {
          "base_uri": "https://localhost:8080/"
        },
        "id": "u-w0D9T23EZc",
        "outputId": "2344262a-b979-485b-af8e-f884be2a3a01"
      },
      "execution_count": null,
      "outputs": [
        {
          "output_type": "stream",
          "name": "stdout",
          "text": [
            "{1, 2, 3, 4, 5, 6, 7, 8, 9, 10}\n"
          ]
        }
      ]
    },
    {
      "cell_type": "code",
      "source": [
        "# 집합 전용함수: remove\n",
        "s1 = set([1,2,3,4,5,6])\n",
        "s1.remove(6)\n",
        "print(s1)"
      ],
      "metadata": {
        "colab": {
          "base_uri": "https://localhost:8080/"
        },
        "id": "0B8_amwS3otD",
        "outputId": "eccb60e1-72ec-4bdb-a929-195148206bf9"
      },
      "execution_count": null,
      "outputs": [
        {
          "output_type": "stream",
          "name": "stdout",
          "text": [
            "{1, 2, 3, 4, 5}\n"
          ]
        }
      ]
    },
    {
      "cell_type": "code",
      "source": [
        "# 멤버연산자 (값이 있으면 True / 없으면 False)\n",
        "s1 = set([1,2,3,4,5,6])\n",
        "print(5 in s1)"
      ],
      "metadata": {
        "id": "8rPT8i-LsLej",
        "outputId": "9f5ffcc6-f1b2-47e1-86ca-a394e562b9ad",
        "colab": {
          "base_uri": "https://localhost:8080/"
        }
      },
      "execution_count": null,
      "outputs": [
        {
          "output_type": "stream",
          "name": "stdout",
          "text": [
            "True\n"
          ]
        }
      ]
    },
    {
      "cell_type": "code",
      "execution_count": null,
      "metadata": {
        "id": "TSIWbj1DZFGy",
        "colab": {
          "base_uri": "https://localhost:8080/"
        },
        "outputId": "0460e33b-980d-4471-aed4-dab29e712803"
      },
      "outputs": [
        {
          "output_type": "stream",
          "name": "stdout",
          "text": [
            "(5, 4, 3, 2, 1)\n"
          ]
        }
      ],
      "source": [
        "'''<실습 예제>\n",
        "list1 = [1,1,1,1,2,2,2,2,4,4,4,4,5,5,5,5,5,3,3,3,3]\n",
        "리스트 값이 들어있는 변수 list1을 (5,4,3,2,1)로 변환한 후,\n",
        "set1 = set([3,4,5,6,7])\n",
        "변수 set1과의 교집합, 합집합을 화면에 출력해보세요.'''\n",
        "\n",
        "list1 = [1,1,1,1,2,2,2,2,4,4,4,4,5,5,5,5,5,3,3,3,3]\n",
        "list1 = set(list1)\n",
        "list1 = list(list1)\n",
        "list1.sort(reverse=True)\n",
        "list1 = tuple(list1)\n",
        "print(list1)"
      ]
    },
    {
      "cell_type": "code",
      "source": [
        "set1 = set([3,4,5,6,7])\n",
        "list1 = set(list1)\n",
        "print('교집합', set1 & list1)\n",
        "print('합집합', set1 | list1)"
      ],
      "metadata": {
        "colab": {
          "base_uri": "https://localhost:8080/"
        },
        "id": "A9eWmwHRa4ns",
        "outputId": "a4ba615f-c43b-4793-a2a9-651153399e46"
      },
      "execution_count": null,
      "outputs": [
        {
          "output_type": "stream",
          "name": "stdout",
          "text": [
            "교집합 {3, 4, 5}\n",
            "합집합 {1, 2, 3, 4, 5, 6, 7}\n"
          ]
        }
      ]
    },
    {
      "cell_type": "code",
      "source": [],
      "metadata": {
        "id": "7qvx8YN6bQ1-"
      },
      "execution_count": null,
      "outputs": []
    }
  ]
}