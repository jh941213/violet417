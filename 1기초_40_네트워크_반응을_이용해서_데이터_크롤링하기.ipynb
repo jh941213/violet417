{
  "nbformat": 4,
  "nbformat_minor": 0,
  "metadata": {
    "colab": {
      "provenance": [],
      "authorship_tag": "ABX9TyO1zPHKFmKcwHfU9BSG52NY",
      "include_colab_link": true
    },
    "kernelspec": {
      "name": "python3",
      "display_name": "Python 3"
    },
    "language_info": {
      "name": "python"
    }
  },
  "cells": [
    {
      "cell_type": "markdown",
      "metadata": {
        "id": "view-in-github",
        "colab_type": "text"
      },
      "source": [
        "<a href=\"https://colab.research.google.com/github/violet417/violet417/blob/main/1%EA%B8%B0%EC%B4%88_40_%EB%84%A4%ED%8A%B8%EC%9B%8C%ED%81%AC_%EB%B0%98%EC%9D%91%EC%9D%84_%EC%9D%B4%EC%9A%A9%ED%95%B4%EC%84%9C_%EB%8D%B0%EC%9D%B4%ED%84%B0_%ED%81%AC%EB%A1%A4%EB%A7%81%ED%95%98%EA%B8%B0.ipynb\" target=\"_parent\"><img src=\"https://colab.research.google.com/assets/colab-badge.svg\" alt=\"Open In Colab\"/></a>"
      ]
    },
    {
      "cell_type": "markdown",
      "source": [
        "#### 데이터크롤링 방법\n",
        "\n",
        "① request  \n",
        "② selenium  \n",
        "③ 네트워크 반응"
      ],
      "metadata": {
        "id": "mPSoIk3IfLxe"
      }
    },
    {
      "cell_type": "code",
      "execution_count": null,
      "metadata": {
        "id": "O-nlEgFPeMgm"
      },
      "outputs": [],
      "source": [
        "# 네트워크 반응 보기: Ctrl + Shift + i"
      ]
    },
    {
      "cell_type": "markdown",
      "source": [
        "#### json\n",
        "- JavaScript Object Notation이라는 의미의 축약어\n",
        "- 데이터를 저장하거나 전송할 때 많이 사용되는 경량의 Data 교환 형식\n",
        "- 형태는 Python의 딕셔너리와 유사\n",
        "\n",
        "```\n",
        "import json\n",
        "json.loads(str(json))    # 문자열로 변환 -> 딕셔너리 형태로 가져옴. \n",
        "```"
      ],
      "metadata": {
        "id": "x8PcqvQtem6g"
      }
    },
    {
      "cell_type": "code",
      "source": [
        "import json\n",
        "import requests\n",
        "import pandas as pd\n",
        "from bs4 import BeautifulSoup"
      ],
      "metadata": {
        "id": "UTFpGSyzfBd8"
      },
      "execution_count": null,
      "outputs": []
    },
    {
      "cell_type": "code",
      "source": [
        "url = requests.get('https://upbit.com/service_center/disclosure')\n",
        "html = BeautifulSoup(url.text)  # \n",
        "html"
      ],
      "metadata": {
        "colab": {
          "base_uri": "https://localhost:8080/"
        },
        "id": "4AwuqZyqgxnJ",
        "outputId": "da1e14c3-6c77-43b6-b572-35780fd3f516"
      },
      "execution_count": null,
      "outputs": [
        {
          "output_type": "execute_result",
          "data": {
            "text/plain": [
              "<!DOCTYPE html>\n",
              "<html>\n",
              "<head>\n",
              "<title>업비트 - 가장 신뢰받는 디지털 자산 거래소</title>\n",
              "<meta content=\"디지털 자산, 비트코인, 이더리움, 리플, 에이다, 솔라나 등 알트코인 거래.\" name=\"description\"/>\n",
              "<meta content=\"web, software, mobile, app, upbit, 업빗, 업비트, bitcoin, 비트코인, 디지털, 자산\" name=\"keywords\"/>\n",
              "<meta content=\"/service_center/disclosure\" property=\"og:url\"/>\n",
              "<meta content=\"업비트 - 가장 신뢰받는 디지털 자산 거래소\" property=\"og:site_name\"/>\n",
              "<meta content=\"업비트\" property=\"og:title\"/>\n",
              "<meta content=\"https://static.upbit.com/upbit-pc/seo/upbit_facebook.png\" property=\"og:image\"/>\n",
              "<meta content=\"1200\" property=\"og:image:width\"/>\n",
              "<meta content=\"627\" property=\"og:image:height\"/>\n",
              "<meta content=\"디지털 자산, 비트코인, 이더리움, 리플, 에이다, 솔라나 등 알트코인 거래.\" property=\"og:description\"/>\n",
              "<meta content=\"ko_kr\" property=\"og:locale\"/>\n",
              "<meta content=\"website\" property=\"og:type\"/>\n",
              "<meta content=\"summary\" name=\"twitter:card\"/>\n",
              "<meta content=\"/service_center/disclosure\" name=\"twitter:url\"/>\n",
              "<meta content=\"업비트 - 가장 신뢰받는 디지털 자산 거래소\" name=\"twitter:site_name\"/>\n",
              "<meta content=\"업비트\" name=\"twitter:title\"/>\n",
              "<meta content=\"https://static.upbit.com/upbit-pc/seo/upbit_facebook.png\" name=\"twitter:image\"/>\n",
              "<meta content=\"1200\" name=\"twitter:image:width\"/>\n",
              "<meta content=\"627\" name=\"twitter:image:height\"/>\n",
              "<meta content=\"디지털 자산, 비트코인, 이더리움, 리플, 에이다, 솔라나 등 알트코인 거래.\" name=\"twitter:description\"/>\n",
              "<meta content=\"ko_kr\" name=\"twitter:locale\"/>\n",
              "<meta content=\"website\" name=\"twitter:type\"/>\n",
              "<meta content=\"두나무\" name=\"author\"/>\n",
              "<meta content=\"https://static.upbit.com/upbit-pc/seo/upbit_facebook.png\" name=\"image\"/>\n",
              "<meta content=\"Mon, 06 Jan 1990 00:00:01 GMT\" http-equiv=\"Expires\"/><meta content=\"-1\" http-equiv=\"Expires\"/><meta content=\"no-cache\" http-equiv=\"Pragma\"/><meta content=\"no-cache\" http-equiv=\"Cache-Control\"/><meta charset=\"utf-8\"/><meta content=\"IE=edge\" http-equiv=\"X-UA-Compatible\"/><meta content=\"telephone=no\" name=\"format-detection\"/><meta content=\"width=device-width,user-scalable=no,initial-scale=1,maximum-scale=1,minimum-scale=1\" name=\"viewport\"/><meta content=\"width=device-width,initial-scale=1,maximum-scale=1,minimum-scale=1,user-scalable=no\" name=\"viewport\"/><link href=\"/favicon.jpg\" rel=\"icon\" sizes=\"32x32\" type=\"image/jpg\"/><link href=\"/favicon.jpg\" rel=\"shortcut icon\"/><link href=\"/manifest.json\" rel=\"manifest\"/><noscript><img height=\"1\" src=\"https://www.facebook.com/tr?id=621223061560463&amp;ev=PageView&amp;noscript=1\" width=\"1\"/></noscript><script src=\"https://t1.daumcdn.net/mapjsapi/bundle/postcode/prod/postcode.v2.js\"></script><script defer=\"defer\" src=\"https://cdn.upbit.com/upbit-web/manifest-bundle-d92636635d5bd6b0be40.js\"></script><script defer=\"defer\" src=\"https://cdn.upbit.com/upbit-web/client-source-bundle-9c9e86b2463b38415eb9.js\"></script><script defer=\"defer\" src=\"https://cdn.upbit.com/upbit-web/locale-vendor-bundle-43672c1cea59388eb18b.js\"></script><script defer=\"defer\" src=\"https://cdn.upbit.com/upbit-web/react-vendor-bundle-e583187ecce3d5bbe0eb.js\"></script><script defer=\"defer\" src=\"https://cdn.upbit.com/upbit-web/lodash-vendor-bundle-30221a96781006465ba4.js\"></script><script defer=\"defer\" src=\"https://cdn.upbit.com/upbit-web/vendors-bundle-3183afde1176d46ab384.js\"></script><script defer=\"defer\" src=\"https://cdn.upbit.com/upbit-web/commons-bundle-1ce04a4e81b685f78d79.js\"></script><script defer=\"defer\" src=\"https://cdn.upbit.com/upbit-web/KR_PC-bundle-acd9221a3c84b2baad34.js\"></script><link href=\"https://cdn.upbit.com/upbit-web/react-vendor-common-e583187ecce3d5bbe0eb.css\" rel=\"stylesheet\"/><link href=\"https://cdn.upbit.com/upbit-web/vendors-common-3183afde1176d46ab384.css\" rel=\"stylesheet\"/><link href=\"https://cdn.upbit.com/upbit-web/commons-common-1ce04a4e81b685f78d79.css\" rel=\"stylesheet\"/><link href=\"https://cdn.upbit.com/upbit-web/KR_PC-common-acd9221a3c84b2baad34.css\" rel=\"stylesheet\"/></head><body><div id=\"root\"></div><div id=\"modal\"></div></body></html>"
            ]
          },
          "metadata": {},
          "execution_count": 7
        }
      ]
    },
    {
      "cell_type": "code",
      "source": [
        "# 네트워크 반응으로 확인하는 방법\n",
        "# 공지사항 클릭 후 Ctrl + Shift + i -> 네트워크 탭 확인 -> 프로젝트 공시 클릭 -> 네트워크 반응 확인 \n",
        "# 주소창에 'disclosure, 네트워크 반응에 disclosure 적힌 Name 반응 확인 -> 오른쪾 버튼 open in new tab 클릭\n",
        "\n",
        "import json\n",
        "\n",
        "url = requests.get('https://project-team.upbit.com/api/v1/disclosure?region=kr&per_page=20')\n",
        "data = json.loads(url.text)   \n",
        "data['data']['posts']    # text가 key값, 제목이 value값 -> data key값 접근 -> posts key값 접근 -> 리스트를 불러옴\n",
        "\n",
        "for i in data['data']['posts']:\n",
        "    print(i['text'])"
      ],
      "metadata": {
        "colab": {
          "base_uri": "https://localhost:8080/"
        },
        "id": "DRXaS0NLhaIt",
        "outputId": "0ab7ca9d-6d66-4e21-dc9a-10f88630ead2"
      },
      "execution_count": null,
      "outputs": [
        {
          "output_type": "stream",
          "name": "stdout",
          "text": [
            "[기공개] 리브랜딩 : 피체인(PCHAIN)이 플리안(Plian)으로 바뀝니다\n",
            "어뷰징 물량 회수 및 소각 공시\n",
            "RINGX 재단, 롯데슈퍼와 업무 제휴 협약 체결\n",
            "베트남 기업 '마켓 사이공'에 블록체인 모빌리티 플랫폼 수출(SaaS)\n",
            "[기공개] 카르테시 x Travala 파트너십 체결\n",
            "[기공개] 엔진, 한국 최대 소셜 게이밍 플랫폼(겜톡톡)과 파트너십... 친환경 NFT 도입 예정\n",
            "[기공개] 플레이댑, 루데나 프로토콜 NFT아이템 거래 지원 계약\n",
            "[기공개] Bifrost PAID Network와 업무 협력 파트너쉽 체결\n",
            "[기공개] 칠리즈, 맨체스터 시티 FC 파트너십 발표\n",
            "[기공개] 토큰 액면 병합: NPXS가 PUNDIX로 바뀝니다.\n",
            "[기공개] 크립토닷컴, 비자와 글로벌 파트너쉽 체결 및 주요 회원사로 선정\n",
            "[기공개] 메디블록, 블록체인 기반의 DID 백신패스 출시 예정\n",
            "[기공개] P2P 마켓플레이스 오리진 프로토콜 , NFT 및 OUSD 라이트페이퍼 출시\n",
            "5조원 규모 초대형 북미 펀드인 Celsius Network에서 GOM2에 투자\n",
            "인도네시아 기업 '퀵스'에 MVL 프로토콜 기반 모빌리티 서비스 플랫폼 수출(SaaS)\n",
            "오브스(Orbs), 블록체인 기업 MOONSTAKE와 협업\n",
            "쎄타랩스, 분산형 비디오 및 데이터 전송을 지원하기 위한 초고 트랜잭션 처리량 소액 결제에 대한 두번째 미국특허취득\n",
            "픽션 네트워크, 신임 대표이사 선출\n",
            "RINGX 재단, OK캐쉬백((주)위페이)과 ‘마이비(Mivy)’ 플랫폼 전환 협업 진행\n",
            "토카막 다오 베타 출시\n"
          ]
        }
      ]
    },
    {
      "cell_type": "code",
      "source": [],
      "metadata": {
        "id": "rqZblHI3iPM8"
      },
      "execution_count": null,
      "outputs": []
    }
  ]
}