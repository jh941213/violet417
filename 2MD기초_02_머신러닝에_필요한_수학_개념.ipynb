{
  "nbformat": 4,
  "nbformat_minor": 0,
  "metadata": {
    "colab": {
      "provenance": [],
      "authorship_tag": "ABX9TyNfMUuCzao9hOkdTj0dRBa0",
      "include_colab_link": true
    },
    "kernelspec": {
      "name": "python3",
      "display_name": "Python 3"
    },
    "language_info": {
      "name": "python"
    }
  },
  "cells": [
    {
      "cell_type": "markdown",
      "metadata": {
        "id": "view-in-github",
        "colab_type": "text"
      },
      "source": [
        "<a href=\"https://colab.research.google.com/github/violet417/violet417/blob/main/2MD%EA%B8%B0%EC%B4%88_02_%EB%A8%B8%EC%8B%A0%EB%9F%AC%EB%8B%9D%EC%97%90_%ED%95%84%EC%9A%94%ED%95%9C_%EC%88%98%ED%95%99_%EA%B0%9C%EB%85%90.ipynb\" target=\"_parent\"><img src=\"https://colab.research.google.com/assets/colab-badge.svg\" alt=\"Open In Colab\"/></a>"
      ]
    },
    {
      "cell_type": "markdown",
      "source": [
        "#### 기초 선형대수\n",
        "- 데이터를 다루는 법, 연립방정식을 사용하여 미지수의 값을 구하는 법 등에 사용되는 데이터 분석의 기본적인 도구\n",
        "\n",
        "#### 데이터와 행렬\n",
        "- 선형대수는 데이터 분석에 필요한 각종 계산을 돕는 학문  \n",
        "- 선형대수에서 다루는 데이터는 개수나 형태에 따라 스칼라, 벡터, 행렬, 텐서 유형으로 나뉨.   \n",
        "① 스칼라: 숫자 하나로 이루어진 데이터    \n",
        "② 벡터: 여러 숫자로 이루어진 데이터 레코드  \n",
        "③ 행렬: 벡터가 여러 개인 데이터 집합  \n",
        "④ 텐서: 같은 크기의 행렬이 여러 개 있는 것  "
      ],
      "metadata": {
        "id": "5ndSgHZwHfvU"
      }
    },
    {
      "cell_type": "code",
      "execution_count": null,
      "metadata": {
        "colab": {
          "base_uri": "https://localhost:8080/"
        },
        "id": "X5Eozpb2HHgI",
        "outputId": "db1f1575-4ee1-4e55-d9fe-619d15368b1f"
      },
      "outputs": [
        {
          "output_type": "stream",
          "name": "stdout",
          "text": [
            "[0 1 2 3 4 5]\n",
            "[[1 2 3]\n",
            " [4 5 6]]\n"
          ]
        }
      ],
      "source": [
        "# 파이썬에서 선형대수\n",
        "import numpy as np\n",
        "\n",
        "print(np.array([0,1,2,3,4,5]))        # 1차원 행렬\n",
        "print(np.array([[1,2,3],[4,5,6]]))    # 2행 3열, 2차원 행렬"
      ]
    },
    {
      "cell_type": "markdown",
      "source": [
        "#### 행렬의 덧셈과 뺄셈\n",
        "- 같은 크기를 가진 두 개의 벡터나 행렬은 덧셈과 뺄셈을 할 수 있다. "
      ],
      "metadata": {
        "id": "Jkhft28pMcdr"
      }
    },
    {
      "cell_type": "markdown",
      "source": [
        "#### 스칼라와 벡터/행렬의 곱셈\n",
        "- 행렬에 스칼라슷 곱하면 모든 원소에 스칼라를 곱하는 것과 같다. \n",
        "\n",
        "#### 내적: 벡터끼리의 곱셈  \n",
        "1. 두 벡터의 차원(길이)이 같아야 한다. \n",
        "2. 앞의 벡터가 행 벡터이고, 뒤의 벡터가 열 벡터이어야 한다. "
      ],
      "metadata": {
        "id": "PDS9E0wtMnOH"
      }
    },
    {
      "cell_type": "markdown",
      "source": [
        "#### 일차함수\n",
        "y = ax + b (a!=0)\n",
        "\n",
        "① 기울기: a (y값의 증가량 / x값의 증가량) = tan⊖  \n",
        "② y절편: 곡선과 y축이 만나는 점. x=0일 때 값  \n",
        "③ x절편: 곡선과 x축이 만나는 점. y=0일 때 값  \n",
        "④ x절편이 a이고, y절편이 b인 직선의 방정식 x/a + y/b = 1  \n",
        "⑤ 기울기가 m이고, 한 점(a,b)를 지나는 직선 y=m(x-a)+b  \n",
        "- 기울기가 클수록 y축으로 경사가 급해지고, 작을수록 x축으로 경사가 급해짐. "
      ],
      "metadata": {
        "id": "BR-e3-vpNQUC"
      }
    },
    {
      "cell_type": "markdown",
      "source": [
        "#### 이차함수\n",
        "y = ax^2 (a>0)\n",
        "위 그래프의 x를 p, y를 q만큼 평행이동 => y = a(x-p)^2 + p   \n",
        "  \n",
        "x축으로 대칭하면 y = -ax^2  \n",
        "- 이차함수 x의 근은 y = 0과 만나는 교점에 해당하므로 이차방정식 = 0의 해를 구하는 것과 같음. \n",
        "\n",
        "\n"
      ],
      "metadata": {
        "id": "168W5MKpSXqW"
      }
    },
    {
      "cell_type": "markdown",
      "source": [
        "#### 연립방정식\n",
        "- 두 개 이상 묶어놓은 방정식\n",
        "- 연립방정식은 일반적으로 대입법과 가감법을 이용해서 특정 문자들을 소거함으로써, 식을 간편화로 바꾸어서 해를 구한다."
      ],
      "metadata": {
        "id": "Kw3FxQ-B_tTk"
      }
    },
    {
      "cell_type": "code",
      "source": [
        "# 연립방정식\n",
        "import numpy as np\n",
        "\n",
        "a = np.array([[5,-2], [4,5]])\n",
        "b = np.array([-13,-6])\n",
        "\n",
        "x = np.linalg.solve(a,b)\n",
        "x"
      ],
      "metadata": {
        "colab": {
          "base_uri": "https://localhost:8080/"
        },
        "id": "WhUoVwr1Ls47",
        "outputId": "cd2b0137-74da-4afe-e108-552582477c77"
      },
      "execution_count": null,
      "outputs": [
        {
          "output_type": "execute_result",
          "data": {
            "text/plain": [
              "array([-2.33333333,  0.66666667])"
            ]
          },
          "metadata": {},
          "execution_count": 2
        }
      ]
    },
    {
      "cell_type": "markdown",
      "source": [
        "#### 함수\n",
        "- 함수는 입력 데이터를 받아서 출력 데이터를 만들어 내보내는 과정"
      ],
      "metadata": {
        "id": "P9gFuw9kCVm5"
      }
    },
    {
      "cell_type": "markdown",
      "source": [
        "#### 미분(기울기)\n",
        "- 어떤 함수로부터 그 함수 기울기를 출력하는 새로운 함수를 만들어내는 작업\n",
        "- 미분이 0이 되는 지점이 오차가 가장 적은 지점\n",
        "- 상수를 미분하면 0,  \n",
        "거듭제곱에 대한 값을 미분하면,   \n",
        "![미분.png](data:image/png;base64,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)"
      ],
      "metadata": {
        "id": "tkAxAeYQCgId"
      }
    },
    {
      "cell_type": "code",
      "source": [
        "# SymPy를 활용한 미분\n",
        "import sympy\n",
        "\n",
        "x = sympy.symbols('x')\n",
        "f = x * sympy.exp(x)    # f = x*e^x (e = 자연상수)\n",
        "\n",
        "print(f)\n",
        "f_diff = sympy.diff(f)    # diff 미분\n",
        "print(f_diff)"
      ],
      "metadata": {
        "id": "9XN6iVhUMLLV",
        "colab": {
          "base_uri": "https://localhost:8080/"
        },
        "outputId": "6ca13844-d973-47bc-d9c8-17f89a6ba57f"
      },
      "execution_count": null,
      "outputs": [
        {
          "output_type": "stream",
          "name": "stdout",
          "text": [
            "x*exp(x)\n",
            "x*exp(x) + exp(x)\n"
          ]
        }
      ]
    },
    {
      "cell_type": "code",
      "source": [],
      "metadata": {
        "id": "mtB6qa9wBz2u"
      },
      "execution_count": null,
      "outputs": []
    },
    {
      "cell_type": "markdown",
      "source": [],
      "metadata": {
        "id": "GGGx7mmeILL0"
      }
    }
  ]
}