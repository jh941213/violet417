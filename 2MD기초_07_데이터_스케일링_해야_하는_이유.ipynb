{
  "nbformat": 4,
  "nbformat_minor": 0,
  "metadata": {
    "colab": {
      "provenance": [],
      "authorship_tag": "ABX9TyOyuJTTTXH2uE1mvOZWTxHk",
      "include_colab_link": true
    },
    "kernelspec": {
      "name": "python3",
      "display_name": "Python 3"
    },
    "language_info": {
      "name": "python"
    }
  },
  "cells": [
    {
      "cell_type": "markdown",
      "metadata": {
        "id": "view-in-github",
        "colab_type": "text"
      },
      "source": [
        "<a href=\"https://colab.research.google.com/github/violet417/violet417/blob/main/2MD%EA%B8%B0%EC%B4%88_07_%EB%8D%B0%EC%9D%B4%ED%84%B0_%EC%8A%A4%EC%BC%80%EC%9D%BC%EB%A7%81_%ED%95%B4%EC%95%BC_%ED%95%98%EB%8A%94_%EC%9D%B4%EC%9C%A0.ipynb\" target=\"_parent\"><img src=\"https://colab.research.google.com/assets/colab-badge.svg\" alt=\"Open In Colab\"/></a>"
      ]
    },
    {
      "cell_type": "markdown",
      "source": [
        "#### 데이터 스케일링이란?\n",
        "- 데이터 전처리 과정\n",
        "- 데이터 특성의 범위 또는 분포를 같게 만드는 작업"
      ],
      "metadata": {
        "id": "GC7xsvjOxfDY"
      }
    },
    {
      "cell_type": "markdown",
      "source": [
        "#### 데이터 표준화 방법\n",
        "\n",
        "\n",
        "1. StandardScaler\n",
        "from sklearn.preprocessing import standardScaler\n",
        "- 모든 특성을 평균을 0으로 표준편차를 1로 변환\n",
        "- 이상치에 민감\n",
        "\n",
        "2. MinMaxScaler\n",
        "from sklearn.preprocessing import MinMaxScaler\n",
        "- 특성 중 가장 작은 값을 0, 가장 큰 값을 1로 변환하여 0~1 사이의 값으로 만듦.\n",
        "- 이상치에 매우 민감 \n",
        "\n",
        "3. RobustScaler\n",
        "from sklearn.preprocessing import RobustScaler\n",
        "- 중앙값과 사분위 값을 사용하여 중앙값을 빼고, 사분위 값으로 나눔\n",
        "- 이상치의 영향을 최소화할 수 있음"
      ],
      "metadata": {
        "id": "i2JNOjcSyKqa"
      }
    },
    {
      "cell_type": "code",
      "execution_count": null,
      "metadata": {
        "id": "b83jrjP8xSro"
      },
      "outputs": [],
      "source": [
        "import pandas as pd\n",
        "\n",
        "fish = pd.read_csv(\"fish.csv\")\n",
        "\n",
        "bream = fish[fish['class'] == 1]\n",
        "smelt = fish[fish['class'] == 0]"
      ]
    },
    {
      "cell_type": "code",
      "source": [
        "import matplotlib.pyplot as plt\n",
        "\n",
        "plt.scatter(bream['length'], bream['weight'])\n",
        "plt.scatter(smelt['length'], smelt['weight'])\n",
        "plt.scatter(25, 150, marker = '^')  # x축은 5단위, y축은 200단위로 움직임"
      ],
      "metadata": {
        "colab": {
          "base_uri": "https://localhost:8080/",
          "height": 283
        },
        "id": "9DkZ-uG70C1c",
        "outputId": "ad415a23-2697-4abb-f88a-1a3bd7948c9e"
      },
      "execution_count": null,
      "outputs": [
        {
          "output_type": "execute_result",
          "data": {
            "text/plain": [
              "<matplotlib.collections.PathCollection at 0x7fb66aaebf50>"
            ]
          },
          "metadata": {},
          "execution_count": 6
        },
        {
          "output_type": "display_data",
          "data": {
            "text/plain": [
              "<Figure size 432x288 with 1 Axes>"
            ],
            "image/png": "[encoded data removed]"
          },
          "metadata": {
            "needs_background": "light"
          }
        }
      ]
    },
    {
      "cell_type": "code",
      "source": [
        "data = fish[['length', 'weight']].to_numpy()\n",
        "target = fish['class'].to_numpy()"
      ],
      "metadata": {
        "id": "b1pWCpE50gOj"
      },
      "execution_count": null,
      "outputs": []
    },
    {
      "cell_type": "code",
      "source": [
        "from sklearn.model_selection import train_test_split\n",
        "\n",
        "train_input, test_input, train_target, test_target = train_test_split(data, target)"
      ],
      "metadata": {
        "id": "4m7dVbdu0tma"
      },
      "execution_count": null,
      "outputs": []
    },
    {
      "cell_type": "code",
      "source": [
        "from sklearn.neighbors import KNeighborsClassifier\n",
        "\n",
        "knn = KNeighborsClassifier()\n",
        "knn.fit(train_input, train_target)\n",
        "knn.score(test_input, test_target)"
      ],
      "metadata": {
        "colab": {
          "base_uri": "https://localhost:8080/"
        },
        "id": "qfmsnDbP09cH",
        "outputId": "dc006c26-e865-4f41-d10a-e18780c68d04"
      },
      "execution_count": null,
      "outputs": [
        {
          "output_type": "execute_result",
          "data": {
            "text/plain": [
              "1.0"
            ]
          },
          "metadata": {},
          "execution_count": 7
        }
      ]
    },
    {
      "cell_type": "code",
      "source": [
        "knn.predict([[25, 150]])  \n",
        "# x축은 5단위, y축은 200단위로 움직임, 무게를 더 중요하게 생각함. / 빙어로 예측 "
      ],
      "metadata": {
        "colab": {
          "base_uri": "https://localhost:8080/"
        },
        "id": "x6aOTcH51gZ2",
        "outputId": "7c5ce03a-1bf7-41de-d5c7-dd8cab813857"
      },
      "execution_count": null,
      "outputs": [
        {
          "output_type": "execute_result",
          "data": {
            "text/plain": [
              "array([0])"
            ]
          },
          "metadata": {},
          "execution_count": 8
        }
      ]
    },
    {
      "cell_type": "code",
      "source": [
        "import numpy as np\n",
        "\n",
        "mean = np.mean(train_input, axis = 0)   # 행방향\n",
        "std = np.std(train_input, axis = 0)\n",
        "\n",
        "train_scaled = (train_input - mean) / std   # 모르는 데이터의 평균 및 표준편차를 알 수 없음. \n",
        "test_scaled = (test_input - mean) / std     # 컴퓨터가 예측할 때는 모든 게 훈련데이터로 기반이 되어 있어야 함\n",
        "                                            # 훈련데이터로 학습한 것을 기준으로 모르는 것을 예측"
      ],
      "metadata": {
        "id": "ncYVW5-y1lBG"
      },
      "execution_count": null,
      "outputs": []
    },
    {
      "cell_type": "code",
      "source": [
        "knn = KNeighborsClassifier()\n",
        "knn.fit(train_scaled, train_target)\n",
        "knn.score(test_scaled, test_target) # 데이터 분할 및 데이터 표준화를 했기 때문에 \n",
        "                                    # 이번에 평가 100점은 어느정도 신뢰가 간다."
      ],
      "metadata": {
        "colab": {
          "base_uri": "https://localhost:8080/"
        },
        "id": "s-scqdPO2Ssr",
        "outputId": "6b9cd0b8-acc2-4f34-fe98-924de46b039f"
      },
      "execution_count": null,
      "outputs": [
        {
          "output_type": "execute_result",
          "data": {
            "text/plain": [
              "1.0"
            ]
          },
          "metadata": {},
          "execution_count": 11
        }
      ]
    },
    {
      "cell_type": "code",
      "source": [
        "new = ([25,150] - mean) / std\n",
        "new"
      ],
      "metadata": {
        "colab": {
          "base_uri": "https://localhost:8080/"
        },
        "id": "p0iwUlhH3RgO",
        "outputId": "be02eb14-03c7-4ff7-e0e8-eb587b7a7fdc"
      },
      "execution_count": null,
      "outputs": [
        {
          "output_type": "execute_result",
          "data": {
            "text/plain": [
              "array([-0.11938575, -0.83424743])"
            ]
          },
          "metadata": {},
          "execution_count": 12
        }
      ]
    },
    {
      "cell_type": "code",
      "source": [
        "knn.predict([new])"
      ],
      "metadata": {
        "colab": {
          "base_uri": "https://localhost:8080/"
        },
        "id": "IbN61e0O3Yik",
        "outputId": "8de2775b-6a5d-4cc2-acb4-0c31db7241b3"
      },
      "execution_count": null,
      "outputs": [
        {
          "output_type": "execute_result",
          "data": {
            "text/plain": [
              "array([1])"
            ]
          },
          "metadata": {},
          "execution_count": 14
        }
      ]
    },
    {
      "cell_type": "code",
      "source": [],
      "metadata": {
        "id": "dG79bxiL3aXu"
      },
      "execution_count": null,
      "outputs": []
    }
  ]
}