{
  "nbformat": 4,
  "nbformat_minor": 0,
  "metadata": {
    "colab": {
      "provenance": [],
      "authorship_tag": "ABX9TyMMnQFPp8jRfkduq6Gqt38o",
      "include_colab_link": true
    },
    "kernelspec": {
      "name": "python3",
      "display_name": "Python 3"
    },
    "language_info": {
      "name": "python"
    }
  },
  "cells": [
    {
      "cell_type": "markdown",
      "metadata": {
        "id": "view-in-github",
        "colab_type": "text"
      },
      "source": [
        "<a href=\"https://colab.research.google.com/github/violet417/violet417/blob/main/1%EA%B8%B0%EC%B4%88_38_%EC%9D%B8%ED%84%B0%EB%84%B7_%EB%89%B4%EC%8A%A4_%EA%B8%B0%EC%82%AC_%EA%B0%80%EC%A0%B8%EC%98%A4%EB%8A%94_%EB%B0%A9%EB%B2%95.ipynb\" target=\"_parent\"><img src=\"https://colab.research.google.com/assets/colab-badge.svg\" alt=\"Open In Colab\"/></a>"
      ]
    },
    {
      "cell_type": "markdown",
      "source": [
        "#### 크롤링은 항상 같은 것을 가져와야 한다. \n",
        "- 가져오고자 하는 정보가 뉴스 기사마다 다를 경우 뉴스 정보를 가져오는 것은 매우 힘들다. 따라서 크롤링 하기 전, 가져오고자 하는 정보들의 태그와 구조가 같은지 확인해야 한다. "
      ],
      "metadata": {
        "id": "T_ERMBR33jiT"
      }
    },
    {
      "cell_type": "markdown",
      "source": [
        "* 네이버 검색창 -> 한국 검색 -> 뉴스 클릭 -> 제목+요약내용 가져오기\n",
        "* 네이버는 최대 400page까지만 제공 * 한페이지에 10개의 뉴스 * 제목+요약 = 400*10*2 = 최대 8000개 데이터\n",
        "* 신문사별로 HTML 형식이 다름. 같은 HTML 형식을 가져와야 함. \n",
        "* 네이버 뉴스로 들어가면 신문사가 달라도 네이버 뉴스에 한 번 더 업로드됨. \n",
        "- 1page = 1, 2page = 11, 3page = 21, 4page = 31..."
      ],
      "metadata": {
        "id": "f-FlhYxU3sKB"
      }
    },
    {
      "cell_type": "code",
      "source": [
        "import pandas as pd\n",
        "from bs4 import BeautifulSoup\n",
        "import time\n",
        "import requests"
      ],
      "metadata": {
        "id": "kPBAKEja5xzr"
      },
      "execution_count": null,
      "outputs": []
    },
    {
      "cell_type": "code",
      "source": [
        "total = []    # 밖에 total 변수를 만듦.\n",
        "\n",
        "url = requests.get('https://search.naver.com/search.naver?where=news&sm=tab_pge&query=%ED%95%9C%EA%B5%AD&sort=0&photo=0&field=0&pd=0&ds=&de=&cluster_rank=126&mynews=0&office_type=0&office_section_code=0&news_office_checked=&nso=so:r,p:all,a:all&start=1')\n",
        "html = BeautifulSoup(url.text)\n",
        "\n",
        "news = html.find('ul', class_ = \"list_news\").find_all('li', class_ = 'bx')   # 큰 틀을 잡은 후에 > 작은 거 \n",
        "# 뉴스데이터 전체: 태그 'ul', 속성값 'list_news' / # 하나의 뉴스기사: 태그 'li', 속성값 'bx'\n",
        "\n",
        "for i in news:\n",
        "    title = (i.find('a', class_ = 'news_tit').text)  # 제목: 태그 'a', 속성값: 'news_tit'\n",
        "    content = (i.find('div', class_ = 'dsc_wrap').text)  # 내용: 태그 'div', 속성값: 'dsc_wrap'\n",
        "\n",
        "    total.append([title, content])    # 리스트로 묶기\n",
        "\n",
        "len(total)"
      ],
      "metadata": {
        "colab": {
          "base_uri": "https://localhost:8080/"
        },
        "id": "HW1i38MG6vBD",
        "outputId": "914e86bd-2475-4c40-f206-872e325f74b4"
      },
      "execution_count": null,
      "outputs": [
        {
          "output_type": "execute_result",
          "data": {
            "text/plain": [
              "10"
            ]
          },
          "metadata": {},
          "execution_count": 16
        }
      ]
    },
    {
      "cell_type": "code",
      "source": [
        "df = pd.DataFrame(total, columns = ['제목', '요약'])    # 데이터프레임 만들기\n",
        "df"
      ],
      "metadata": {
        "colab": {
          "base_uri": "https://localhost:8080/",
          "height": 580
        },
        "id": "9JVkgsXE7Ahk",
        "outputId": "689963d3-6943-4d3f-ed34-00bebc5e3297"
      },
      "execution_count": null,
      "outputs": [
        {
          "output_type": "execute_result",
          "data": {
            "text/plain": [
              "                                              제목  \\\n",
              "0                         한국정책방송원장에 동아일보 출신 하종대씨   \n",
              "1              히잡 안썼다는 이유로?…한국왔던 이란 女 클라이밍 선수 실종   \n",
              "2          [단독] 전기 많이 먹는다고…한국산 8K TV 유럽서 판매중단 위기   \n",
              "3               美 냉동공조설비 인증, 이제 한국서 받는다…시간·비용 절감   \n",
              "4                한국 고용률, OECD 국가 중 23위→29위로 뒷걸음질   \n",
              "5                             하종대, 한국정책방송원 원장 임명   \n",
              "6               한국車산업협회 강남훈 신임 회장 취임…“조력자 역할 필요”   \n",
              "7               내년 한국 경제성장률 1%대...국내 연구소도 우울한 전망   \n",
              "8             [단독] 한국관광공사 '여리지' 구독자, 유령 계정으로 늘렸다   \n",
              "9  [단독]국부펀드 한국투자공사 무기 제조기업에 5700억 투자···핵무기 생산...   \n",
              "\n",
              "                                                  요약  \n",
              "0   문화체육관광부는 18일 한국정책방송원 원장에 하종대(57) 씨를 임명했다고 밝혔다...  \n",
              "1   히잡을 착용하지 않고 한국에서 열린 국제대회에 출전한 이란의 스포츠클라이밍 선수 ...  \n",
              "2   EU, 내년 3월부터 친환경 규제 강화 '수입장벽' 삼성·LG 제품 기준미달 프리...  \n",
              "3   기사내용 요약 인천 한국공기과학시험연구원 개원 AHRI 한국시험소…아시아 두 번째...  \n",
              "4   2배↑ 5계단 올랐지만 여전히 하위권 최저임금은 24위서 20위로 상승 한국이 고...  \n",
              "5   문화체육관광부는 18일 자로 한국정책방송원 원장에 부안출신 하종대(1965년생) ...  \n",
              "6   강남훈 한국자동차산업협회(KAMA) 신임 회장은 18일 오전 10시 자동차회관에서...  \n",
              "7   고물가·고환율·고금리로 내년 한국 경제성장률이 1%대 후반으로 둔화할 것이란 전망...  \n",
              "8   한국관광공사의 명예홍보대사인 가상인간 '여리지'입니다. 한국의 문화와 관광지를 알...  \n",
              "9   한국 국부펀드인 한국투자공사(KIC)가 대량살상 무기 제조기업에 5700억원을 투...  "
            ],
            "text/html": [
              "\n",
              "  <div id=\"df-cd0cba27-4a25-411e-a6b7-e8d2d984baad\">\n",
              "    <div class=\"colab-df-container\">\n",
              "      <div>\n",
              "<style scoped>\n",
              "    .dataframe tbody tr th:only-of-type {\n",
              "        vertical-align: middle;\n",
              "    }\n",
              "\n",
              "    .dataframe tbody tr th {\n",
              "        vertical-align: top;\n",
              "    }\n",
              "\n",
              "    .dataframe thead th {\n",
              "        text-align: right;\n",
              "    }\n",
              "</style>\n",
              "<table border=\"1\" class=\"dataframe\">\n",
              "  <thead>\n",
              "    <tr style=\"text-align: right;\">\n",
              "      <th></th>\n",
              "      <th>제목</th>\n",
              "      <th>요약</th>\n",
              "    </tr>\n",
              "  </thead>\n",
              "  <tbody>\n",
              "    <tr>\n",
              "      <th>0</th>\n",
              "      <td>한국정책방송원장에 동아일보 출신 하종대씨</td>\n",
              "      <td>문화체육관광부는 18일 한국정책방송원 원장에 하종대(57) 씨를 임명했다고 밝혔다...</td>\n",
              "    </tr>\n",
              "    <tr>\n",
              "      <th>1</th>\n",
              "      <td>히잡 안썼다는 이유로?…한국왔던 이란 女 클라이밍 선수 실종</td>\n",
              "      <td>히잡을 착용하지 않고 한국에서 열린 국제대회에 출전한 이란의 스포츠클라이밍 선수 ...</td>\n",
              "    </tr>\n",
              "    <tr>\n",
              "      <th>2</th>\n",
              "      <td>[단독] 전기 많이 먹는다고…한국산 8K TV 유럽서 판매중단 위기</td>\n",
              "      <td>EU, 내년 3월부터 친환경 규제 강화 '수입장벽' 삼성·LG 제품 기준미달 프리...</td>\n",
              "    </tr>\n",
              "    <tr>\n",
              "      <th>3</th>\n",
              "      <td>美 냉동공조설비 인증, 이제 한국서 받는다…시간·비용 절감</td>\n",
              "      <td>기사내용 요약 인천 한국공기과학시험연구원 개원 AHRI 한국시험소…아시아 두 번째...</td>\n",
              "    </tr>\n",
              "    <tr>\n",
              "      <th>4</th>\n",
              "      <td>한국 고용률, OECD 국가 중 23위→29위로 뒷걸음질</td>\n",
              "      <td>2배↑ 5계단 올랐지만 여전히 하위권 최저임금은 24위서 20위로 상승 한국이 고...</td>\n",
              "    </tr>\n",
              "    <tr>\n",
              "      <th>5</th>\n",
              "      <td>하종대, 한국정책방송원 원장 임명</td>\n",
              "      <td>문화체육관광부는 18일 자로 한국정책방송원 원장에 부안출신 하종대(1965년생) ...</td>\n",
              "    </tr>\n",
              "    <tr>\n",
              "      <th>6</th>\n",
              "      <td>한국車산업협회 강남훈 신임 회장 취임…“조력자 역할 필요”</td>\n",
              "      <td>강남훈 한국자동차산업협회(KAMA) 신임 회장은 18일 오전 10시 자동차회관에서...</td>\n",
              "    </tr>\n",
              "    <tr>\n",
              "      <th>7</th>\n",
              "      <td>내년 한국 경제성장률 1%대...국내 연구소도 우울한 전망</td>\n",
              "      <td>고물가·고환율·고금리로 내년 한국 경제성장률이 1%대 후반으로 둔화할 것이란 전망...</td>\n",
              "    </tr>\n",
              "    <tr>\n",
              "      <th>8</th>\n",
              "      <td>[단독] 한국관광공사 '여리지' 구독자, 유령 계정으로 늘렸다</td>\n",
              "      <td>한국관광공사의 명예홍보대사인 가상인간 '여리지'입니다. 한국의 문화와 관광지를 알...</td>\n",
              "    </tr>\n",
              "    <tr>\n",
              "      <th>9</th>\n",
              "      <td>[단독]국부펀드 한국투자공사 무기 제조기업에 5700억 투자···핵무기 생산...</td>\n",
              "      <td>한국 국부펀드인 한국투자공사(KIC)가 대량살상 무기 제조기업에 5700억원을 투...</td>\n",
              "    </tr>\n",
              "  </tbody>\n",
              "</table>\n",
              "</div>\n",
              "      <button class=\"colab-df-convert\" onclick=\"convertToInteractive('df-cd0cba27-4a25-411e-a6b7-e8d2d984baad')\"\n",
              "              title=\"Convert this dataframe to an interactive table.\"\n",
              "              style=\"display:none;\">\n",
              "        \n",
              "  <svg xmlns=\"http://www.w3.org/2000/svg\" height=\"24px\"viewBox=\"0 0 24 24\"\n",
              "       width=\"24px\">\n",
              "    <path d=\"M0 0h24v24H0V0z\" fill=\"none\"/>\n",
              "    <path d=\"M18.56 5.44l.94 2.06.94-2.06 2.06-.94-2.06-.94-.94-2.06-.94 2.06-2.06.94zm-11 1L8.5 8.5l.94-2.06 2.06-.94-2.06-.94L8.5 2.5l-.94 2.06-2.06.94zm10 10l.94 2.06.94-2.06 2.06-.94-2.06-.94-.94-2.06-.94 2.06-2.06.94z\"/><path d=\"M17.41 7.96l-1.37-1.37c-.4-.4-.92-.59-1.43-.59-.52 0-1.04.2-1.43.59L10.3 9.45l-7.72 7.72c-.78.78-.78 2.05 0 2.83L4 21.41c.39.39.9.59 1.41.59.51 0 1.02-.2 1.41-.59l7.78-7.78 2.81-2.81c.8-.78.8-2.07 0-2.86zM5.41 20L4 18.59l7.72-7.72 1.47 1.35L5.41 20z\"/>\n",
              "  </svg>\n",
              "      </button>\n",
              "      \n",
              "  <style>\n",
              "    .colab-df-container {\n",
              "      display:flex;\n",
              "      flex-wrap:wrap;\n",
              "      gap: 12px;\n",
              "    }\n",
              "\n",
              "    .colab-df-convert {\n",
              "      background-color: #E8F0FE;\n",
              "      border: none;\n",
              "      border-radius: 50%;\n",
              "      cursor: pointer;\n",
              "      display: none;\n",
              "      fill: #1967D2;\n",
              "      height: 32px;\n",
              "      padding: 0 0 0 0;\n",
              "      width: 32px;\n",
              "    }\n",
              "\n",
              "    .colab-df-convert:hover {\n",
              "      background-color: #E2EBFA;\n",
              "      box-shadow: 0px 1px 2px rgba(60, 64, 67, 0.3), 0px 1px 3px 1px rgba(60, 64, 67, 0.15);\n",
              "      fill: #174EA6;\n",
              "    }\n",
              "\n",
              "    [theme=dark] .colab-df-convert {\n",
              "      background-color: #3B4455;\n",
              "      fill: #D2E3FC;\n",
              "    }\n",
              "\n",
              "    [theme=dark] .colab-df-convert:hover {\n",
              "      background-color: #434B5C;\n",
              "      box-shadow: 0px 1px 3px 1px rgba(0, 0, 0, 0.15);\n",
              "      filter: drop-shadow(0px 1px 2px rgba(0, 0, 0, 0.3));\n",
              "      fill: #FFFFFF;\n",
              "    }\n",
              "  </style>\n",
              "\n",
              "      <script>\n",
              "        const buttonEl =\n",
              "          document.querySelector('#df-cd0cba27-4a25-411e-a6b7-e8d2d984baad button.colab-df-convert');\n",
              "        buttonEl.style.display =\n",
              "          google.colab.kernel.accessAllowed ? 'block' : 'none';\n",
              "\n",
              "        async function convertToInteractive(key) {\n",
              "          const element = document.querySelector('#df-cd0cba27-4a25-411e-a6b7-e8d2d984baad');\n",
              "          const dataTable =\n",
              "            await google.colab.kernel.invokeFunction('convertToInteractive',\n",
              "                                                     [key], {});\n",
              "          if (!dataTable) return;\n",
              "\n",
              "          const docLinkHtml = 'Like what you see? Visit the ' +\n",
              "            '<a target=\"_blank\" href=https://colab.research.google.com/notebooks/data_table.ipynb>data table notebook</a>'\n",
              "            + ' to learn more about interactive tables.';\n",
              "          element.innerHTML = '';\n",
              "          dataTable['output_type'] = 'display_data';\n",
              "          await google.colab.output.renderOutput(dataTable, element);\n",
              "          const docLink = document.createElement('div');\n",
              "          docLink.innerHTML = docLinkHtml;\n",
              "          element.appendChild(docLink);\n",
              "        }\n",
              "      </script>\n",
              "    </div>\n",
              "  </div>\n",
              "  "
            ]
          },
          "metadata": {},
          "execution_count": 17
        }
      ]
    },
    {
      "cell_type": "code",
      "source": [],
      "metadata": {
        "id": "R7Wki70bVXgI"
      },
      "execution_count": null,
      "outputs": []
    }
  ]
}