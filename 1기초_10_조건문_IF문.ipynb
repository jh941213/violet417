{
  "nbformat": 4,
  "nbformat_minor": 0,
  "metadata": {
    "colab": {
      "provenance": [],
      "collapsed_sections": [],
      "authorship_tag": "ABX9TyOAU1FpNX5xZ5jV2Tc2Rkdf",
      "include_colab_link": true
    },
    "kernelspec": {
      "name": "python3",
      "display_name": "Python 3"
    },
    "language_info": {
      "name": "python"
    }
  },
  "cells": [
    {
      "cell_type": "markdown",
      "metadata": {
        "id": "view-in-github",
        "colab_type": "text"
      },
      "source": [
        "<a href=\"https://colab.research.google.com/github/violet417/violet417/blob/main/1%EA%B8%B0%EC%B4%88_10_%EC%A1%B0%EA%B1%B4%EB%AC%B8_IF%EB%AC%B8.ipynb\" target=\"_parent\"><img src=\"https://colab.research.google.com/assets/colab-badge.svg\" alt=\"Open In Colab\"/></a>"
      ]
    },
    {
      "cell_type": "code",
      "execution_count": null,
      "metadata": {
        "id": "sPKt4Fh7fMS6"
      },
      "outputs": [],
      "source": [
        "# 조건문 IF문: 조건을 판단하여 조건에 맞는 상황을 수행"
      ]
    },
    {
      "cell_type": "code",
      "source": [
        "# 조건문 IF문 구조\n",
        "''' if조건문:\n",
        "        수행할 문장1\n",
        "        수행할 문장2 '''"
      ],
      "metadata": {
        "id": "pcYE7AgHfljj"
      },
      "execution_count": null,
      "outputs": []
    },
    {
      "cell_type": "code",
      "source": [
        "''' if조건문:\n",
        "        수행할 문장1\n",
        "        수행할 문장2 \n",
        "    else:\n",
        "        수행할 문장A\n",
        "        수행할 문장B'''"
      ],
      "metadata": {
        "id": "CosOjHcHf4us"
      },
      "execution_count": null,
      "outputs": []
    },
    {
      "cell_type": "code",
      "source": [
        "''' if조건문1:\n",
        "        수행할 문장1\n",
        "    elif 조건문2:\n",
        "        수행할 문장2\n",
        "    else:\n",
        "        수행할 문장3'''"
      ],
      "metadata": {
        "id": "TdYRU17egKW_"
      },
      "execution_count": null,
      "outputs": []
    },
    {
      "cell_type": "code",
      "source": [
        "# 비교연산자\n",
        "# x<y x가 y보다 작다 | x>y x가 y보다 크다 | x==y x와 y가 같다 | x!=y x와 y가 같지 않다 | x>=y x가 y보다 크거나 같다 | x<=y x가 y보다 작거나 같다"
      ],
      "metadata": {
        "id": "_Law33S7gX5l"
      },
      "execution_count": null,
      "outputs": []
    },
    {
      "cell_type": "code",
      "source": [
        "# 논리연산자\n",
        "# x or y x와 y 둘 중에 하나만 참이어도 참이다. | x and y x와 y 모두 참이어야 참이다. | not x x가 거짓이면 참이다. "
      ],
      "metadata": {
        "id": "GT2WacS-hCbH"
      },
      "execution_count": null,
      "outputs": []
    },
    {
      "cell_type": "code",
      "source": [
        "# 멤버연산자\n",
        "# x in a / x not in a / a = 리스트, 튜플, 문자열 가능\n",
        "if 5 in [1,2,3,4,5]\n",
        "if 5 in (1,2,3,4,5)\n",
        "if 'y' in \"Python\""
      ],
      "metadata": {
        "id": "2KWYHIFqhWoi"
      },
      "execution_count": null,
      "outputs": []
    },
    {
      "cell_type": "code",
      "source": [
        "# 조건부 표현식\n",
        "score = 65\n",
        "message = print(\"success\") if score >= 60 else print(\"failure\")"
      ],
      "metadata": {
        "colab": {
          "base_uri": "https://localhost:8080/"
        },
        "id": "qWzQc14CiFkj",
        "outputId": "6d306ece-93f2-4aaa-a3b0-dbb82b58f102"
      },
      "execution_count": null,
      "outputs": [
        {
          "output_type": "stream",
          "name": "stdout",
          "text": [
            "success\n"
          ]
        }
      ]
    },
    {
      "cell_type": "code",
      "source": [
        "score = 55\n",
        "if score >= 60:\n",
        "    print(\"success\")\n",
        "else:\n",
        "    print(\"failure\")"
      ],
      "metadata": {
        "colab": {
          "base_uri": "https://localhost:8080/"
        },
        "id": "7NvDv93AiwH6",
        "outputId": "86f61d82-cddd-4857-8924-d35630f6fc10"
      },
      "execution_count": null,
      "outputs": [
        {
          "output_type": "stream",
          "name": "stdout",
          "text": [
            "failure\n"
          ]
        }
      ]
    },
    {
      "cell_type": "code",
      "source": [
        "# 이중 if문\n",
        "pocket = ['paper', 'cellphone']\n",
        "card = True\n",
        "\n",
        "if 'money' in pocket:\n",
        "    print('taxi')\n",
        "else:\n",
        "    if card == True:\n",
        "        print('taxi')\n",
        "    else:\n",
        "        print('walk')"
      ],
      "metadata": {
        "colab": {
          "base_uri": "https://localhost:8080/"
        },
        "id": "zLvpCQ-bmuWz",
        "outputId": "9596d65f-1468-46fd-d980-e6df81d0eec0"
      },
      "execution_count": null,
      "outputs": [
        {
          "output_type": "stream",
          "name": "stdout",
          "text": [
            "taxi\n"
          ]
        }
      ]
    },
    {
      "cell_type": "code",
      "source": [
        "pocket = ['paper', 'cellphone']\n",
        "card = True\n",
        "\n",
        "if 'money' in pocket:\n",
        "    print('taxi')\n",
        "elif card == True:\n",
        "        print('taxi')\n",
        "else:\n",
        "    print('walk')"
      ],
      "metadata": {
        "colab": {
          "base_uri": "https://localhost:8080/"
        },
        "id": "Fob6dIxRnNIC",
        "outputId": "74dd6031-5276-46bf-9154-28e8fef3faee"
      },
      "execution_count": null,
      "outputs": [
        {
          "output_type": "stream",
          "name": "stdout",
          "text": [
            "taxi\n"
          ]
        }
      ]
    },
    {
      "cell_type": "markdown",
      "source": [
        "[실습예제]\n",
        "\n",
        "변수 score 값이 90점 이상이면 'A', 80점 이상이면 'B', 70점 이상이면 'C', 60점 이상이면 'D', 그 이하 나머지는 'F'를 출력하는 코드를 작성해보세요. "
      ],
      "metadata": {
        "id": "tDLUTplel3Oz"
      }
    },
    {
      "cell_type": "code",
      "source": [
        "score = 86\n",
        "\n",
        "if score >= 90:\n",
        "    print('A')\n",
        "elif score >= 80:\n",
        "    print('B')\n",
        "elif score >= 70:\n",
        "    print('C')\n",
        "elif score >= 60:\n",
        "    print('D')\n",
        "else:\n",
        "    print('F')"
      ],
      "metadata": {
        "id": "AJNbflKijA7d",
        "colab": {
          "base_uri": "https://localhost:8080/"
        },
        "outputId": "9212b316-53d2-4104-ff31-4d2527aa4370"
      },
      "execution_count": null,
      "outputs": [
        {
          "output_type": "stream",
          "name": "stdout",
          "text": [
            "B\n"
          ]
        }
      ]
    },
    {
      "cell_type": "code",
      "source": [],
      "metadata": {
        "id": "lnNEgT8AmmiK"
      },
      "execution_count": null,
      "outputs": []
    }
  ]
}