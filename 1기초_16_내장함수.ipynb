{
  "nbformat": 4,
  "nbformat_minor": 0,
  "metadata": {
    "colab": {
      "provenance": [],
      "collapsed_sections": [],
      "authorship_tag": "ABX9TyOtBMJ5ozZRJRiJMmkmTykX",
      "include_colab_link": true
    },
    "kernelspec": {
      "name": "python3",
      "display_name": "Python 3"
    },
    "language_info": {
      "name": "python"
    }
  },
  "cells": [
    {
      "cell_type": "markdown",
      "metadata": {
        "id": "view-in-github",
        "colab_type": "text"
      },
      "source": [
        "<a href=\"https://colab.research.google.com/github/violet417/violet417/blob/main/1%EA%B8%B0%EC%B4%88_16_%EB%82%B4%EC%9E%A5%ED%95%A8%EC%88%98.ipynb\" target=\"_parent\"><img src=\"https://colab.research.google.com/assets/colab-badge.svg\" alt=\"Open In Colab\"/></a>"
      ]
    },
    {
      "cell_type": "markdown",
      "source": [
        "#### 내장함수\n",
        "- 파이썬에서 기본적으로 제공하는 함수"
      ],
      "metadata": {
        "id": "eXXkwvyb3uIP"
      }
    },
    {
      "cell_type": "code",
      "execution_count": null,
      "metadata": {
        "colab": {
          "base_uri": "https://localhost:8080/"
        },
        "id": "Yv4fq---3lNR",
        "outputId": "79a792e2-da72-4b7c-c201-36c4356351da"
      },
      "outputs": [
        {
          "output_type": "stream",
          "name": "stdout",
          "text": [
            "lifeistoo short\n",
            "lifeistoo short\n"
          ]
        }
      ],
      "source": [
        "# 출력: print | 화면에 내가 원하는 값을 요청하는 함수\n",
        "print(\"life\"\"is\"\"too short\")\n",
        "print(\"life\"+\"is\"+\"too short\")"
      ]
    },
    {
      "cell_type": "code",
      "source": [
        "for i in range(10):\n",
        "    print(i)    # end 매개변수 생략"
      ],
      "metadata": {
        "colab": {
          "base_uri": "https://localhost:8080/"
        },
        "id": "3NhMECTz4GaP",
        "outputId": "d39f1bb9-edf8-4368-84f0-fd8e681ba1e2"
      },
      "execution_count": null,
      "outputs": [
        {
          "output_type": "stream",
          "name": "stdout",
          "text": [
            "0\n",
            "1\n",
            "2\n",
            "3\n",
            "4\n",
            "5\n",
            "6\n",
            "7\n",
            "8\n",
            "9\n"
          ]
        }
      ]
    },
    {
      "cell_type": "code",
      "source": [
        "for i in range(10):\n",
        "    print(i, end=' ')    # 기본값은 end = '\\n' 줄바꿈"
      ],
      "metadata": {
        "id": "uzdPjkh14WXc"
      },
      "execution_count": null,
      "outputs": []
    },
    {
      "cell_type": "code",
      "source": [
        "# 파일 쓰기/읽기: open | 파일을 생성하거나 불러오는 함수\n",
        "f = open(\"test.txt\", 'wt')    # wt = write text 쓰기\n",
        "f.write(\"hello\")\n",
        "f.close()   # 저장하고 끄는 기능"
      ],
      "metadata": {
        "id": "Z_f32H_F4p6u"
      },
      "execution_count": null,
      "outputs": []
    },
    {
      "cell_type": "code",
      "source": [
        "f = open(\"test.txt\", 'rt')    # rt = read text 읽기\n",
        "\n",
        "data = f.read()    # 읽은 결과 값을 data 변수에 넣어라. \n",
        "\n",
        "data"
      ],
      "metadata": {
        "colab": {
          "base_uri": "https://localhost:8080/",
          "height": 36
        },
        "id": "yu-qsvUk5AEh",
        "outputId": "eef81807-1910-4ec4-a0a8-5a0782cb092e"
      },
      "execution_count": null,
      "outputs": [
        {
          "output_type": "execute_result",
          "data": {
            "text/plain": [
              "'hello'"
            ],
            "application/vnd.google.colaboratory.intrinsic+json": {
              "type": "string"
            }
          },
          "metadata": {},
          "execution_count": 11
        }
      ]
    },
    {
      "cell_type": "code",
      "source": [
        "f = open(\"test.txt\", 'wt')    # write text(새롭게 쓰는 기능)\n",
        "f.write('hello')\n",
        "f.close()\n",
        "# hellohello를 예상했지만 hello가 덮어 씌워짐. "
      ],
      "metadata": {
        "id": "bn5UCZng5dHI"
      },
      "execution_count": null,
      "outputs": []
    },
    {
      "cell_type": "code",
      "source": [
        "f = open(\"test.txt\", 'at')  # at = attach text\n",
        "f.write('hello world!')\n",
        "f.close()"
      ],
      "metadata": {
        "id": "ZqOTWmzj5-Ga"
      },
      "execution_count": null,
      "outputs": []
    },
    {
      "cell_type": "code",
      "source": [
        "f = open(\"test.txt\", 'rt')   \n",
        "data = f.read()\n",
        "data"
      ],
      "metadata": {
        "colab": {
          "base_uri": "https://localhost:8080/",
          "height": 36
        },
        "id": "cdw0GQcC6lUu",
        "outputId": "df8693e5-71cb-4850-e693-fee39064d5f0"
      },
      "execution_count": null,
      "outputs": [
        {
          "output_type": "execute_result",
          "data": {
            "text/plain": [
              "'hellohello world!'"
            ],
            "application/vnd.google.colaboratory.intrinsic+json": {
              "type": "string"
            }
          },
          "metadata": {},
          "execution_count": 14
        }
      ]
    },
    {
      "cell_type": "code",
      "source": [
        "# 절대값: abs | absolute\n",
        "print(abs(3))\n",
        "print(abs(-3))\n",
        "print(abs(-1.2))"
      ],
      "metadata": {
        "colab": {
          "base_uri": "https://localhost:8080/"
        },
        "id": "GBuIK-w66o7V",
        "outputId": "179b1fee-b3f9-4169-cdd8-f15efe7baf8a"
      },
      "execution_count": null,
      "outputs": [
        {
          "output_type": "stream",
          "name": "stdout",
          "text": [
            "3\n",
            "3\n",
            "1.2\n"
          ]
        }
      ]
    },
    {
      "cell_type": "code",
      "source": [
        "# 모두 참이어야 참: all\n",
        "print(all([1,2,3]))\n",
        "print(all([1,2,3,0]))   # 0은 False"
      ],
      "metadata": {
        "colab": {
          "base_uri": "https://localhost:8080/"
        },
        "id": "ltOuwpgc8AJ_",
        "outputId": "57b1e8c0-2db9-4842-e522-b5096ca06a76"
      },
      "execution_count": null,
      "outputs": [
        {
          "output_type": "stream",
          "name": "stdout",
          "text": [
            "True\n",
            "False\n"
          ]
        }
      ]
    },
    {
      "cell_type": "code",
      "source": [
        "# 하나라도 참이면 참: any\n",
        "print(any([1,2,3,0]))\n",
        "print(any([0,0,0,0]))"
      ],
      "metadata": {
        "colab": {
          "base_uri": "https://localhost:8080/"
        },
        "id": "2MrEkaqo8Qg_",
        "outputId": "7a3cba80-9f46-45da-f644-44b27e34b033"
      },
      "execution_count": null,
      "outputs": [
        {
          "output_type": "stream",
          "name": "stdout",
          "text": [
            "True\n",
            "False\n"
          ]
        }
      ]
    },
    {
      "cell_type": "code",
      "source": [
        "# 몫과 나머지: divmod\n",
        "divmod(7,3) # 몫 2, 나머지 1"
      ],
      "metadata": {
        "colab": {
          "base_uri": "https://localhost:8080/"
        },
        "id": "OOzTqxcS8a8e",
        "outputId": "b6890f5c-b182-4241-b1d0-7f5ff4fe3d59"
      },
      "execution_count": null,
      "outputs": [
        {
          "output_type": "execute_result",
          "data": {
            "text/plain": [
              "(2, 1)"
            ]
          },
          "metadata": {},
          "execution_count": 19
        }
      ]
    },
    {
      "cell_type": "code",
      "source": [
        "# 리스트, 튜플, 문자열의 위치와 값 반환: enumerate | 중요!!\n",
        "enumerate(['body', 'foo', 'bar'])"
      ],
      "metadata": {
        "colab": {
          "base_uri": "https://localhost:8080/"
        },
        "id": "KktRRZ8t8iKO",
        "outputId": "0b652ac4-972e-4b08-a1e2-257817d38f03"
      },
      "execution_count": null,
      "outputs": [
        {
          "output_type": "execute_result",
          "data": {
            "text/plain": [
              "<enumerate at 0x7f6252698730>"
            ]
          },
          "metadata": {},
          "execution_count": 23
        }
      ]
    },
    {
      "cell_type": "code",
      "source": [
        "box1 = ['이순신', '홍길동', '아이유']\n",
        "\n",
        "for i,j in enumerate(box1):  # box1을 enumerate해서 위치는 i, 값은 j 변수에 넣어라\n",
        "    print(i, j)"
      ],
      "metadata": {
        "colab": {
          "base_uri": "https://localhost:8080/"
        },
        "id": "xB-oAeapFkNr",
        "outputId": "bb0e259b-983e-46f1-a0c4-39c0635fcfd7"
      },
      "execution_count": null,
      "outputs": [
        {
          "output_type": "stream",
          "name": "stdout",
          "text": [
            "0 이순신\n",
            "1 홍길동\n",
            "2 아이유\n"
          ]
        }
      ]
    },
    {
      "cell_type": "code",
      "source": [
        "# 실행 가능한 문자열을 실행한 결과값을 반환: eval | 문자열을 해석 -> 파이썬 코드로 변환해서 실행\n",
        "print(eval('1+2'))\n",
        "print(eval(\"'hi' + 'a'\"))\n",
        "print(eval('divmod(4,3)'))"
      ],
      "metadata": {
        "colab": {
          "base_uri": "https://localhost:8080/"
        },
        "id": "_uXGj0vq9Af4",
        "outputId": "666a9b2f-0fb3-4249-d380-74a96a771e9b"
      },
      "execution_count": null,
      "outputs": [
        {
          "output_type": "stream",
          "name": "stdout",
          "text": [
            "3\n",
            "hia\n",
            "(1, 1)\n"
          ]
        }
      ]
    },
    {
      "cell_type": "code",
      "source": [
        "# filter | filter(함수, 리스트) -> True로 나온 값만 필터링\n",
        "def positive(x):\n",
        "    return x > 0    # 리스트의 숫자가 0보다 크면 T, 0이거나 0보다 작으면 F\n",
        "\n",
        "print(list(filter(positive, [1,-3,2,0,-5,6])))"
      ],
      "metadata": {
        "colab": {
          "base_uri": "https://localhost:8080/"
        },
        "id": "R5sudwLJ9tSF",
        "outputId": "93dcb73b-e80a-47dc-da38-c068751a0e38"
      },
      "execution_count": null,
      "outputs": [
        {
          "output_type": "stream",
          "name": "stdout",
          "text": [
            "[1, 2, 6]\n"
          ]
        }
      ]
    },
    {
      "cell_type": "code",
      "source": [
        "box1 = ['이순신', '홍길동', '아이유']\n",
        "box2 = [1,3,5,4,2,-3,-4,-5]\n",
        "\n",
        "def test(x):\n",
        "    return x > 0    # x가 0보다 크면 T, 0이거나 0보다 작으면 F\n",
        "print(list(filter(test, box2)))     # True 값만 필터링"
      ],
      "metadata": {
        "colab": {
          "base_uri": "https://localhost:8080/"
        },
        "id": "B3Fboft5F6e9",
        "outputId": "8a8cebc3-896a-4b1d-9965-2152f11ac1f9"
      },
      "execution_count": null,
      "outputs": [
        {
          "output_type": "stream",
          "name": "stdout",
          "text": [
            "[1, 3, 5, 4, 2]\n"
          ]
        }
      ]
    },
    {
      "cell_type": "code",
      "source": [
        "# 주소값 반환: id | 어떤 값이나 값이 저장된 변수의 주소값 확인\n",
        "a = 3\n",
        "id(3)"
      ],
      "metadata": {
        "colab": {
          "base_uri": "https://localhost:8080/"
        },
        "id": "OmETWnQW-1Uz",
        "outputId": "da4437ed-7a51-4661-ef04-7f762039c793"
      },
      "execution_count": null,
      "outputs": [
        {
          "output_type": "execute_result",
          "data": {
            "text/plain": [
              "11126752"
            ]
          },
          "metadata": {},
          "execution_count": 29
        }
      ]
    },
    {
      "cell_type": "code",
      "source": [
        "id(a)"
      ],
      "metadata": {
        "colab": {
          "base_uri": "https://localhost:8080/"
        },
        "id": "bxMpLHih_MYG",
        "outputId": "7cd82417-1bc5-4c06-ba24-5cb18058bb0c"
      },
      "execution_count": null,
      "outputs": [
        {
          "output_type": "execute_result",
          "data": {
            "text/plain": [
              "11126752"
            ]
          },
          "metadata": {},
          "execution_count": 30
        }
      ]
    },
    {
      "cell_type": "code",
      "source": [
        "# 정수 반환: int\n",
        "print(int('3'))    # 문자열 -> 정수로 변환\n",
        "print(int(3.4))    # 실수 -> 정수로 변환\n",
        "print(int('11', 2))    # 이진법 -> 10진법으로 변환하여 정수로 표시"
      ],
      "metadata": {
        "colab": {
          "base_uri": "https://localhost:8080/"
        },
        "id": "CXt4w7CR_O9z",
        "outputId": "0d1d9ddf-73e6-4547-a133-90169b0899f9"
      },
      "execution_count": null,
      "outputs": [
        {
          "output_type": "stream",
          "name": "stdout",
          "text": [
            "3\n",
            "3\n",
            "3\n"
          ]
        }
      ]
    },
    {
      "cell_type": "code",
      "source": [
        "# 길이 반환: len\n",
        "print(len(\"Python\"))\n",
        "print(len([1,2,3]))\n",
        "print(len((1, 'a')))"
      ],
      "metadata": {
        "colab": {
          "base_uri": "https://localhost:8080/"
        },
        "id": "IbIm8eajAZce",
        "outputId": "a973ccb0-4820-49b9-8de9-8b9331edecd4"
      },
      "execution_count": null,
      "outputs": [
        {
          "output_type": "stream",
          "name": "stdout",
          "text": [
            "6\n",
            "3\n",
            "2\n"
          ]
        }
      ]
    },
    {
      "cell_type": "code",
      "source": [
        "# 리스트 변환: list\n",
        "list(\"Python\")"
      ],
      "metadata": {
        "colab": {
          "base_uri": "https://localhost:8080/"
        },
        "id": "760hEMiLAxHS",
        "outputId": "11051308-3e72-4797-a726-f64163868182"
      },
      "execution_count": null,
      "outputs": [
        {
          "output_type": "execute_result",
          "data": {
            "text/plain": [
              "['P', 'y', 't', 'h', 'o', 'n']"
            ]
          },
          "metadata": {},
          "execution_count": 33
        }
      ]
    },
    {
      "cell_type": "code",
      "source": [
        "list((1,2,3))"
      ],
      "metadata": {
        "colab": {
          "base_uri": "https://localhost:8080/"
        },
        "id": "L56wm5jgA4WV",
        "outputId": "7118e510-f1db-44fa-b110-4f907eff53dc"
      },
      "execution_count": null,
      "outputs": [
        {
          "output_type": "execute_result",
          "data": {
            "text/plain": [
              "[1, 2, 3]"
            ]
          },
          "metadata": {},
          "execution_count": 34
        }
      ]
    },
    {
      "cell_type": "code",
      "source": [
        "# map | 모든 요소에 함수값을 적용 | cf. filter: True 값만 필터링\n",
        "def two_times(x):\n",
        "    return x*2\n",
        "list(map(two_times, [1,2,3,4]))"
      ],
      "metadata": {
        "colab": {
          "base_uri": "https://localhost:8080/"
        },
        "id": "r3Rj8yz8A6g2",
        "outputId": "a53505e7-6e2f-4ac7-ec33-c50bf8772499"
      },
      "execution_count": null,
      "outputs": [
        {
          "output_type": "execute_result",
          "data": {
            "text/plain": [
              "[2, 4, 6, 8]"
            ]
          },
          "metadata": {},
          "execution_count": 37
        }
      ]
    },
    {
      "cell_type": "code",
      "source": [
        "box1 = ['이순신', '홍길동', '아이유']\n",
        "box2 = [1,3,5,4,2,-3,-4,-5]\n",
        "\n",
        "def test(x):\n",
        "    return x * 10\n",
        "print(list(map(test, box2)))"
      ],
      "metadata": {
        "colab": {
          "base_uri": "https://localhost:8080/"
        },
        "id": "t1mXNUK4GLJC",
        "outputId": "2f23130c-6e64-4489-e1c0-6411d5e7e460"
      },
      "execution_count": null,
      "outputs": [
        {
          "output_type": "stream",
          "name": "stdout",
          "text": [
            "[10, 30, 50, 40, 20, -30, -40, -50]\n"
          ]
        }
      ]
    },
    {
      "cell_type": "code",
      "source": [
        "# 최대값: max\n",
        "print(max([1,2,3]))\n",
        "print(max(\"python\"))"
      ],
      "metadata": {
        "colab": {
          "base_uri": "https://localhost:8080/"
        },
        "id": "g5zKDKdMBHMB",
        "outputId": "a6b6b55c-3656-44ef-bcd5-bed7b31e3b8f"
      },
      "execution_count": null,
      "outputs": [
        {
          "output_type": "stream",
          "name": "stdout",
          "text": [
            "3\n",
            "y\n"
          ]
        }
      ]
    },
    {
      "cell_type": "code",
      "source": [
        "# 최소값: min\n",
        "print(min([1,2,3]))\n",
        "print(min(\"python\"))"
      ],
      "metadata": {
        "colab": {
          "base_uri": "https://localhost:8080/"
        },
        "id": "dNZOsb7RBg8_",
        "outputId": "ee6a91ed-2a7e-431b-9be2-dd0e0a3b7166"
      },
      "execution_count": null,
      "outputs": [
        {
          "output_type": "stream",
          "name": "stdout",
          "text": [
            "1\n",
            "h\n"
          ]
        }
      ]
    },
    {
      "cell_type": "code",
      "source": [
        "# x의 y제곱: pow(x, y)\n",
        "print(pow(2,4))\n",
        "print(2**4)\n",
        "print(pow(3,3))"
      ],
      "metadata": {
        "colab": {
          "base_uri": "https://localhost:8080/"
        },
        "id": "wqF_Un9KBsnB",
        "outputId": "15e91dff-8f8e-42b2-87ad-2274a195afbc"
      },
      "execution_count": null,
      "outputs": [
        {
          "output_type": "stream",
          "name": "stdout",
          "text": [
            "16\n",
            "16\n",
            "27\n"
          ]
        }
      ]
    },
    {
      "cell_type": "code",
      "source": [
        "# 범위 함수: range\n",
        "print(list(range(5)))         # 0~4\n",
        "print(list(range(5, 10)))     # 5~9\n",
        "print(list(range(1,10,2)))    # 1~9, 2씩 증가\n",
        "print(list(range(0,-10,-1)))  # 0~-9, -1씩 증가"
      ],
      "metadata": {
        "colab": {
          "base_uri": "https://localhost:8080/"
        },
        "id": "7I5g_oaLCCcH",
        "outputId": "77b073a9-3e89-40eb-f305-16c18dd5d3f2"
      },
      "execution_count": null,
      "outputs": [
        {
          "output_type": "stream",
          "name": "stdout",
          "text": [
            "[0, 1, 2, 3, 4]\n",
            "[5, 6, 7, 8, 9]\n",
            "[1, 3, 5, 7, 9]\n",
            "[0, -1, -2, -3, -4, -5, -6, -7, -8, -9]\n"
          ]
        }
      ]
    },
    {
      "cell_type": "code",
      "source": [
        "# 반올림: round\n",
        "print(round(4.6))\n",
        "print(round(4.2))\n",
        "print(round(5.678, 2))  # 2번째 자리까지 표시"
      ],
      "metadata": {
        "colab": {
          "base_uri": "https://localhost:8080/"
        },
        "id": "T-KYCfHUCKEF",
        "outputId": "23cc4286-2963-4828-92ff-94d5183ce899"
      },
      "execution_count": null,
      "outputs": [
        {
          "output_type": "stream",
          "name": "stdout",
          "text": [
            "5\n",
            "4\n",
            "5.68\n"
          ]
        }
      ]
    },
    {
      "cell_type": "code",
      "source": [
        "# 정렬: sorted\n",
        "print(sorted([3,1,2]))\n",
        "print(sorted(['a','c','b']))\n",
        "print(sorted('zero'))   # 단어도 정렬 가능 / list.sort()로는 처리 불가"
      ],
      "metadata": {
        "colab": {
          "base_uri": "https://localhost:8080/"
        },
        "id": "FhBGxkNhDaai",
        "outputId": "a779f1d6-1cca-428e-e2a4-d295af8dd155"
      },
      "execution_count": null,
      "outputs": [
        {
          "output_type": "stream",
          "name": "stdout",
          "text": [
            "[1, 2, 3]\n",
            "['a', 'b', 'c']\n",
            "['e', 'o', 'r', 'z']\n"
          ]
        }
      ]
    },
    {
      "cell_type": "code",
      "source": [
        "# 문자열 변환: str\n",
        "str(3)"
      ],
      "metadata": {
        "colab": {
          "base_uri": "https://localhost:8080/",
          "height": 36
        },
        "id": "fzsC--l3Dmkk",
        "outputId": "f9af9874-de87-4677-8808-365586fbfac7"
      },
      "execution_count": null,
      "outputs": [
        {
          "output_type": "execute_result",
          "data": {
            "text/plain": [
              "'3'"
            ],
            "application/vnd.google.colaboratory.intrinsic+json": {
              "type": "string"
            }
          },
          "metadata": {},
          "execution_count": 50
        }
      ]
    },
    {
      "cell_type": "code",
      "source": [
        "# 합: sum\n",
        "print(sum([1,2,3]))\n",
        "print(sum((4,5,6)))"
      ],
      "metadata": {
        "colab": {
          "base_uri": "https://localhost:8080/"
        },
        "id": "TM4woKgqD3fD",
        "outputId": "dcb82306-7373-4804-8397-13898ce9aa4d"
      },
      "execution_count": null,
      "outputs": [
        {
          "output_type": "stream",
          "name": "stdout",
          "text": [
            "6\n",
            "15\n"
          ]
        }
      ]
    },
    {
      "cell_type": "code",
      "source": [
        "# 튜플 변환: tuple\n",
        "tuple(\"abc\")"
      ],
      "metadata": {
        "colab": {
          "base_uri": "https://localhost:8080/"
        },
        "id": "NBZl5c5BD_t4",
        "outputId": "54ac57c9-f193-4a72-fb9e-e99a82e28dd2"
      },
      "execution_count": null,
      "outputs": [
        {
          "output_type": "execute_result",
          "data": {
            "text/plain": [
              "('a', 'b', 'c')"
            ]
          },
          "metadata": {},
          "execution_count": 52
        }
      ]
    },
    {
      "cell_type": "code",
      "source": [
        "tuple([1,2,3])"
      ],
      "metadata": {
        "colab": {
          "base_uri": "https://localhost:8080/"
        },
        "id": "Ls3SQzobEGm3",
        "outputId": "5eebfb94-56b2-40db-a0eb-e694d85f02da"
      },
      "execution_count": null,
      "outputs": [
        {
          "output_type": "execute_result",
          "data": {
            "text/plain": [
              "(1, 2, 3)"
            ]
          },
          "metadata": {},
          "execution_count": 53
        }
      ]
    },
    {
      "cell_type": "code",
      "source": [
        "# 자료형 확인: type\n",
        "print(type(\"abc\"))\n",
        "print(type([]))"
      ],
      "metadata": {
        "colab": {
          "base_uri": "https://localhost:8080/"
        },
        "id": "d2FGhX45EIed",
        "outputId": "543893c7-ccd1-434f-bc8b-afe9693a5aed"
      },
      "execution_count": null,
      "outputs": [
        {
          "output_type": "stream",
          "name": "stdout",
          "text": [
            "<class 'str'>\n",
            "<class 'list'>\n"
          ]
        }
      ]
    },
    {
      "cell_type": "code",
      "source": [
        "# 동일한 개수로 묶어주는 함수: zip\n",
        "# for문 사용시 2개의 리스트를 zip으로 묶어 동시에 돌릴 수 있다. \n",
        "# ex) for i,j in zip(list1, list2):\n",
        "\n",
        "list(zip([1,2,3],[4,5,6]))"
      ],
      "metadata": {
        "colab": {
          "base_uri": "https://localhost:8080/"
        },
        "id": "P22zTAxXEPPb",
        "outputId": "b37bf243-a5f5-4180-a7da-c3a7c4db6899"
      },
      "execution_count": null,
      "outputs": [
        {
          "output_type": "execute_result",
          "data": {
            "text/plain": [
              "[(1, 4), (2, 5), (3, 6)]"
            ]
          },
          "metadata": {},
          "execution_count": 55
        }
      ]
    },
    {
      "cell_type": "code",
      "source": [
        "list(zip([1,2,3], [4,5,6], [7,8,9]))"
      ],
      "metadata": {
        "colab": {
          "base_uri": "https://localhost:8080/"
        },
        "id": "UntAour9EYIC",
        "outputId": "06a814b0-f27f-444d-d9b2-6bbadb28a7a6"
      },
      "execution_count": null,
      "outputs": [
        {
          "output_type": "execute_result",
          "data": {
            "text/plain": [
              "[(1, 4, 7), (2, 5, 8), (3, 6, 9)]"
            ]
          },
          "metadata": {},
          "execution_count": 56
        }
      ]
    },
    {
      "cell_type": "code",
      "source": [
        "list(zip('abc', 'def'))"
      ],
      "metadata": {
        "colab": {
          "base_uri": "https://localhost:8080/"
        },
        "id": "MR4725bmEemr",
        "outputId": "83d72c83-c9eb-461d-abfd-39c4dd687b61"
      },
      "execution_count": null,
      "outputs": [
        {
          "output_type": "execute_result",
          "data": {
            "text/plain": [
              "[('a', 'd'), ('b', 'e'), ('c', 'f')]"
            ]
          },
          "metadata": {},
          "execution_count": 57
        }
      ]
    },
    {
      "cell_type": "code",
      "source": [],
      "metadata": {
        "id": "_66SnSjiEizr"
      },
      "execution_count": null,
      "outputs": []
    },
    {
      "cell_type": "markdown",
      "source": [
        "[실습예제]  \n",
        "1. 내장함수 abs() 함수를 사용하여 abs(-3) + abs(5)의 값을 변수 a에 할당하세요.  \n",
        "2. 내장함수 round() 함수를 사용하여 round(4.7)+round(2.2)의 값을 변수 b에 할당하세요.   \n",
        "3. 내장함수 max(), min() 함수를 사용하여 max([1,3,5,4,2]) + min([1,3,5,4,2])의 값을 변수 c에 할당하세요.  \n",
        "4. 내장함수 sum() 함수를 사용하여 sum([2,4,3,1,5])의 값을 변수 d에 할당하세요.  \n",
        "5. 마지막으로 변수 a,b,c,d를 모두 더한 값을 화면에 출력하세요. "
      ],
      "metadata": {
        "id": "dF2gUVOWGZRX"
      }
    },
    {
      "cell_type": "code",
      "source": [
        "a = abs(-3) + abs(5) \n",
        "b = round(4.7)+round(2.2)\n",
        "c = max([1,3,5,4,2]) + min([1,3,5,4,2])  \n",
        "d = sum([2,4,3,1,5])\n",
        "print(a+b+c+d)"
      ],
      "metadata": {
        "colab": {
          "base_uri": "https://localhost:8080/"
        },
        "id": "iIc6bl2gHJBk",
        "outputId": "ffb45ba9-af7c-4429-938e-d3737045f4d1"
      },
      "execution_count": null,
      "outputs": [
        {
          "output_type": "stream",
          "name": "stdout",
          "text": [
            "36\n"
          ]
        }
      ]
    },
    {
      "cell_type": "code",
      "source": [],
      "metadata": {
        "id": "Aycg0EXVHZ3k"
      },
      "execution_count": null,
      "outputs": []
    }
  ]
}