{
  "nbformat": 4,
  "nbformat_minor": 0,
  "metadata": {
    "colab": {
      "provenance": [],
      "collapsed_sections": [],
      "authorship_tag": "ABX9TyOpkauWCFSQlwHhZVDPgzaM",
      "include_colab_link": true
    },
    "kernelspec": {
      "name": "python3",
      "display_name": "Python 3"
    },
    "language_info": {
      "name": "python"
    }
  },
  "cells": [
    {
      "cell_type": "markdown",
      "metadata": {
        "id": "view-in-github",
        "colab_type": "text"
      },
      "source": [
        "<a href=\"https://colab.research.google.com/github/violet417/violet417/blob/main/1%EA%B8%B0%EC%B4%88_08_%EB%B6%88_%EC%9E%90%EB%A3%8C%ED%98%95.ipynb\" target=\"_parent\"><img src=\"https://colab.research.google.com/assets/colab-badge.svg\" alt=\"Open In Colab\"/></a>"
      ]
    },
    {
      "cell_type": "code",
      "source": [
        "# 불 자료형: 참과 거짓을 나타내는 자료형 | True와 False는 반드시 대문자로 입력\n",
        "a = True\n",
        "print(a)\n",
        "\n",
        "b = False\n",
        "print(b)"
      ],
      "metadata": {
        "colab": {
          "base_uri": "https://localhost:8080/"
        },
        "id": "ThEneEEk0dSl",
        "outputId": "4b9c20ea-13da-4b94-c436-0800521b8eb9"
      },
      "execution_count": null,
      "outputs": [
        {
          "output_type": "stream",
          "name": "stdout",
          "text": [
            "True\n",
            "False\n"
          ]
        }
      ]
    },
    {
      "cell_type": "code",
      "source": [
        "print(type(True))\n",
        "print(type(False))"
      ],
      "metadata": {
        "colab": {
          "base_uri": "https://localhost:8080/"
        },
        "id": "Zh_ba5jD0yX-",
        "outputId": "6ac275f4-c5b7-4c81-943e-69cbb17d596e"
      },
      "execution_count": null,
      "outputs": [
        {
          "output_type": "stream",
          "name": "stdout",
          "text": [
            "<class 'bool'>\n",
            "<class 'bool'>\n"
          ]
        }
      ]
    },
    {
      "cell_type": "code",
      "source": [
        "print(5 > 3)\n",
        "print(3 > 5)"
      ],
      "metadata": {
        "colab": {
          "base_uri": "https://localhost:8080/"
        },
        "id": "HkhE_pkA03a3",
        "outputId": "46e0dee6-e90d-4b8d-9681-ff2b6f272b7f"
      },
      "execution_count": null,
      "outputs": [
        {
          "output_type": "stream",
          "name": "stdout",
          "text": [
            "True\n",
            "False\n"
          ]
        }
      ]
    },
    {
      "cell_type": "code",
      "source": [
        "# 비어있으면 거짓, 비어있지 않으면 참\n",
        "print(bool(5))\n",
        "print(bool(0))\n",
        "print(bool([]))\n",
        "print(bool([1,3,5,4,2]))\n",
        "print(bool(\"\"))\n",
        "print(bool(\"Python\"))\n",
        "print(bool(()))\n",
        "print(bool((1,3,5,4,2)))"
      ],
      "metadata": {
        "colab": {
          "base_uri": "https://localhost:8080/"
        },
        "id": "fTR8hHzR09qM",
        "outputId": "ef95bfde-d528-43ad-c306-a3c1db22a70f"
      },
      "execution_count": null,
      "outputs": [
        {
          "output_type": "stream",
          "name": "stdout",
          "text": [
            "True\n",
            "False\n",
            "False\n",
            "True\n",
            "False\n",
            "True\n",
            "False\n",
            "True\n"
          ]
        }
      ]
    },
    {
      "cell_type": "code",
      "execution_count": null,
      "metadata": {
        "colab": {
          "base_uri": "https://localhost:8080/"
        },
        "id": "18_f1mjRbeQu",
        "outputId": "5483fc39-a567-4627-beca-ca75997fddf5"
      },
      "outputs": [
        {
          "output_type": "stream",
          "name": "stdout",
          "text": [
            "[True, False, True, True, True, False, True, False, True]\n",
            "6\n"
          ]
        }
      ],
      "source": [
        "'''<실습 예제>\n",
        "1. 5 > 3의 값을 변수 box에 추가해주세요.\n",
        "2. 3 > 5의 값을 변수 box에 추가해주세요. \n",
        "3. 5 == 5의 값을 변수 box에 추가해주세요.\n",
        "4. 5 != 4의 값을 변수 box에 추가해주세요. \n",
        "5. bool(5)의 값을 변수 box에 추가해주세요. \n",
        "6. bool(0)의 값을 변수 box에 추가해주세요. \n",
        "7. bool([1,3,5,4,2])의 값을 변수 box에 추가해주세요. \n",
        "8. bool([])의 값을 변수 box에 추가해주세요.\n",
        "9. bool({\"이름\":\"강동원\"})의 값을 변수 box에 추가해주세요.\n",
        "10. bool({\"이름\":\"강동원\"})의 값을 변수 box에 추가해주세요.\n",
        "11. 변수 box 안에 있는 True의 개수를 화면에 출력해주세요. '''\n",
        "\n",
        "box = []\n",
        "box.append(5 > 3)\n",
        "box.append(3 > 5)\n",
        "box.append(5 == 5)\n",
        "box.append(5 != 4)\n",
        "box.append(bool(5))\n",
        "box.append(bool(0))\n",
        "box.append(bool([1,3,5,4,2]))\n",
        "box.append(bool([]))\n",
        "box.append(bool({\"이름\":\"강동원\"}))\n",
        "print(box)\n",
        "print(box.count(True))"
      ]
    },
    {
      "cell_type": "code",
      "source": [],
      "metadata": {
        "id": "YI1bXBCZdewi"
      },
      "execution_count": null,
      "outputs": []
    }
  ]
}