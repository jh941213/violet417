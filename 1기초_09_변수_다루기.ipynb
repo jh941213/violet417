{
  "nbformat": 4,
  "nbformat_minor": 0,
  "metadata": {
    "colab": {
      "provenance": [],
      "collapsed_sections": [],
      "authorship_tag": "ABX9TyPJrjzJ2Db9aQIOrdodfJti",
      "include_colab_link": true
    },
    "kernelspec": {
      "name": "python3",
      "display_name": "Python 3"
    },
    "language_info": {
      "name": "python"
    }
  },
  "cells": [
    {
      "cell_type": "markdown",
      "metadata": {
        "id": "view-in-github",
        "colab_type": "text"
      },
      "source": [
        "<a href=\"https://colab.research.google.com/github/violet417/violet417/blob/main/1%EA%B8%B0%EC%B4%88_09_%EB%B3%80%EC%88%98_%EB%8B%A4%EB%A3%A8%EA%B8%B0.ipynb\" target=\"_parent\"><img src=\"https://colab.research.google.com/assets/colab-badge.svg\" alt=\"Open In Colab\"/></a>"
      ]
    },
    {
      "cell_type": "code",
      "execution_count": null,
      "metadata": {
        "colab": {
          "base_uri": "https://localhost:8080/"
        },
        "id": "nquqsIzxtyif",
        "outputId": "36cefc8c-882d-41b9-8819-72312c2bd6bc"
      },
      "outputs": [
        {
          "output_type": "stream",
          "name": "stdout",
          "text": [
            "3 5\n"
          ]
        }
      ],
      "source": [
        "# 변수 할당하는 다양한 방법\n",
        "a = 3\n",
        "a,b = 3,5\n",
        "a,b = (3,5)\n",
        "(a,b) = 3,5\n",
        "print(a, b)"
      ]
    },
    {
      "cell_type": "code",
      "source": [
        "a = b = 'python'\n",
        "print(a)\n",
        "print(b)"
      ],
      "metadata": {
        "colab": {
          "base_uri": "https://localhost:8080/"
        },
        "id": "IpObSMyVuB1n",
        "outputId": "9d5ca5b6-341d-4f49-9005-951967c33224"
      },
      "execution_count": null,
      "outputs": [
        {
          "output_type": "stream",
          "name": "stdout",
          "text": [
            "python\n",
            "python\n"
          ]
        }
      ]
    },
    {
      "cell_type": "code",
      "source": [
        "a, b, *c = [1,3,5,4,2]      # *은 각 변수에 할당하고 나머지 값을 입력\n",
        "print(a,b,c)"
      ],
      "metadata": {
        "colab": {
          "base_uri": "https://localhost:8080/"
        },
        "id": "PTTLIbEQuUKE",
        "outputId": "53675e11-7ee5-407d-af17-f892700c3bc1"
      },
      "execution_count": null,
      "outputs": [
        {
          "output_type": "stream",
          "name": "stdout",
          "text": [
            "1 3 [5, 4, 2]\n"
          ]
        }
      ]
    },
    {
      "cell_type": "code",
      "source": [
        "a, *b, c = [1,3,5,4,2]\n",
        "print(a,b,c)"
      ],
      "metadata": {
        "colab": {
          "base_uri": "https://localhost:8080/"
        },
        "id": "w6tkj1tvucOX",
        "outputId": "450ac08e-5e0e-4861-8884-6b68e0378094"
      },
      "execution_count": null,
      "outputs": [
        {
          "output_type": "stream",
          "name": "stdout",
          "text": [
            "1 [3, 5, 4] 2\n"
          ]
        }
      ]
    },
    {
      "cell_type": "code",
      "source": [
        "# 변수를 복사하는 방법\n",
        "a = 5\n",
        "b = a\n",
        "b = 3\n",
        "print(b)\n",
        "print(a)"
      ],
      "metadata": {
        "colab": {
          "base_uri": "https://localhost:8080/"
        },
        "id": "ZeRvyTleuic2",
        "outputId": "68de5b23-f235-4801-d0a5-90595a59670a"
      },
      "execution_count": null,
      "outputs": [
        {
          "output_type": "stream",
          "name": "stdout",
          "text": [
            "3\n",
            "5\n"
          ]
        }
      ]
    },
    {
      "cell_type": "code",
      "source": [
        "a = [1,3,5,4,2]\n",
        "b = a\n",
        "b[1] = 10\n",
        "print(b)\n",
        "print(a)\n",
        "print(a is b)    # 같은 값을 가르킴"
      ],
      "metadata": {
        "colab": {
          "base_uri": "https://localhost:8080/"
        },
        "id": "qv8hYvn6u-aZ",
        "outputId": "527ea2a2-9cec-4de7-dec3-8d388f28a2dd"
      },
      "execution_count": null,
      "outputs": [
        {
          "output_type": "stream",
          "name": "stdout",
          "text": [
            "[1, 10, 5, 4, 2]\n",
            "[1, 10, 5, 4, 2]\n",
            "True\n"
          ]
        }
      ]
    },
    {
      "cell_type": "code",
      "source": [
        "# 서로 동일한 변수인지 확인하는 방법\n",
        "a = [1,3,5,4,2]\n",
        "b = a\n",
        "print(a is b)"
      ],
      "metadata": {
        "colab": {
          "base_uri": "https://localhost:8080/"
        },
        "id": "a7JPA1UqvRR2",
        "outputId": "ea17e6e8-9cd8-4b70-c786-f9678aa9f7cb"
      },
      "execution_count": null,
      "outputs": [
        {
          "output_type": "stream",
          "name": "stdout",
          "text": [
            "True\n"
          ]
        }
      ]
    },
    {
      "cell_type": "code",
      "source": [
        "a = [1,3,5,4,2]\n",
        "b = [1,3,5,4,2]\n",
        "print(a is b)"
      ],
      "metadata": {
        "colab": {
          "base_uri": "https://localhost:8080/"
        },
        "id": "Crk9g7Sqvq7t",
        "outputId": "341ebe48-9c52-4df3-8f79-6c0ede5c0f14"
      },
      "execution_count": null,
      "outputs": [
        {
          "output_type": "stream",
          "name": "stdout",
          "text": [
            "False\n"
          ]
        }
      ]
    },
    {
      "cell_type": "code",
      "source": [
        "# 변수를 복사하는 방법\n",
        "a = [1,3,5,4,2]\n",
        "b = a[:]    # a를 복사해서 b에 넣어라\n",
        "b[1] = 10\n",
        "print(b)\n",
        "print(a)\n",
        "print(a is b)"
      ],
      "metadata": {
        "colab": {
          "base_uri": "https://localhost:8080/"
        },
        "id": "yz6fkqQzvyUu",
        "outputId": "d4e690d0-e190-4549-8a6d-0bb0bd3a463b"
      },
      "execution_count": null,
      "outputs": [
        {
          "output_type": "stream",
          "name": "stdout",
          "text": [
            "[1, 10, 5, 4, 2]\n",
            "[1, 3, 5, 4, 2]\n",
            "False\n"
          ]
        }
      ]
    },
    {
      "cell_type": "code",
      "source": [
        "from copy import copy\n",
        "\n",
        "a = [1,3,5,4,2]\n",
        "b = copy(a)\n",
        "b[1] = 10\n",
        "print(b)\n",
        "print(a)"
      ],
      "metadata": {
        "colab": {
          "base_uri": "https://localhost:8080/"
        },
        "id": "S6fLETGXwJv3",
        "outputId": "58d14df8-83fa-49fd-bc22-ced829ac98fc"
      },
      "execution_count": null,
      "outputs": [
        {
          "output_type": "stream",
          "name": "stdout",
          "text": [
            "[1, 10, 5, 4, 2]\n",
            "[1, 3, 5, 4, 2]\n"
          ]
        }
      ]
    },
    {
      "cell_type": "code",
      "source": [
        "# 변수를 교환하는 방법 (새로운 변수를 만들어 교환)\n",
        "a = 3\n",
        "b = 5\n",
        "c = a\n",
        "a = b\n",
        "b = c\n",
        "print(a)\n",
        "print(b)"
      ],
      "metadata": {
        "colab": {
          "base_uri": "https://localhost:8080/"
        },
        "id": "rwwaAGwRwqN-",
        "outputId": "2c24870d-2cf6-4255-a253-7323c1c07fad"
      },
      "execution_count": null,
      "outputs": [
        {
          "output_type": "stream",
          "name": "stdout",
          "text": [
            "5\n",
            "3\n"
          ]
        }
      ]
    },
    {
      "cell_type": "code",
      "source": [
        "# 변수를 교환하는 방법 (쉬운 방법)\n",
        "a = 3\n",
        "b = 5\n",
        "a,b = b,a\n",
        "print(a)\n",
        "print(b)"
      ],
      "metadata": {
        "colab": {
          "base_uri": "https://localhost:8080/"
        },
        "id": "r084IURww-wX",
        "outputId": "2eebaa20-9a45-496b-8499-306a4c94ff0f"
      },
      "execution_count": null,
      "outputs": [
        {
          "output_type": "stream",
          "name": "stdout",
          "text": [
            "5\n",
            "3\n"
          ]
        }
      ]
    },
    {
      "cell_type": "markdown",
      "source": [
        "[실습예제]\n",
        "1. 코드 a, b = [1,3,5,4,2]에서 에러가 발생하지 않도록 변수 a에는 1이, 변수 b에는 [3,5,4,2]가 할당되도록 코드를 수정해 보세요. \n",
        "2. 변수 a와 b의 값을 서로 교환후, 화면에 변수 a와 b를 출력해보세요. \n",
        "3. 변수 a이 있는 모든 값에 b의 값을 더한 후 변수 a를 화면에 출력해보세요. "
      ],
      "metadata": {
        "id": "0xUPyYc2kk6s"
      }
    },
    {
      "cell_type": "code",
      "source": [
        "a, *b = [1,3,5,4,2]\n",
        "print(a, b)\n",
        "a,b = b,a\n",
        "print(a)\n",
        "print(b)\n",
        "\n",
        "a[0] = a[0] + b\n",
        "a[1] = a[1] + b\n",
        "a[2] = a[2] + b\n",
        "a[3] = a[3] + b\n",
        "print(a)"
      ],
      "metadata": {
        "id": "CU7u0dl8xN-p",
        "colab": {
          "base_uri": "https://localhost:8080/"
        },
        "outputId": "684c845a-fde9-4b7e-d3bd-bcd002d23997"
      },
      "execution_count": null,
      "outputs": [
        {
          "output_type": "stream",
          "name": "stdout",
          "text": [
            "1 [3, 5, 4, 2]\n",
            "[3, 5, 4, 2]\n",
            "1\n",
            "[4, 6, 5, 3]\n"
          ]
        }
      ]
    },
    {
      "cell_type": "code",
      "source": [],
      "metadata": {
        "id": "8EN5xumWkj3H"
      },
      "execution_count": null,
      "outputs": []
    }
  ]
}