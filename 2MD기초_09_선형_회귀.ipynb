{
  "nbformat": 4,
  "nbformat_minor": 0,
  "metadata": {
    "colab": {
      "provenance": [],
      "authorship_tag": "ABX9TyNo5Uley1tmlkl2zXP9MJE5",
      "include_colab_link": true
    },
    "kernelspec": {
      "name": "python3",
      "display_name": "Python 3"
    },
    "language_info": {
      "name": "python"
    }
  },
  "cells": [
    {
      "cell_type": "markdown",
      "metadata": {
        "id": "view-in-github",
        "colab_type": "text"
      },
      "source": [
        "<a href=\"https://colab.research.google.com/github/violet417/violet417/blob/main/2MD%EA%B8%B0%EC%B4%88_09_%EC%84%A0%ED%98%95_%ED%9A%8C%EA%B7%80.ipynb\" target=\"_parent\"><img src=\"https://colab.research.google.com/assets/colab-badge.svg\" alt=\"Open In Colab\"/></a>"
      ]
    },
    {
      "cell_type": "markdown",
      "source": [
        "## 선형 회귀\n",
        "- 종속변수 y와 한 개 이상의 독립변수 x와의 선형 상관관계를 모델링하는 회귀분석\n",
        "- 머신러닝의 목적은 실제 데이터를 바탕으로 모델을 생성해서, 다른 입력값을 넣었을 때, 발생할 아웃풋을 예측하는 데 있음. \n",
        "- 여러개의 특성을 가지고 어떤 선을 그리는 것\n",
        "- 데이터를 놓고, 그것을 가장 잘 설명할 수 있는 선을 찾는 분석법이 선형 회귀이다. \n",
        "\n",
        "#### 어떤 직선이 가장 좋을까?\n",
        "- 실제 값과 직선 사이의 오차들의 합이 가장 작은 선이 제일 좋은 선. \n",
        "- 오차(error): 관측값(실제값)과 예측값 사이의 차이\n",
        "\n",
        "#### 단순 선형 회귀와 다중 선형 회귀\n",
        "- 단순 선형회귀는 ![화면 캡처 2022-10-21 155124.png](data:image/png;base64,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)로 표현할 수 있으며,  (독립변수 1개)  \n",
        "다중 선형 회귀는 ![화면 캡처 2022-10-21 155142.png](data:image/png;base64,iVBORw0KGgoAAAANSUhEUgAAAYMAAAAkCAYAAABrClbwAAAAAXNSR0IArs4c6QAAAARnQU1BAACxjwv8YQUAAAAJcEhZcwAAFiUAABYlAUlSJPAAACzOSURBVHhe7Z0HdJXXtee3KkWAqKb3Ikzv1cY2xTZgYxuTOCFrkufJvJmsOGvWmizHzpqZN2vW2DOT5by8eXHcsh5xDXZMtR2KY5pN70V0YUAIEE0CRBOgNvu3zz3Sp8u90pWAGOz7dw7f1VdO2Wf3c74vCUeO5ZdJHHHEEUcc32kkho5xxBFHHHHchcCbLy0rLT8GS00QNwZxxBFHHHc5EhISpayGyj8ccWMQRxxxxPGNAF/el5uAGoEEPSQlJklqaqqV5ORkSUpKctdjRHzNII444ojjm0CCNwSqystQ5zVD6EkXEZSVyZm8fFmydImcOHHCDEOfvn3kvvvukzp16tj9iRo9VIV4ZPAdA3nE4pLiGucT46geJaUlRttvCxgPJY7bhTIpKVEaa7kZmEEoLZOUlGRJS0uTXbt2yYwZM2TPnj0WJcRaf9wYfGfgvBBCRxikpiFkHNUjJSXFaJuQWHMv704E46HEcZug0UBKSupN05j1gsSkRGnapKlMmjRJRowYId17dJdevXpZVJCQEBs/1soY+OAmCH8u/Hw0BO+vbakNItXjy7cZ6jgY0xzNOSobNmyUkydPGQOVanh5M+P3zwZLOKq6dreDMRFl4UEfOHBANm3aLJcuXbJzGIW7dexFxUWya+cu2b59u1wvul4+ntuJvxet/l7tBBFs09PySuFV2bFjpxXoXfmumgMevHjxopw7f17at28vbdu2leKiYjMG1aWIQBV3uA7RcUJfOhueXvAD43yxXi/hunaouqG46/zrS+0Qy5MQiL5TIoW85Nsi9Tv4XG3TKjwTrCe8jnLa1bL+WIEhKNV/kpJTZPfuvTJz5kequL4248C4PWKdCd9vo6kew3cxUE9JaWlozJVrrW4+YgXPlvchrJ5K/buJNqoDI3P8o7yj41y7bp189NGHcl6Fkb9deG53WalMiTsTnnbXr1+Xv/3tb/Lpp5/a71KdT1IRNUV18w39aC/8mucfCtcdDWsH6q6KV3wfI/XvViC859ASBX3lyhVZtHCxLPjrAim8UmgGorRM+1ALmwu/sU6AITh39qwZg5YtW9q4aM/TsSo9U4UxqOhR3bp1pX79+uLDGa74QrqB6xRCZO6pbix2XSlUWlKqpUSLdjJUUC7VFe7zK+jVgT7Vq1fPwqXkpOTyfvuCxUxRJemvefAcY+a52qZVqDs1tY7Wk1a+iOPhJwV6ce12p21gFpCUnCTJWjwcHcrKSywIn3PGGaQpJTk5MTSuhPJziSoA3M9zXAsPj2mddbTqegHteJZ5pa5gGOzpynxyLbyNWwk/Lo9kpQu8RH+gNyOv/N+dD5vLED3hFU8/zlWlSCIB5VZJ/pKTQ1ccbJ4TVf60Da55esKH5L+RP88rCXpfbRDkFYqNTc/ZCPXIPCWqEo3Ej7cKFeOqKIC+mDzqWG8m6nLyovyl9Z3WiP9s/lkzBOnpjVX+kqVBWgMbOzJRFZL+yy9f/J+h3wFUdPvqtauSfThbjuQckcuXL1cIGITU/y6rdcs5kiO5x47L2bx8s0L109Ic42jngkOk0+7vBEkJCWtqSqrUUYaBaVJTVTGq8uRvO6dEStW2gucoMArqx3udFfU60DaEwRKysv7111/LuXPn1IiUKmHSrO9cL1NP4NLFS3Ls2DG5ruOkP/SZQhpl7569clat7KXLlxyzqKDHAt9+UXGxHFe6HD58WNs/a3RLrZPq2tb/rl27JidyT0juiVyru269uuVew60E1VEvRuBA1n7Zr4V8YudOHZQmRepR+PY4OpMQqQeMi37j0Rw6dMj6XnCuwOauDuPSe9xzZZKby7gP6ZhTJU0ZEeBh5up8QI+8M3ly7fo1Y1I8GoM+bG3rMVL7Hnhwp06dMr48feq0CVOK8g4PocyY99OnT8vx48cdP6pSuZUI0gcDV6Z8xRh2Zu6Uk7m5MnLESGmofJaoCozoS4P00P3u32j0vRPgeZeoZvPmzcaj5KDhXc7Hwpvl/F9UZPLHPOXl5am8lRmPM0eAqAC5PJKTIyV6bz275p7Pyz8jWVlZcub0GTmr9zRs0ChkTKBe7KAfp/POyIGDB+XEyRMmZ8gy7TA3xSqjZ1U20QFXr16VtAZpMY0xFgTnmaMvXIEGV1Sfbt221egwZPAQ1T919Df3VNxZFfwdGLSiYmf0vtBoLnNnpjz88CPSvUcP1T+5clBl9bTKC3OJLGB4Io0xojHw+WXyT9t3bJeVq1bKwoULjTnatW0n99zTwgmAKvTTZ87IogUL5U8zZsjWLVukYcOG0q17t/IpC2/U/ZWgYdFVOaUKF2HOVyOSd0aPatH47f7OK/+dn89v9/c5vYcwnDCyDso7hGArtAlDMfivvvpK3njzTflciZSiynDQwIGWR8O7LbpeJDt37pR3331XLhRckO7de5R7Q1u2bJY/vPaazJ07x5TKQH0ORkYZemaOBBQVioG2D6nS27BxkyxbulTmz58njRs3lq5du1rfYLxt27bJv/y/f5HVq1dLly5dpF27dsacKJFbDdJBCBOGkdw2xqBTp44Wabn2oKAvlenp4RMdCPbs2bPlg/c+kC2bt0q3bl3lnhbKEzonRHqQ5+2335bf//5frR3GDK0xIl+t/EreeustWbVqlbXbrWu3G4ygbzu8D9AN+iK48CJ8ST+uX7tu9MMooYAY3+tvvK5zN1d59R7pofPKc+BWCTq1+GJ9VwHbvWuXOhEnZeTIkbarIzEhSa87Q2ACzo8QAj8jgrFSQKQ+Mx7zaiPwYnXPBsF9wXvcDKsjpXy4ReW5SGVlxIjhxjt40O5q1YBPqLewsFC+/PJL44WlS5ZKg4YNpIcqqESlFf1PUBn8auVKeU3lLFF/d1deSFKegFd3ZO6QP/7xjzJv3nzl2UMyfPhwex5DX5X8BUFq5IzqJ/QSMvbJ/E/Moe3UoaPUVYPAvGVlHZD3339PPv7LxzaHffr0sSNjuBW84msI1uSiETUGKg/btm+zv4cOHWrOqBmDGrZLDMpY+LXgr59ZvQ889KDqoCLJzMyUVSpziz9fJDuVPzu07yBNmjZxDyqCbVVJVZTukSNHZNLESTL1qammrJevWG7KAKVZrILXXo3DfaNHS7369bQrIh07dixvAIMSBGdhAgiBlf541mx59Q+vyWuvvyGvvvaGKt/XlTFceV3P+eL+fl3efMPd86e335Hde/ZYnTBdeM6ayYRh8ABGjRotQ4YMMet4Uq0jbUN8LzBZqjiOHj2qEc5lx6DadxQ5Aj158iRT2s2bN5dGjRrFPEkszBJNQK+BAwfIT/7hH+z8ggUL5NzZc/YbIZk/f77Vj8KkDSKXmjJCNPjx+cKYrRjTOIYkssLwl2jh6OkSrQfQFKZr3bq1eh4PK1M1NWE7f77AnqXvHC9cuKCRQa7RG1oCzqenp8vgwYPVCHUyxYICx6MPbn0Ltg0/edAvDDj1ERVgYJ599lnp0KGDLFi4wOaQMBjhmqMGnMguIyPDcqc8e6vgaOnp6mjI32XkekM9ZqyuBOgeKrECWuNURFN8XCuPqCKAuahKabr+O7rA975U6q8yRbDftq4Wei74fDh8u8gMcoQBIFIjSqBOaFZSTHq4xJyTvXv3yhU1HKQI6Tcpod69e8v9948xA39vz54myyAW+aBf6AAMWnZ2tjkq//jTn8rA/gNM5nbs2GFR8kFte546DFn799vum27duoVquDXwPQ2nmecbxzsh2vLb6O2vV9xfHRzNEuS8RlDnC85JeuN0G3dm5nbVLT3luV/8XMaPH68GcZXM/2S+OUzwjm/bIyK3WOirx1atW8mUKVOkfYf20q9/P1VYzczS5KmHjuChGMiTYtEQdIS7c+fOxgzRJo1O4NW3ad9Opv+7H8kLv/61/OrFF+VFPb6gx2jlVy+8IM9r4fjcL56TAapk6SNthTO9X+iify3VM6RffpHPWVBAdFIomzdtslTQ+XPnNWy7Um4sSF+Qa8NTgJDhYTKThPCET5YnMvQgmujSuYu0bdtGRqvBJNI6dPiQHNSQdcWKFdav3/3ud/Kzn/3MogL/PGAEnmFqCvrk6eJpw7hQpsHca2JisgqgtqdHtWBKEnd/VQzI+PESUcK9e/fiEYsugvOdo2E/jgQhOYbhukYFgLFA1xYqnBkZPYy20BV68XQZc+SL0lb/MTr4ebY0g/Ja/379pKcqCLz+UaNGWdsoFSIGIkHG+tJL/0t+/eKv7T6e9XT18+ZLVWONBOrCyXF18huaOLrQUxwBit5gni9HCorObowB9AnnxGgX2skTBP2+eOmiFbcoWJlHiMLwgAuvFpY/G14H/bcxaB+hDXPK0XXR1aeX7befW67zDIAGPBsN/hnmuq/Os+1cU9lDaXmQIjp2NMciCOuvyiP34bB4nYLjME7lj79LzFnS6/pssHj4v7mHDRMYkAH9+0sfNSxN0xvL4EGDLC29PytLjh47Lis1KiHt/E///Z/kxRdelGFDhzkZ0ef9OIPt+BIr/FiJeoyYoWIyGOIJeBVaoXO539HYGXJfquNRr9RJNxcUFFjGBVojX+wogo44nDhShw8dDmVWnD4Mwo04DP4WrDJpHzpLioPf5IrP5ufbdSwvA8jL10hBBzF0KHmvitRNVCgRUrTu5sooLVu3lHta3qPeZiszPvwdubSSFi3d/S1UCRCGxwLyyYwDwb1aeNUEDBDVoEAIqSAKHi45bcAEEf0czz0u9957r3kpQQQnxzNNECgtlFxa/foaQfFaeLJ5qZxjq97cufPMQ37qqadsoYc8XrIqTk93jvSpvLjTIVT+KxJgBBTBlcIrVog+KIwVhmDeOLLeU3iV41Ut3F9o52kzEgP6llE+ePbwQ9H1a8qAbvcM7WLo2boKnbnOsVD7gEDgOODV40xgHD1vwfxagR19qVAZFaB9lFbduvUklfUbfQbno3HjJsaXc+fNNW/0Rz/6kSkR0gpmbPS54Hho0yuraGMNB/dQSD0wHk/bwkJVYhyVlly7dk3paHS9KpdUoUNTfl9VujIHCGGksQHqR7mzjvX+++/LSy+/JBs3brT6eI76ichZq3nllVfkN7/5jRzJPmLP8hzgvnXr1srLL78sn3/+udXFuUigPeab/tHG5SuXQuO5bOO4rnNr5Zr2X/mjUBX2VR3rNcaj/MWzVdEOOYDOaQ0amGyxsIlCNwWgYOsq/WuiugWv9orSC8ArZijUuPfu3ceiu+SQ0xAJlc5SdYjA6KS0+mlmAODZ1m1am3HK0Shy9pw5cv5CgUz73veku0YEjZRXbC0BRR1C5Nainw8H44c+6B3jES3QDeNnMqnnoSGeOnxyxWQwxFfcp4U5B0EjGg6iCeh8JDtHDcFpadG8ufTqea+lhNyOjJBhUXoYf7H1WeXUy4BHxOVldwthCw251Ak5NkLztWvXaAh+wgaFYJL2OKTWpq16toOHDHWWXZ+m8aqIZoqjJDTQUKFNV6IDhqA/4bt/ooH7WzRrJm1btzZGhhB4p3hV6zes1z4PsUVy/kZo6BfGY+vWbRrWnpQnn3jCmIQJ8/CKD9CXGw2Co51DmdIpyaUr9Jn58+bLMz94RsaPGy/NmjV1Y9c6/FhgHn5zrx+ru+rv8Mcb4QUza3+WMvtsGyvMTV2koJJ0bnJVkZzIzVUhvChLliyVolBqirksVi+0hUZ/35v2PenYqaO5CsGx0bIpap2iemr0W7RobsyM4QSkEY5oeHrgQJZ57zgGML4TYhaeL1vfoEd/9dj8uOmf+keurzoG2mQuiOZ0mvU+vKkKGnG031ptq1at1QA0NMU3edIkmaiRLKlKB087aOPmDM+vfEx6CeGgf+bNR4GnK2Nds2aNrFq1WhUkRtNHMHbZUqosRhLt1bMFZOdl0i6GkAj74QkTTI5oN3x3B/2gnDt/ztKIGDg8uoweGcazzCHPkGIlsoQvcSq6du0ixfCu0o/nly5bpvT4m9GPyOheVQy058fIeJjv82cLZOnSJeagOB6p2Cbs116KtY6XX3pJjW+qnTfoXCSrjPTM6CmTJk+yl52MbwO8Ao05hyw10evQ7tRpPFY80lKVtwuWtujWpatFghgaZsrmQumGo8ZGg5/+9D+Y7nEKz81oED6tUi6HQfURoqfVqwVD0FRljnanqiP22OTHpGuXzuX95h5+84zVqWeCY/K0CZ6LBsYO/VH6ixYtkk2bNhnvWd0hfsAAME6AM8p8Wn91LBgyaPbggw/KhIcnhBzayJEY/YGuBw8e0nry5emnp0kXHRfGKFH5xetkkzOtA8fTmD+MlpUWkI0Y7mf5rU5g2TNdKlcuX5Ldu3ZaeI7H3Eg9O5TmRh3omAcfkC7K5C7McrVUbioIvaKNMbg6qSn2DB1ESbiSHLFwH56eJ2p14B4UDAvQ27dtM0992PBhtqNn7/59smXrZnnk0Yc1ZDwqWarAHnjgAVUurdQrKZAVy1eYxz5hwsNWR2hIBhag9+7bW75A2VyVIt62UzKV+8UE8CzXlixZYrnt//SP/9Emi7wpCpprVF8+Jj0WquLcsH6tbNq4wZQHi+UIpmsjMmVtrrTAVCz0822SfqqUUcyE6uxY4MmL6q2PfeghmThxoqV6Bg0YIP303v79+loU1KZtG2M+15YbkW/RBMT+Ex3LMVm1erV0797NokKigk/mz7Nnh6qRRZjr1qlrYXoD9Q737N6jimeHrTF10zGxU4yNCCy6sli5cNFCWa50Z2E4+0i2eYwWPZhXpC1rR4yhGaeeYbcWa1Wr16zWerfKNDViw4YODdBVedHuTDDjB+1JI3322Wc6v8tlh/IEqbtm6izUq1c/pND8SCvg6QofwBOdO3cy2vbt21f69+1vNIPOeNfFOh6MKQue/fsr3aE/qQqlP7nvlq1a6lxGz39zDv7at2+f0XP06FGqsJRWSlNiROSAaItPDhD+s3bDfKEM6B80wjsk+iK1i7Gon1a/XBZ8G5CFhdzG6Y1t4wRj6BviAcaCAcrLO6PX0+WZ7z8jgwYOtvUvx0/97V5y7M3UC7WtkUbnCri/eLclWfLPnpW58+dLc6Uz63C0i3I8rMbuwQfGyFl1Jth9NmjQQGnbpq0ZuzVr19k6GhEkY4fvXJXOWeDo6OcUPkjS80n605PV94jryE49nbt1KlNbNm+WHzzzjIy5/36jNZEIdZn613upzY7WltXgCudUwVKxu7+ijXBwnQLNmScyA9DOyyPpq44dO5nzgFM1bdrTMmzYML3ev+I+vYe5JysDvDwGAc/Si0uXLtt3iYhAH5/yuPEoOpuxlajTkp2TLQsWLLQ2pzw+Rfk4LcQzfgRq4EO/KoHLlYaqPxHAthpmNdRw6ty5fAsfCXvwKrA8/UKeHk+BaETC40tOSpHDKuzLly23UJDnEfJyokeBJzCKBSYZqpGII0ZkQll/dPIQ4KZNGrvBa8dOq4fCqnuPjB7msbdv384Wxsm3wXirV62ysHaiepp1VJkBjBSWHkuO18ZOoH1798noUaPtumdIRo5X4f52i414WeyOoE4UNV4a1twZGW8IHJMXaRu7MjPVe1lp/SAFMnny41afa8Lu5kdUNNax4gX50BIa4MGi8Bg7Y8DjHDZsqFzTPqFggqCfeKHh8C1zZM7q461qveS1mdeDB7+WfWpk8bhQFHU0PMfwXNPIi621O3dm6jw0UaM02NJ2JarMWVh89513bPvgmDH323iz1Yhs2bzFdo+RSuvAriet3+ZTiQBzWx+0jl17dtlLNhh6+sI9nq7cy5FU1tatW2XR4kXSqmUrU9KJOpDtO3bIrFkf2/yMHT/O0k/wUyReAtCJtRLWeszr0rYAfEG7B74+qF59gSlglD7ntDN2DyAXjgGDtpHa4Jz6uTZ/z/77Zy2FQsSNMqcu2qctePb55583menevbtdw0Fygp0gjzzyiKVXWtzT3AwdCI9CqAde7KRKAwcLJBiPOTkkotu8eZOtow0fNlznur45b54F4fESeFvHQ1303VHjRhAhst6YkMTmDKLw6+otL1QHpa8qxQHq8JBWLJCC0EaEbdu2ywWVxR9On24REf1hbGYQ9To7nDiyJTo5VQ2rtg0PMqd6wfrBT68b6CsGC4eP9FNaWj113op0Htj5h9NQoe3gF37UUZpAX+bK8RXvDKnR03tpnzqrAzSBxsiCyVjoEWSR9bRTyvtseGDNjU0u8D7tBdf1cDIxWFWBfpOtQX9h1DGoxmMmB7weUKgRw2nTg+ys86l848/ArEXmekPFTQDFQriHAiBPSfjDpCHEjz76qO3fDyq3aLAOJJSpUUnTELaHelBDVakPVoYbqmWYMV60wgIPBgCriUfuEU14AQxB3hChsFD11Cn1UHdb3nP0qFFmWOrVS1OmSDYGw+NiH/6gQQM0DO5hDIMg5eefUwZeLLv1Wd92MPR2cMQlykFwTHi0TrZBrl612qIp+kJIaOkJvd3SIVpYVzh56qQsWrhIDmcflmZNm1kYWVMwXpQbC5CkiViYIz1zQT1gvGDqvKaCc1mPl1XQ8Zg5z72+wIDRYApLxwQzp6c3Uj64ogb9qDHiqpWrjKkHaKSB8kAAoTk02LBhg+VqCXthSk83FrOgD5HEE088oZHYePnxT34sGepFky9nUcwrMnjLGy5ou2//Xln8+WLpoMa8Xdu2tv0Yz0g7aXQwo6z34mGz/oNHPXHSRHn88cfVe5oiT0+dauPI3LnT6AScUxIZKD0MJfdC34saKV+whdxLVhgrBg5FiiLHW4O2nr7QviraAuhLn0jvDFWZaKVGhfFznmLOjdIWGkNr+Mm8VURZGQqjgBEYPGSQtGvX1hkJfS4czAnjoc/0jzExFnbBXdTflzTKYawUrl9gjFzjHv3NGomlyrRtU6AhBGXfe9q8g8ImCmhz9my+rDOvv5nJNNsc0Qm0AU+wR55NHThZbTRKR8EzJ4ezs+W999+Xf5sxQ43u1zanOJREHK/+4VVZtmyZFOj8YkwxUlAkQXmEAj/sy8oyZ4AF1Z4qh2yJN/nSts2wqQzS4yKVjcPZh2Tmh3+2LefsNiSqgHdnzZ4t//r7VzVqWWvzj5GoCuhM6AONodllpd8VPRpv6G/quIo8XoOnrjg+gfbcEyo8Gw0Vxq7U3vUiGuzcqbPq6cZGdwqG/mLBBdmiNG3erKmMGDFM6cyYnYFzM+Zm7UYuCYMZM72XQbE416hRuhw/nmthPQLeQb2UQYMGWcOWI7WnosMzNAp1nHpjU59+OlCmxlQee+wxS534+qqCEUQ9igYNG6lCvCRffvWVrF+/3hRCm9ZtzIARjjZskC6Zmbtkzpw50lQZdMjQIUZkFuwAApmW1sAU+uTJk80gQUyz5GZhmRQ8kFQ5fDhbabPJvER2LCxdutRoRBqKtAaMfVEVBfcTRpPXM3FW+uEVci+0wQNFQCxqMG+Bu2xGogJ6oCjpL4XfeBpJpNdUOXPkb+p1bz+mmPLx91OqpakKImPG68HwkX5Zvny5MfN9o++TZiroeLPwC2HwYjWieOb9+vaTDh072JzwPH0gLffLX/7SlDTAO8RzIbJBEbHIZusFej/RBYqEhcgtWh/rL6wFTZo40bYPZh85IufVKBktVQlijDAHHNl19POf/9w8aQTswsUL0lQdBOYepYYBxfv0cxkJ0CVIXww442ccFH3YnqeghKEvR0uBcr8+Vx1tPeiPGRdVROGAL4026tA4hRDKl+sR2XJK3hmeaO35vtAv5t/GpLyQSJ+1GL8pPWxs8Cjn9Aj/cLSdUjGMxXuo8ARGcqU6DBj/sWPHmQwzRhQ07a9bt84cCtYgiB7xiDEEvLS2S50w+HaJKv1NGrFsUEdh7/79xoO8K8RXOlHc9In5R9Fu3rrFXjjDEMycOdMiP9JqnTp3lqPHjskJ1jD0bpNzpQP0OvD1AXVyt9o64rz586ytVavXyJ59e6WuGmHSw++8+45F1/QZI+Lm4EYwF8Dy9CF+Qd5xaHjWitEeuUvVeeCN/Qo59DxTFZwsJZqBzM/Pt0056DsWnnE4yeCQciRFS2qKbAh8rv/TAq9X8HtMnGkMrk/zNmmrVm2sA/PnzbNrCBmoSohuBKEWH1W6bHvUK5fz1Ra80Kospgd9oq+kepo2byFn8vNkq4Zl7Ebq2x9lzssaJRaeYeRY6GGi/DfAuebfzkWxjRs31vZMUycgdRSET1OwfYuXod55+237tgth4hg1BGwz5Trbc7mXethjfUYZVp06W9zCc8a6u0l2/WeyfZuxGIQbwBB0HKV6NG+5JlMVATATQpqiIXq3HhnqkbEYvcTWDdgZxrWGDRra1lyiSDYdkNogDWTKQRWJV1JEbOPGjTP6MkZeQGObL+nDNm3amKJAMTIvbFZgx9AHf/6zeonvSXrjxjJu7HjJ6NFTGurzfLIX3uBehPX48WPaV/qbaIoHbxqa6j+SqvOLt0ekSM6dCBElatdjBHe6tEoI0FeLn53Ya7oRKAGUQSRl7pV41Ot6Ct7kUyA1gXJb6FcF7IzOt+e6YPEItlL5vPKuPosxbNumvXq6l21dCHlgzQyjAz+QE8cBWLZ0mT03ceKj+m+Z8EUC5o53UTDiOIFEgBiT47m5lg6ZOHGSyuv9lm4kBcp80B8MD1Hju++9azuzmN9x48ZrPRmW4WDNkDowbIfUOTuqvIJc1FH+69EzQx559FFTrKSDcUJwetlmf7+2xUuotGcOgCLSHARxA330hOOzqkr18Heh9HM0Oke/kVUgC9AoPd3aYM1x1sezpEOHTvLkU1MtKuc8eiAcEUfhJ5sS7BaWs0dGhqSpoOMB85o6nl7QO44VnqHxSmpTqrOYQaBgWIjMzT1pefPHNCpo0KCRKSUULblIvCwWekh5kVdDMbHiDxVKSskROm8MhQGDmucUopJX1KbolAxs0Vuy9Av54osvzHjgjdTXiADv6KGHHjJP+oMPPrBF6pMnTobqdbuH+G3pJ63f09TVDvys1BD6CF4K9VOvKRHrf83gW/cFD8RtD+UlIRar+5v3xR5vruNp8uEsXoufMGGCfaYEAWJcXOc5PCtoD1j4JR+7ePFiU+YPP/KIeXE+dXNVvRxC9M8W/NWU/6RJk9Wzb2ELgygE7sMDJJ3HSzeXNcx2cHTFqEAD2idfi+fH9lMEHOPl57EmCCoCaIpn54WG2qpTFLcHXhZrJpOmDUOFubFIX2XA04zxIAccfQki0nn4jq2d6TpfpENaNL/HImQcMONH5Qf4iJw/Ttp9999n24KTkohg8ZyTpVPHTragTZqPdBbRYu97e6lsdTfP95JGeawZ4VCUlsB77oWzzB2Z8t5771skO+3paVYPsj5kyDDluzKZ+eGHxiu8hUyaBn7tpI5Yr169bZsnBgV+JDXdQ40RuxHpA4bFOy8gWmQQjiB9UMbQFJ7xMlET0KZX6Ozmgy6s25Limz13rsz409s6vpmydNlSW7965pkf2DqhXx+q4EtXB6i0myi8O7ZtDijhUII0vmfvHgvHp02dFnrhhzDSKWYGFPuQgqTx5dbCMbCrF+Zo0qSJhad9+/YLKUMmgzCecCzRXi4j/eMW49z6h1GFSQsNzBap9PTmLZstPEXRswBdrIoML4hnWVjnOyvs1rE3dZXxfZ14uxgdGK15s+YycNBAS1VY3Wbg3MIkef7VGp5e13pRinhOzhDFbgTLAaMp86ToOPney34NG2EM9uhDF0eL6LiBL6Cp1okiR8n26t3bcvCNmzY1ZQjd3CJYgrTS8T700Fjp0rWbhuTKcCjLILQe1z2XW92g4T/fV+mt/YN2fCuGG5ij66rMyRWjTKaoQW+rddt7BMqXzZSWTZo2M4XPOyjsxPAv8sH4jNELL9EAERtrN1OmPCF9+vS2/uJg1EYoTanp8+yUIqIZNXqU1Eurb+dqJhO3Er7VmrQeigD0H/hi08ZNpsBHjBhpdLZ5DdCnqpq55u+lTl6Ea9OmtTlbnTVCJsvAXdwDnfj7fp3XocOGGZ8QTaDUoS1zziIr6df16zfIg9w3ZIjyc5IZETZb8J0fogR4kDptsV55gXXGJ5980iJTzyuN0htL06a88V9mu6l63dvbDBD9Ybs7Yz988LClrXDe2OWUrLxRqEYIZ4TrODcYBD/GIF2qg+cXUlmk21nMZjOH+zYRRiJ0YxVABi3No4V1svpqoB4Y84C9SV2gDhg7wYgO0Wc4Tewu8joomoMS8f/2khO2M0F/YBDweEF2To68+dab9lbvT378E8vr2k2hynmuBiQJHYOI/emawC/kEJbifcJcKH/grKvbssckg3BiuXHpv3ovtChNKJN/e3uGfKSexe9++88ycuQo9W6vmcfN3aZYlPAob+o0hg/ViQKFKYPXAdetJ6pciO4Jef/3//m/wkthr7zyW1sUQvG6NmoO6sXzIXfPB9VYE8EgIDCxRlmRZsz4REE95kmGcbJLKSnrGpNXvsa8sEAPXcnbf7niS3tfAEU++bHJKrDNIIwxMPQyb4p50yP5ZCI3qyNQPx8xJEKArtCU64C/GScLyR999JF9GoH92GyXZO6JNmsDbwworEUR9bGbB4NPf+i3zx3fLYDORcpr7JrDQE9Qo8wicDQlUh28/HE0p8nkwaUq+O3nzqfccBh0Cg2Otionyl8LFi6UOXPmyX/+xXMyYrh693o+/1y+/PMrr1jf/ut/+x8afTY0niO969u11BHyFTradCgfMefIta1NWNvuXvjn008+lQ8/+lB+9fyvZOSI4dYP1hlee/11m9vnnvuFOh31a8U36AB4jvUxtlFT99ixYy3iwIjVRA/aGPV+aGmZCY0ykIsU9Iu2g45BNqGvo3v4HEIM117E2YWYMAF5MazOdbVcx1V4PvnkE8vxsnWQLYI2eYHKYx8C4O7wcnsAQ/h0BCkYiGLE0+LBeH06IjLwGpzg+3y/Z2QIjpGpuK/E9pz7SQgHbbkQtOJFNg/6YNv1QkLjz6HMfP8c49YMpMR4nv3uP5z+Q0tfwTw1SbeFj4T5x0BR6Kunhwd0cnR1tAleA05QXUSwccNG2/9Pbp8FegQOeMMJEBRb7FUv0wu1I4njH+jOHNMfYIqaudfzjJ035efNm2cKmzYwhtRtHnxIedQUCBc0pA4i5e9///uWA8cw+n7fbUBRs2Y2fsJ4M8r8vpmxePljXuAZbwjMsw0B79jJlM4rExuC5xmez1QnBueBt/bhC2iep9Edeoqov4FGkShZzjP3tOff4OVv2qQerVVKNKK4am9a81Y4joPdZjyMXPLJCt5yb66Rhp3X+Txx8qS9/U0kT1ueJjWVR9pgjKQoyR5Q2EILnRwvx4ZyY6e8Xar6AbPAC3y8Mc5uJdN3nNf2KJFRcf4GYwCxeJCVaRbrVq1ZI+s1dP/9H16Vg4cP2fa/nj0zXANKILpfMXV3LhBYL/gwYeXiPE937Ub7iHGE8DAgC4/kM/1eZ55BWFiX8MqEOjxT8jtYZ7Af0DB4nXbIacIYKG++xsk9RDG0QamNwgKOadz/AYZvtzagdV+og7FYoV47p7Ty9+hv6GDK0tqsuIZScKXMvtXEV3F5UYttpSwas/hMCoDdQdSDQqc9PB6iI1en0jD0H79RwEbzAN0RVI4IBms0pHGmT58uY8aMsReqoCmGGeN9M6AN4GlrYwzR/G4FY3HjcUrnZkA98ImPbKkT8C+/uWbthc754rUL3ntW1n5p3aaNpWdw6pi77Owjcv5cga0pgFOnTiqvuK8S+4KBYU5M9kK8mGweNDKITNKS02Tcx7e0cnKOWMqlsRqZa/o3O9L278+y3XEsgAPeg7H1vdDcxwrPH3bUDnh+rSn8nFAXY6AwFPQF4/Y6xstKdW3ccBXhpGBVyY+98tvfypt/fMv25PLNF171NyUIIUPP3C2oiiBVXUMRYWHZh30s97htc9u9e4+lhnhl/4B6EXzsznukIJa2gtdR8ngk7KTJOXJUdmbusq1y7B1m7zWfOiCspB+gpt7I7UIs44wEeMi89bw82z/Oew/9Bw1UA1Bs6chTeWfkzzNnqkMyzwww92I8EGwYPBIQ8mCbnkYc+VIlC8ZEHqzV0C5vuh7IOmCfSWb9h4VO70nWBtHGGkfVvAAiX3cKmsL6DgY9QyNadsTYW+aq5MrKVLHrvCk72RrHihXLbc0OmQVmDEzZV4bjI98m1909KHde4KL+jIyetkUawHNmZLRN5Ny21m/cYDLroo1vFoyFMQTHFZmm0XHD/5+B96TYwsm2Kjxevho4/YfT7ZVq8lHekjFNnsyRxfPbAQwfq/W8DDNr1iwzkhcuXLQX7c5oiMo3/fEs2erG4iU0jKawIsHu1//OF5yXZcuXyV/+8rG93EYoybY6PGe2o1Inb9DyOQ1QkzaCqO1ztwqePnh7hw4eslw72+H2798va9etlXXr19lC4Q5V0LxrwRu9CB3K3vU9tv6rW2N8SsjMYnxOzlE5ffqM8TWLgxS+T8XXMvm8BLsuLAJR/q4tvmna3kowlm9mPK5Nxyd6VEeAz5PgePFJbD5lQhRdohYAWeC9E3iHz8Lwoh4pIyIQ5t9iDedAVwnaAvAkW8N52ZHPQ7Rt116j2ySrg00cvEvDFmbWS3kfyK8N1ZZO3xyNb0TEBWRAHtdCdCU627b48iBhyZ3R7b8vYBQ8WbaVUfhNOodJxFtgUYw3QfmOON5lbYFXghGmDRam2GfNYjeeCG0RHrOVs7aLyHca8KhI0fCmJUoYhY/ge+FgIZExI3Au11w7Jc0bpAUFFyy1x8JosX0g0a35AD93ltqrZRtx3F7wJc+LFy8Z//MVBA94iHdL+GwGvGI7fEKRQE1TW17O4UkcBOqy/wc9BREGcogx4DpbkX1bd3MqMIioxsAjGAI5z8xFBB7fFePApKM8/NZOdjfAOO4T1SzOBheRa4eKNtw2SNt5oefZBQU4Z7uZbkIx3knw42VM8BQeGH8zTmCpoaiCFul8NG7kvLtGlIdX6VJOrn2fevu2CPW3A8xFxXx6pQvvO3lzc+XXnfy2Ub+2VBsEFbuPFIJ1+fVUnIabbetORJXGgMEzaBYkXE7KIfhANPH7NoLdCPq/CMDLrMw4tYX3TgBHmM/D//42MWBwvNFAnvZmQYQVpKc3Bh63oo04bh88nzBnXhf52fMOK9dupQyG1+fPU2q76Hsno9rIII4gYL8KBVIBSBgn452N4PxEmsM44vhu49tl2m4TwtUIRAuqk7gZqB3C6RpePG4NfSPVHEcccXjEjUGNgWoKL3HEEUccdzfixiAGVPiSbFYrs8/e8p83Bgl2jKOmCPf+w4tH3JePI47bj7gxqAGckqr8X2W1FUdt4KkYqcQRRxx/D4j8f1f8wEirRycEAAAAAElFTkSuQmCC)로 표현할 수 있다. (독립변수 2개 이상)"
      ],
      "metadata": {
        "id": "EqHbH6p6PIBU"
      }
    },
    {
      "cell_type": "markdown",
      "source": [
        "#### 선형 회귀 모델\n",
        "from sklearn.linear_model import LinearRegression\n",
        "\n",
        "lr = LinearRegression()  \n",
        "lr.fit(문제집, 정답지)  \n",
        "기울기: lr.coef_  \n",
        "절편: lr.intercept_  "
      ],
      "metadata": {
        "id": "iJ9dMmUSZa8G"
      }
    },
    {
      "cell_type": "code",
      "execution_count": null,
      "metadata": {
        "id": "RzjFgzGF9bT_"
      },
      "outputs": [],
      "source": [
        "import pandas as pd\n",
        "\n",
        "perch = pd.read_csv('perch.csv')\n",
        "# data의 길이를 가지고 무게를 예측\n",
        "data = perch['length'].to_numpy()   # to_numpy()로 행렬로 바꿔줌\n",
        "target = perch['weight'].to_numpy()"
      ]
    },
    {
      "cell_type": "markdown",
      "source": [],
      "metadata": {
        "id": "FDwi2urStnV0"
      }
    },
    {
      "cell_type": "code",
      "source": [
        "data2 = data.reshape(-1, 1)  # 문제집은 2차원 이어야 하는데 1치원으로 되어 있음. \n",
        "                            # 자동행, 1열로 모양 바꿔줌."
      ],
      "metadata": {
        "id": "ob4VHYLYYy9T"
      },
      "execution_count": null,
      "outputs": []
    },
    {
      "cell_type": "code",
      "source": [
        "from sklearn.model_selection import train_test_split  \n",
        "# 데이터 분할\n",
        "# 훈련 문제집, 시험 문제집, 훈련 정답지, 시험 정답지\n",
        "train_input, test_input, train_target, test_target = train_test_split(data2, target)"
      ],
      "metadata": {
        "id": "2zcM0KJvanC8"
      },
      "execution_count": null,
      "outputs": []
    },
    {
      "cell_type": "code",
      "source": [
        "lr = LinearRegression()\n",
        "# 학습할 때는 훈련 문제집과 훈련 정답지로 훈련 / K 최근접 이웃 회귀 모델: 97%\n",
        "lr.fit(train_input, train_target) \n",
        "# 평가는 시험 문제집, 시험 정답지로 함.\n",
        "lr.score(test_input, test_target)   # 회귀에서의 평가는 r^2(r 스퀘어 값)으로 확인\n",
        "                                    # r^2: 분산을 표준편차로 나눔. 얼마나 퍼져있는가를 확인\n",
        "                                    # 실제값과 예측값이 퍼져있는 것이 비슷하다면 r^2 값이 1이 됨"
      ],
      "metadata": {
        "colab": {
          "base_uri": "https://localhost:8080/"
        },
        "id": "ngwShyxAch6j",
        "outputId": "de3d8cf5-23f3-456a-ad64-78b11d133a57"
      },
      "execution_count": null,
      "outputs": [
        {
          "output_type": "execute_result",
          "data": {
            "text/plain": [
              "0.926733673177107"
            ]
          },
          "metadata": {},
          "execution_count": 29
        }
      ]
    },
    {
      "cell_type": "code",
      "source": [
        "lr.coef_    # 기울기"
      ],
      "metadata": {
        "colab": {
          "base_uri": "https://localhost:8080/"
        },
        "id": "-yw1V04kcq8R",
        "outputId": "cae3a71f-c75a-4385-e7d7-7a9a73574ddb"
      },
      "execution_count": null,
      "outputs": [
        {
          "output_type": "execute_result",
          "data": {
            "text/plain": [
              "array([35.09626046])"
            ]
          },
          "metadata": {},
          "execution_count": 30
        }
      ]
    },
    {
      "cell_type": "code",
      "source": [
        "lr.intercept_    # 절편"
      ],
      "metadata": {
        "colab": {
          "base_uri": "https://localhost:8080/"
        },
        "id": "v35YymSFfSQk",
        "outputId": "e7083a56-da02-4970-d9e9-9e6069e8c6ed"
      },
      "execution_count": null,
      "outputs": [
        {
          "output_type": "execute_result",
          "data": {
            "text/plain": [
              "-595.3770301471754"
            ]
          },
          "metadata": {},
          "execution_count": 31
        }
      ]
    },
    {
      "cell_type": "code",
      "source": [
        "# 길이 데이터가 하나만 있으므로 표준화할 필요 x\n",
        "from sklearn.linear_model import LinearRegression\n",
        "import matplotlib.pyplot as plt\n",
        "\n",
        "plt.scatter(perch['length'], perch['weight'])\n",
        "# 아래 기울기와 절편을 이용하여 선 그려보기\n",
        "# x축은 10~45까지, y축은 기울기 * x(10~45) + 절편, 색상은 red\n",
        "plt.plot(range(10, 46), lr.coef_ * range(10,46) + lr.intercept_, 'red') # 기울기 * x + 절편"
      ],
      "metadata": {
        "colab": {
          "base_uri": "https://localhost:8080/",
          "height": 284
        },
        "id": "qy75SJR4b3y5",
        "outputId": "520da893-2294-496f-97a1-3e3da31f3b99"
      },
      "execution_count": null,
      "outputs": [
        {
          "output_type": "execute_result",
          "data": {
            "text/plain": [
              "[<matplotlib.lines.Line2D at 0x7fed0e5b4190>]"
            ]
          },
          "metadata": {},
          "execution_count": 32
        },
        {
          "output_type": "display_data",
          "data": {
            "text/plain": [
              "<Figure size 432x288 with 1 Axes>"
            ],
            "image/png": "[encoded data removed]"
          },
          "metadata": {
            "needs_background": "light"
          }
        }
      ]
    },
    {
      "cell_type": "code",
      "source": [
        "perch2 = pd.read_csv('perch2.csv').to_numpy() # 바로 2차원 행렬로 가져옴\n",
        "perch2"
      ],
      "metadata": {
        "colab": {
          "base_uri": "https://localhost:8080/"
        },
        "id": "SEfuSl6mfVBq",
        "outputId": "8ca6c261-e267-41ad-8bf6-260808fb4a9a"
      },
      "execution_count": null,
      "outputs": [
        {
          "output_type": "execute_result",
          "data": {
            "text/plain": [
              "array([[ 8.4 ,  2.11,  1.41],\n",
              "       [13.7 ,  3.53,  2.  ],\n",
              "       [15.  ,  3.82,  2.43],\n",
              "       [16.2 ,  4.59,  2.63],\n",
              "       [17.4 ,  4.59,  2.94],\n",
              "       [18.  ,  5.22,  3.32],\n",
              "       [18.7 ,  5.2 ,  3.12],\n",
              "       [19.  ,  5.64,  3.05],\n",
              "       [19.6 ,  5.14,  3.04],\n",
              "       [20.  ,  5.08,  2.77],\n",
              "       [21.  ,  5.69,  3.56],\n",
              "       [21.  ,  5.92,  3.31],\n",
              "       [21.  ,  5.69,  3.67],\n",
              "       [21.3 ,  6.38,  3.53],\n",
              "       [22.  ,  6.11,  3.41],\n",
              "       [22.  ,  5.64,  3.52],\n",
              "       [22.  ,  6.11,  3.52],\n",
              "       [22.  ,  5.88,  3.52],\n",
              "       [22.  ,  5.52,  4.  ],\n",
              "       [22.5 ,  5.86,  3.62],\n",
              "       [22.5 ,  6.79,  3.62],\n",
              "       [22.7 ,  5.95,  3.63],\n",
              "       [23.  ,  5.22,  3.63],\n",
              "       [23.5 ,  6.28,  3.72],\n",
              "       [24.  ,  7.29,  3.72],\n",
              "       [24.  ,  6.38,  3.82],\n",
              "       [24.6 ,  6.73,  4.17],\n",
              "       [25.  ,  6.44,  3.68],\n",
              "       [25.6 ,  6.56,  4.24],\n",
              "       [26.5 ,  7.17,  4.14],\n",
              "       [27.3 ,  8.32,  5.14],\n",
              "       [27.5 ,  7.17,  4.34],\n",
              "       [27.5 ,  7.05,  4.34],\n",
              "       [27.5 ,  7.28,  4.57],\n",
              "       [28.  ,  7.82,  4.2 ],\n",
              "       [28.7 ,  7.59,  4.64],\n",
              "       [30.  ,  7.62,  4.77],\n",
              "       [32.8 , 10.03,  6.02],\n",
              "       [34.5 , 10.26,  6.39],\n",
              "       [35.  , 11.49,  7.8 ],\n",
              "       [36.5 , 10.88,  6.86],\n",
              "       [36.  , 10.61,  6.74],\n",
              "       [37.  , 10.84,  6.26],\n",
              "       [37.  , 10.57,  6.37],\n",
              "       [39.  , 11.14,  7.49],\n",
              "       [39.  , 11.14,  6.  ],\n",
              "       [39.  , 12.43,  7.35],\n",
              "       [40.  , 11.93,  7.11],\n",
              "       [40.  , 11.73,  7.22],\n",
              "       [40.  , 12.38,  7.46],\n",
              "       [40.  , 11.14,  6.63],\n",
              "       [42.  , 12.8 ,  6.87],\n",
              "       [43.  , 11.93,  7.28],\n",
              "       [43.  , 12.51,  7.42],\n",
              "       [43.5 , 12.6 ,  8.14],\n",
              "       [44.  , 12.49,  7.6 ]])"
            ]
          },
          "metadata": {},
          "execution_count": 33
        }
      ]
    },
    {
      "cell_type": "code",
      "source": [
        "# 특성이 3개가 있기 때문에 데이터 표준화 필요!"
      ],
      "metadata": {
        "id": "yHmfWbo3gdn7"
      },
      "execution_count": null,
      "outputs": []
    },
    {
      "cell_type": "code",
      "source": [
        "train_input, test_input, train_target, test_target = train_test_split(perch2, target)"
      ],
      "metadata": {
        "id": "tQsmv6F-gtdP"
      },
      "execution_count": null,
      "outputs": []
    },
    {
      "cell_type": "code",
      "source": [
        "import numpy as np\n",
        "\n",
        "mean = np.mean(train_input, axis = 0)\n",
        "std = np.std(train_input, axis = 0)\n",
        "\n",
        "train_scaled = (train_input - mean) / std\n",
        "test_scaled = (test_input - mean) / std\n",
        "\n",
        "lr = LinearRegression()\n",
        "lr.fit(train_scaled, train_target)\n",
        "lr.score(test_scaled, test_target)"
      ],
      "metadata": {
        "colab": {
          "base_uri": "https://localhost:8080/"
        },
        "id": "6FEYeWFwg7i-",
        "outputId": "94b52f87-a60f-482d-a5f1-c16f1baa0db7"
      },
      "execution_count": null,
      "outputs": [
        {
          "output_type": "execute_result",
          "data": {
            "text/plain": [
              "0.9213356264726111"
            ]
          },
          "metadata": {},
          "execution_count": 35
        }
      ]
    },
    {
      "cell_type": "code",
      "source": [
        "lr.coef_"
      ],
      "metadata": {
        "colab": {
          "base_uri": "https://localhost:8080/"
        },
        "id": "xA8MOaC5iAAm",
        "outputId": "3ecea885-7f16-4120-fb7b-fdace54e17d1"
      },
      "execution_count": null,
      "outputs": [
        {
          "output_type": "execute_result",
          "data": {
            "text/plain": [
              "array([ 61.54580606, 175.23412226,  98.36315407])"
            ]
          },
          "metadata": {},
          "execution_count": 36
        }
      ]
    },
    {
      "cell_type": "code",
      "source": [
        "lr.intercept_"
      ],
      "metadata": {
        "colab": {
          "base_uri": "https://localhost:8080/"
        },
        "id": "MkIqSQ6UiBRc",
        "outputId": "db89d8ca-be94-4fca-a14a-13c4ce486f1b"
      },
      "execution_count": null,
      "outputs": [
        {
          "output_type": "execute_result",
          "data": {
            "text/plain": [
              "375.58333333333337"
            ]
          },
          "metadata": {},
          "execution_count": 37
        }
      ]
    },
    {
      "cell_type": "code",
      "source": [],
      "metadata": {
        "id": "y65NG-NgiC2t"
      },
      "execution_count": null,
      "outputs": []
    }
  ]
}