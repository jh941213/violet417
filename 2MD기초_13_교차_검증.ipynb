{
  "nbformat": 4,
  "nbformat_minor": 0,
  "metadata": {
    "colab": {
      "provenance": [],
      "authorship_tag": "ABX9TyMj/ZpT1huQpwxZBkXqTaBi",
      "include_colab_link": true
    },
    "kernelspec": {
      "name": "python3",
      "display_name": "Python 3"
    },
    "language_info": {
      "name": "python"
    }
  },
  "cells": [
    {
      "cell_type": "markdown",
      "metadata": {
        "id": "view-in-github",
        "colab_type": "text"
      },
      "source": [
        "<a href=\"https://colab.research.google.com/github/violet417/violet417/blob/main/2MD%EA%B8%B0%EC%B4%88_13_%EA%B5%90%EC%B0%A8_%EA%B2%80%EC%A6%9D.ipynb\" target=\"_parent\"><img src=\"https://colab.research.google.com/assets/colab-badge.svg\" alt=\"Open In Colab\"/></a>"
      ]
    },
    {
      "cell_type": "markdown",
      "source": [
        "#### 교차 검증이란?\n",
        "- 검증 데이터 없이 훈련 데이터와 시험 데이터로만 모델의 성능을 검증하고 수정하는 과정을 반복하면 그 모델은 시험 데이터에만 잘 맞는 모델이 되어버림. \n",
        "- 따라서 모델 성능을 검증하고 수정할 때는 검증 데이터를 따로 만들어서 조정하고 최종적으로 시험 데이터에서 최종 검증을 하는 것이 좋음\n",
        "\n",
        "#### 교차 검증 장단점\n",
        "- 장점: 모든 데이터셋을 훈련, 평가에 사용할 수 있음.\n",
        "- 단점: 시간이 너무 오래 걸림"
      ],
      "metadata": {
        "id": "2ZhseJXPdp7r"
      }
    },
    {
      "cell_type": "code",
      "execution_count": null,
      "metadata": {
        "id": "hIpmVPfAdkKq"
      },
      "outputs": [],
      "source": [
        "# 교차 검증\n",
        "from sklearn.model_selection import cross_Val_score\n",
        "\n",
        "cross_val_score(model, data, target, cv=n)"
      ]
    },
    {
      "cell_type": "code",
      "source": [
        "from sklearn.datasets import load_iris\n",
        "from sklearn.ensemble import RandomForestClassifier\n",
        "from sklearn.model_selection import cross_val_score\n",
        "\n",
        "iris = load_iris()\n",
        "data, target = iris['data'], iris['target']\n",
        "\n",
        "rf = RandomForestClassifier()\n",
        "scores = cross_val_score(rf, data, target, cv=5)   # 5등분\n",
        "scores"
      ],
      "metadata": {
        "colab": {
          "base_uri": "https://localhost:8080/"
        },
        "id": "GdWkZreS6DIE",
        "outputId": "42fd5e18-b44e-40d9-cbec-6d5691d26e31"
      },
      "execution_count": null,
      "outputs": [
        {
          "output_type": "execute_result",
          "data": {
            "text/plain": [
              "array([0.96666667, 0.96666667, 0.93333333, 0.96666667, 1.        ])"
            ]
          },
          "metadata": {},
          "execution_count": 8
        }
      ]
    },
    {
      "cell_type": "code",
      "source": [
        "import numpy as np\n",
        "\n",
        "np.mean(scores)"
      ],
      "metadata": {
        "colab": {
          "base_uri": "https://localhost:8080/"
        },
        "id": "b2V3CGm96Dt9",
        "outputId": "75f42aaa-035a-4ccd-9458-87fd59da82f0"
      },
      "execution_count": null,
      "outputs": [
        {
          "output_type": "execute_result",
          "data": {
            "text/plain": [
              "0.9666666666666668"
            ]
          },
          "metadata": {},
          "execution_count": 9
        }
      ]
    },
    {
      "cell_type": "code",
      "source": [
        "from sklearn.model_selection import cross_val_score, train_test_split\n",
        "\n",
        "iris = load_iris()\n",
        "data, target = iris['data'], iris['target']\n",
        "\n",
        "train_input, test_input, train_target, test_target = train_test_split(data, target)\n",
        "\n",
        "rf = RandomForestClassifier()\n",
        "scores = cross_val_score(rf, train_input, train_target, cv = 5)\n",
        "scores"
      ],
      "metadata": {
        "colab": {
          "base_uri": "https://localhost:8080/"
        },
        "id": "1wBHXuXB6nKw",
        "outputId": "8cc1dacd-faf1-4058-b2ef-5fd6bcbcf56d"
      },
      "execution_count": null,
      "outputs": [
        {
          "output_type": "execute_result",
          "data": {
            "text/plain": [
              "array([1.        , 0.95652174, 0.95454545, 0.95454545, 0.90909091])"
            ]
          },
          "metadata": {},
          "execution_count": 10
        }
      ]
    },
    {
      "cell_type": "code",
      "source": [
        "np.mean(scores)"
      ],
      "metadata": {
        "colab": {
          "base_uri": "https://localhost:8080/"
        },
        "id": "ECKVotlM7V77",
        "outputId": "85c404f7-0364-40b7-c623-2419d1c9329f"
      },
      "execution_count": null,
      "outputs": [
        {
          "output_type": "execute_result",
          "data": {
            "text/plain": [
              "0.9549407114624506"
            ]
          },
          "metadata": {},
          "execution_count": 11
        }
      ]
    },
    {
      "cell_type": "code",
      "source": [
        "rf.fit(train_input, train_target)"
      ],
      "metadata": {
        "colab": {
          "base_uri": "https://localhost:8080/"
        },
        "id": "OdChbpfW7ZTG",
        "outputId": "ed181b7f-029c-4d01-d962-d65e27bde41d"
      },
      "execution_count": null,
      "outputs": [
        {
          "output_type": "execute_result",
          "data": {
            "text/plain": [
              "RandomForestClassifier()"
            ]
          },
          "metadata": {},
          "execution_count": 12
        }
      ]
    },
    {
      "cell_type": "code",
      "source": [
        "rf.score(test_input, test_target)"
      ],
      "metadata": {
        "colab": {
          "base_uri": "https://localhost:8080/"
        },
        "id": "6scQ1Scf7fbB",
        "outputId": "2e4f09e4-afbf-4d57-ecab-5ca9934f993d"
      },
      "execution_count": null,
      "outputs": [
        {
          "output_type": "execute_result",
          "data": {
            "text/plain": [
              "0.9473684210526315"
            ]
          },
          "metadata": {},
          "execution_count": 13
        }
      ]
    },
    {
      "cell_type": "code",
      "source": [],
      "metadata": {
        "id": "1OIpJBAM7kgC"
      },
      "execution_count": null,
      "outputs": []
    }
  ]
}