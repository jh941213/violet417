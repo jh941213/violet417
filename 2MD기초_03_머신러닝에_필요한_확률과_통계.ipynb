{
  "nbformat": 4,
  "nbformat_minor": 0,
  "metadata": {
    "colab": {
      "provenance": [],
      "authorship_tag": "ABX9TyOStKpmHQENno31kIq8W8J9",
      "include_colab_link": true
    },
    "kernelspec": {
      "name": "python3",
      "display_name": "Python 3"
    },
    "language_info": {
      "name": "python"
    }
  },
  "cells": [
    {
      "cell_type": "markdown",
      "metadata": {
        "id": "view-in-github",
        "colab_type": "text"
      },
      "source": [
        "<a href=\"https://colab.research.google.com/github/violet417/violet417/blob/main/2MD%EA%B8%B0%EC%B4%88_03_%EB%A8%B8%EC%8B%A0%EB%9F%AC%EB%8B%9D%EC%97%90_%ED%95%84%EC%9A%94%ED%95%9C_%ED%99%95%EB%A5%A0%EA%B3%BC_%ED%86%B5%EA%B3%84.ipynb\" target=\"_parent\"><img src=\"https://colab.research.google.com/assets/colab-badge.svg\" alt=\"Open In Colab\"/></a>"
      ]
    },
    {
      "cell_type": "code",
      "source": [
        "import pandas as pd\n",
        "import numpy as np\n",
        "import seaborn as sns\n",
        "import matplotlib.pyplot as plt\n",
        "import random"
      ],
      "metadata": {
        "id": "q42TuTuSIvHm"
      },
      "execution_count": null,
      "outputs": []
    },
    {
      "cell_type": "code",
      "execution_count": null,
      "metadata": {
        "colab": {
          "base_uri": "https://localhost:8080/"
        },
        "id": "r6aNj5riIk-D",
        "outputId": "a5209362-d4c1-4965-e8a1-e533a96bb72b"
      },
      "outputs": [
        {
          "output_type": "execute_result",
          "data": {
            "text/plain": [
              "55.0"
            ]
          },
          "metadata": {},
          "execution_count": 9
        }
      ],
      "source": [
        "# 평균\n",
        "scores = np.array([42,69,56,41,57,48,65,49,65,58])\n",
        "\n",
        "np.mean(scores)"
      ]
    },
    {
      "cell_type": "code",
      "source": [
        "# 중앙값\n",
        "scores = np.array([42,69,56,41,57,48,65,49,65,58])\n",
        "\n",
        "np.median(scores)"
      ],
      "metadata": {
        "colab": {
          "base_uri": "https://localhost:8080/"
        },
        "id": "JXDTCINxI7v3",
        "outputId": "5978261a-dd3f-4a11-99f6-1d501e45df09"
      },
      "execution_count": null,
      "outputs": [
        {
          "output_type": "execute_result",
          "data": {
            "text/plain": [
              "56.5"
            ]
          },
          "metadata": {},
          "execution_count": 49
        }
      ]
    },
    {
      "cell_type": "code",
      "source": [
        "## 참고\n",
        "scores = np.array([42,69,56,41,57,48,65,49,65,58])\n",
        "a = scores.tolist()\n",
        "a.sort(reverse=True)\n",
        "print(a)    # 중앙값: 57과 56 사이 = 56.5"
      ],
      "metadata": {
        "colab": {
          "base_uri": "https://localhost:8080/"
        },
        "id": "mCKNiMRIeuDK",
        "outputId": "45d7031e-cf8e-46cb-952f-ef9deb87506f"
      },
      "execution_count": null,
      "outputs": [
        {
          "output_type": "stream",
          "name": "stdout",
          "text": [
            "[69, 65, 65, 58, 57, 56, 49, 48, 42, 41]\n"
          ]
        }
      ]
    },
    {
      "cell_type": "code",
      "source": [
        "# 최빈값\n",
        "pd.Series([1,1,1,2,2,3]).mode()"
      ],
      "metadata": {
        "colab": {
          "base_uri": "https://localhost:8080/"
        },
        "id": "DBgAdvs3Jv_Y",
        "outputId": "ae1cbcb4-2e84-4397-91fb-8eff04e67103"
      },
      "execution_count": null,
      "outputs": [
        {
          "output_type": "execute_result",
          "data": {
            "text/plain": [
              "0    1\n",
              "dtype: int64"
            ]
          },
          "metadata": {},
          "execution_count": 54
        }
      ]
    },
    {
      "cell_type": "code",
      "source": [
        "# 편차: 평균으로부터 얼마나 떨어져 있는가\n",
        "scores = np.array([42,69,56,41,57,48,65,49,65,58])\n",
        "\n",
        "mean = np.mean(scores)\n",
        "deviation = scores - mean\n",
        "deviation"
      ],
      "metadata": {
        "colab": {
          "base_uri": "https://localhost:8080/"
        },
        "id": "lQpZvtCHKp8x",
        "outputId": "bafe7e32-3205-40e8-8c3e-9b2ca943a05b"
      },
      "execution_count": null,
      "outputs": [
        {
          "output_type": "execute_result",
          "data": {
            "text/plain": [
              "array([-13.,  14.,   1., -14.,   2.,  -7.,  10.,  -6.,  10.,   3.])"
            ]
          },
          "metadata": {},
          "execution_count": 20
        }
      ]
    },
    {
      "cell_type": "code",
      "source": [
        "# 분산: 편차들을 제곱한 값의 합의 평균\n",
        "# 데이터에서 평균을 뺀 값인 편차를 모두 더하면 0이 나오므로 제곱해서 더한다.\n",
        "np.var(scores)"
      ],
      "metadata": {
        "colab": {
          "base_uri": "https://localhost:8080/"
        },
        "id": "gZ39_ErHK54c",
        "outputId": "f4be5997-1274-4905-8eea-b5056dae1824"
      },
      "execution_count": null,
      "outputs": [
        {
          "output_type": "execute_result",
          "data": {
            "text/plain": [
              "86.0"
            ]
          },
          "metadata": {},
          "execution_count": 23
        }
      ]
    },
    {
      "cell_type": "code",
      "source": [
        "# 표준편차: 분산을 제곱근한 것\n",
        "# 데이터가 얼만큼 퍼져 있는지 보는 값\n",
        "np.sqrt(np.var(scores))"
      ],
      "metadata": {
        "colab": {
          "base_uri": "https://localhost:8080/"
        },
        "id": "STYfalxDLIbm",
        "outputId": "e79a3563-25cf-4715-c610-5670c0fb445f"
      },
      "execution_count": null,
      "outputs": [
        {
          "output_type": "execute_result",
          "data": {
            "text/plain": [
              "9.273618495495704"
            ]
          },
          "metadata": {},
          "execution_count": 24
        }
      ]
    },
    {
      "cell_type": "markdown",
      "source": [
        "#### 데이터의 정규화\n",
        "- 시험점수가 동일하더라도, 쉬운 시험과 어려운 시험에서의 60점은 상대적인 결과가 다르다. \n",
        "- 점수는 평균과 분산에 따라 평가가 달라진다. \n",
        "- 데이터를 통일된 지표로 변환하는 것을 정규화라고 함. "
      ],
      "metadata": {
        "id": "lto-9kbRMnXw"
      }
    },
    {
      "cell_type": "code",
      "source": [
        "# 데이터의 표준화\n",
        "# 표준화를 하면 평균이 0, 표준편차가 1이 된다. \n",
        "\n",
        "scores = np.array([42,69,56,41,57,48,65,49,65,58])\n",
        "\n",
        "z = (scores - np.mean(scores)) / np.std(scores)    # (데이터 - 평균) / 표준편차\n",
        "z"
      ],
      "metadata": {
        "colab": {
          "base_uri": "https://localhost:8080/"
        },
        "id": "USQOpdM5LR3N",
        "outputId": "d29b6ed1-31c4-44bb-91b7-d9a1e91d44c2"
      },
      "execution_count": null,
      "outputs": [
        {
          "output_type": "execute_result",
          "data": {
            "text/plain": [
              "array([-1.40182605,  1.50965882,  0.10783277, -1.50965882,  0.21566555,\n",
              "       -0.75482941,  1.07832773, -0.64699664,  1.07832773,  0.32349832])"
            ]
          },
          "metadata": {},
          "execution_count": 25
        }
      ]
    },
    {
      "cell_type": "markdown",
      "source": [
        "#### 상관계수\n",
        "- 상관계수는 -1 ~ 1 사이의 값을 가지며, 1 또는 -1에 가까워질수록 높은 상관관계라는 의미이며, 0에 가까울수록 서로 상관관계가 없다고 볼 수 있다.   \n",
        "- df.corr()"
      ],
      "metadata": {
        "id": "duXiqStaTKbh"
      }
    },
    {
      "cell_type": "markdown",
      "source": [
        "#### 모집단과 표본\n",
        "- 추측하고 싶은 관측 대상 전체: 모집단\n",
        "- 추측에 사용하는 관측 대상의 무작위 일부분: 표본"
      ],
      "metadata": {
        "id": "S5DsQJECTbRQ"
      }
    },
    {
      "cell_type": "code",
      "source": [
        "box = [1,2,3,4,5,6,7,8,9,0]\n",
        "random.sample(box, 5)    # 랜덤으로 5개 데이터 추출 "
      ],
      "metadata": {
        "colab": {
          "base_uri": "https://localhost:8080/"
        },
        "id": "Hn2ZQZ7jTa9i",
        "outputId": "99ba27a5-47c4-4707-d994-227ca2809d48"
      },
      "execution_count": null,
      "outputs": [
        {
          "output_type": "execute_result",
          "data": {
            "text/plain": [
              "[8, 4, 3, 9, 1]"
            ]
          },
          "metadata": {},
          "execution_count": 40
        }
      ]
    },
    {
      "cell_type": "markdown",
      "source": [
        "#### 확률\n",
        "- 취하는 값과 그 값이 나올 확률이 결정되어 있는 것을 확률 변수라고 한다.   \n",
        "ex) 주사위의 눈이 확률 변수 X일 때, 눈이 1이 되는 사건의 확률"
      ],
      "metadata": {
        "id": "y4Jtki2XUDP_"
      }
    },
    {
      "cell_type": "markdown",
      "source": [
        "#### 확률 분포\n",
        "- 확률 변수가 어떻게 움직이는지를 나타내는 것  \n",
        "- 밑에 표가 확률 분포 A라면, 확률 변수 X는 확률 분포 A를 따른다. "
      ],
      "metadata": {
        "id": "fdsr1_7EURey"
      }
    },
    {
      "cell_type": "markdown",
      "source": [
        "#### 확률의 성질\n",
        "- 확률은 절대적으로 0 이상으로, 모든 확률을 더하면 1이 되어야 한다. \n"
      ],
      "metadata": {
        "id": "B_SZnVHjUdMC"
      }
    },
    {
      "cell_type": "markdown",
      "source": [
        "#### 확룰변수의 평균\n",
        "- 취할 수 있는 값과 그 확률의 곱의 총합\n"
      ],
      "metadata": {
        "id": "Yey92A88UkTm"
      }
    },
    {
      "cell_type": "code",
      "source": [],
      "metadata": {
        "id": "1GpCuXs_R0xu"
      },
      "execution_count": null,
      "outputs": []
    },
    {
      "cell_type": "code",
      "source": [],
      "metadata": {
        "id": "fQC_vXLCUqYw"
      },
      "execution_count": null,
      "outputs": []
    }
  ]
}