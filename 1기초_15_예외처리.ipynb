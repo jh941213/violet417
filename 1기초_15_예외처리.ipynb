{
  "nbformat": 4,
  "nbformat_minor": 0,
  "metadata": {
    "colab": {
      "provenance": [],
      "collapsed_sections": [],
      "authorship_tag": "ABX9TyPt1Rz7lXC4G3KzKMOXxoKO",
      "include_colab_link": true
    },
    "kernelspec": {
      "name": "python3",
      "display_name": "Python 3"
    },
    "language_info": {
      "name": "python"
    }
  },
  "cells": [
    {
      "cell_type": "markdown",
      "metadata": {
        "id": "view-in-github",
        "colab_type": "text"
      },
      "source": [
        "<a href=\"https://colab.research.google.com/github/violet417/violet417/blob/main/1%EA%B8%B0%EC%B4%88_15_%EC%98%88%EC%99%B8%EC%B2%98%EB%A6%AC.ipynb\" target=\"_parent\"><img src=\"https://colab.research.google.com/assets/colab-badge.svg\" alt=\"Open In Colab\"/></a>"
      ]
    },
    {
      "cell_type": "markdown",
      "source": [
        "#### 예외처리\n",
        "- 에러가 발생했을 때, 에러를 무시하는 기술\n",
        "- 예외처리를 해야하는 경우  \n",
        "1. 내 코드에 아무런 문제가 없을 때\n",
        "2. 어디론가 이동할 때\n"
      ],
      "metadata": {
        "id": "KhQg1Tg9vDJO"
      }
    },
    {
      "cell_type": "code",
      "execution_count": null,
      "metadata": {
        "id": "mYnIwRdZvAaT"
      },
      "outputs": [],
      "source": [
        "# 예외처리 기본 구조\n",
        "try:\n",
        "    수행할 코드\n",
        "except:\n",
        "    수행할 코드"
      ]
    },
    {
      "cell_type": "markdown",
      "source": [
        "ex1)   \n",
        "try: 맛집 블로그 크롤링    \n",
        "except: 다른 맛집 블로그로 이동  \n",
        "▶ 페이지는 존재하나 아무런 정보를 가져오지 못할 때 다른 블로그로 이동\n",
        "<br>\n",
        "ex2)  \n",
        "try: ...  \n",
        "except: FileNotFound: ...  \n",
        "\n",
        "▶ try 안에서 내가 지명한 오류(FileNotFound)가 발생했을 때 except 실행 -> 그 외 오류처리  \n",
        "▶ except 키워드를 여러개 실행할 수 있음 \n",
        "\n",
        "\n"
      ],
      "metadata": {
        "id": "SKfIvkEQvzj2"
      }
    },
    {
      "cell_type": "code",
      "source": [
        "# 예외처리 기본 구조\n",
        "try:\n",
        "    수행할 코드\n",
        "except:\n",
        "    수행할 코드\n",
        "finally:\n",
        "    수행할 코드\n",
        "\n",
        "# try 안에 문제가 있으면 except 실행 -> finally 실행\n",
        "# try 안에 문제가 없으면 try 실행 -> finally 실행\n",
        "# try 안에 있는 코드가 문제가 있든 없든 끝나면 무조건 finally 실행"
      ],
      "metadata": {
        "id": "D9MSTBeExmO7"
      },
      "execution_count": null,
      "outputs": []
    },
    {
      "cell_type": "code",
      "source": [
        "# 에러 일부러 발생시키기\n",
        "raise 에러이름"
      ],
      "metadata": {
        "id": "HE8mdvlkyUpD"
      },
      "execution_count": null,
      "outputs": []
    },
    {
      "cell_type": "code",
      "source": [
        "try:\n",
        "    if 뭔가 == True:\n",
        "        raise NameError\n",
        "except:\n",
        "    pass"
      ],
      "metadata": {
        "id": "uVq2TOBGyaWW"
      },
      "execution_count": null,
      "outputs": []
    },
    {
      "cell_type": "code",
      "source": [
        "try:\n",
        "    print(\"Hello\")\n",
        "    print(me)\n",
        "    print(\"Bye\")\n",
        "except:\n",
        "    print(\"에러 발생!\")"
      ],
      "metadata": {
        "colab": {
          "base_uri": "https://localhost:8080/"
        },
        "id": "v4DbiWOjyiSf",
        "outputId": "70ef3e0c-b656-4c3e-b502-7c5cc1745653"
      },
      "execution_count": null,
      "outputs": [
        {
          "output_type": "stream",
          "name": "stdout",
          "text": [
            "Hello\n",
            "에러 발생!\n"
          ]
        }
      ]
    },
    {
      "cell_type": "code",
      "source": [
        "try:\n",
        "    print(\"Hello\")\n",
        "    print(me)\n",
        "    print(\"Bye\")\n",
        "except:\n",
        "    print(\"Bye\")"
      ],
      "metadata": {
        "colab": {
          "base_uri": "https://localhost:8080/"
        },
        "id": "ADpUfW82zKXt",
        "outputId": "0b2ff38b-77e9-43ee-e214-8d499a480449"
      },
      "execution_count": null,
      "outputs": [
        {
          "output_type": "stream",
          "name": "stdout",
          "text": [
            "Hello\n",
            "Bye\n"
          ]
        }
      ]
    },
    {
      "cell_type": "code",
      "source": [
        "try:\n",
        "    print(\"Hello\")\n",
        "    print(me)\n",
        "    print(\"Bye\")\n",
        "except:\n",
        "    print(\"Bye\")\n",
        "finally:\n",
        "    print(\"에러처리완료!\")"
      ],
      "metadata": {
        "colab": {
          "base_uri": "https://localhost:8080/"
        },
        "id": "vtWOGAE40Fb1",
        "outputId": "296fd14b-115d-403f-8c08-a08306890125"
      },
      "execution_count": null,
      "outputs": [
        {
          "output_type": "stream",
          "name": "stdout",
          "text": [
            "Hello\n",
            "Bye\n",
            "에러처리완료!\n"
          ]
        }
      ]
    },
    {
      "cell_type": "code",
      "source": [
        "try:\n",
        "    print(\"Hello\")\n",
        "    print(me)\n",
        "    print(\"Bye\")\n",
        "except ZeroDivisionError:\n",
        "    print(\"Bye\")\n",
        "finally:\n",
        "    print(\"에러처리완료!\")"
      ],
      "metadata": {
        "colab": {
          "base_uri": "https://localhost:8080/",
          "height": 288
        },
        "id": "zDpkQDqh0TNR",
        "outputId": "8c1e6384-ef8d-459c-8905-3d83475653d1"
      },
      "execution_count": null,
      "outputs": [
        {
          "output_type": "stream",
          "name": "stdout",
          "text": [
            "Hello\n",
            "에러처리완료!\n"
          ]
        },
        {
          "output_type": "error",
          "ename": "NameError",
          "evalue": "ignored",
          "traceback": [
            "\u001b[0;31m---------------------------------------------------------------------------\u001b[0m",
            "\u001b[0;31mNameError\u001b[0m                                 Traceback (most recent call last)",
            "\u001b[0;32m<ipython-input-5-7bc37b57ae7c>\u001b[0m in \u001b[0;36m<module>\u001b[0;34m\u001b[0m\n\u001b[1;32m      1\u001b[0m \u001b[0;32mtry\u001b[0m\u001b[0;34m:\u001b[0m\u001b[0;34m\u001b[0m\u001b[0;34m\u001b[0m\u001b[0m\n\u001b[1;32m      2\u001b[0m     \u001b[0mprint\u001b[0m\u001b[0;34m(\u001b[0m\u001b[0;34m\"Hello\"\u001b[0m\u001b[0;34m)\u001b[0m\u001b[0;34m\u001b[0m\u001b[0;34m\u001b[0m\u001b[0m\n\u001b[0;32m----> 3\u001b[0;31m     \u001b[0mprint\u001b[0m\u001b[0;34m(\u001b[0m\u001b[0mme\u001b[0m\u001b[0;34m)\u001b[0m\u001b[0;34m\u001b[0m\u001b[0;34m\u001b[0m\u001b[0m\n\u001b[0m\u001b[1;32m      4\u001b[0m     \u001b[0mprint\u001b[0m\u001b[0;34m(\u001b[0m\u001b[0;34m\"Bye\"\u001b[0m\u001b[0;34m)\u001b[0m\u001b[0;34m\u001b[0m\u001b[0;34m\u001b[0m\u001b[0m\n\u001b[1;32m      5\u001b[0m \u001b[0;32mexcept\u001b[0m \u001b[0mZeroDivisionError\u001b[0m\u001b[0;34m:\u001b[0m\u001b[0;34m\u001b[0m\u001b[0;34m\u001b[0m\u001b[0m\n",
            "\u001b[0;31mNameError\u001b[0m: name 'me' is not defined"
          ]
        }
      ]
    },
    {
      "cell_type": "code",
      "source": [
        "try:\n",
        "    print(\"Hello\")\n",
        "    print(me)\n",
        "    print(\"Bye\")\n",
        "except ZeroDivisionError:\n",
        "    print(\"Bye\")\n",
        "except NameError:\n",
        "    print(\"변수 이름 에러 처리 완료!\")"
      ],
      "metadata": {
        "colab": {
          "base_uri": "https://localhost:8080/"
        },
        "id": "prOEkF_q0lmZ",
        "outputId": "b83fb59d-1ee4-4751-98bc-53dcce72c8cd"
      },
      "execution_count": null,
      "outputs": [
        {
          "output_type": "stream",
          "name": "stdout",
          "text": [
            "Hello\n",
            "변수 이름 에러 처리 완료!\n"
          ]
        }
      ]
    },
    {
      "cell_type": "code",
      "source": [
        "try:\n",
        "    print(\"Hello\")\n",
        "    print(me)\n",
        "    print(\"Bye\")\n",
        "except ZeroDivisionError:\n",
        "    print(\"Bye\")\n",
        "except NameError:\n",
        "    print(\"변수 이름 에러 처리 완료!\")\n",
        "finally:\n",
        "    print(\"Bye\")"
      ],
      "metadata": {
        "colab": {
          "base_uri": "https://localhost:8080/"
        },
        "id": "HERPmV3k1Gmn",
        "outputId": "e80a77ca-e4e1-420c-feb5-e33f1e0079bc"
      },
      "execution_count": null,
      "outputs": [
        {
          "output_type": "stream",
          "name": "stdout",
          "text": [
            "Hello\n",
            "변수 이름 에러 처리 완료!\n",
            "Bye\n"
          ]
        }
      ]
    },
    {
      "cell_type": "code",
      "source": [
        "raise NameError"
      ],
      "metadata": {
        "colab": {
          "base_uri": "https://localhost:8080/",
          "height": 176
        },
        "id": "qzMHnG9M1OS0",
        "outputId": "c6addd21-a0f8-44a5-8819-eabb38aed52c"
      },
      "execution_count": null,
      "outputs": [
        {
          "output_type": "error",
          "ename": "NameError",
          "evalue": "ignored",
          "traceback": [
            "\u001b[0;31m---------------------------------------------------------------------------\u001b[0m",
            "\u001b[0;31mNameError\u001b[0m                                 Traceback (most recent call last)",
            "\u001b[0;32m<ipython-input-8-42b67b2fc75d>\u001b[0m in \u001b[0;36m<module>\u001b[0;34m\u001b[0m\n\u001b[0;32m----> 1\u001b[0;31m \u001b[0;32mraise\u001b[0m \u001b[0mNameError\u001b[0m\u001b[0;34m\u001b[0m\u001b[0;34m\u001b[0m\u001b[0m\n\u001b[0m",
            "\u001b[0;31mNameError\u001b[0m: "
          ]
        }
      ]
    },
    {
      "cell_type": "markdown",
      "source": [
        "[실습예제]\n",
        "아래 코드에서 찾았습니다!가 출력되었을 때, 모든 반복문을 강제로 나가는 코드로 수정해보세요."
      ],
      "metadata": {
        "id": "7PAP6PKU1XY-"
      }
    },
    {
      "cell_type": "code",
      "source": [
        "try:\n",
        "    for n1 in range(1000):\n",
        "        for n2 in range(1000):\n",
        "            for n3 in range(1000):\n",
        "                for n4 in range(1000):\n",
        "                    for n5 in range(1000):\n",
        "                        if(n1+n2+n3+n4+n5) == 1000:\n",
        "                            print(\"찾았습니다.\")\n",
        "                            raise NameError\n",
        "except:\n",
        "    pass\n",
        "\n",
        "print(\"나갔다 야호!\")"
      ],
      "metadata": {
        "colab": {
          "base_uri": "https://localhost:8080/"
        },
        "id": "rpIlBgIL1SrA",
        "outputId": "2a03e231-3918-4441-86db-03c116cb758a"
      },
      "execution_count": null,
      "outputs": [
        {
          "output_type": "stream",
          "name": "stdout",
          "text": [
            "찾았습니다.\n",
            "나갔다 야호!\n"
          ]
        }
      ]
    },
    {
      "cell_type": "code",
      "source": [],
      "metadata": {
        "id": "EFSG1vl_2ARO"
      },
      "execution_count": null,
      "outputs": []
    }
  ]
}