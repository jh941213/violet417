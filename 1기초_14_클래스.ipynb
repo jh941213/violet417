{
  "nbformat": 4,
  "nbformat_minor": 0,
  "metadata": {
    "colab": {
      "provenance": [],
      "collapsed_sections": [],
      "authorship_tag": "ABX9TyOn+Y8Fm0mt0WxlWBSjaBNQ",
      "include_colab_link": true
    },
    "kernelspec": {
      "name": "python3",
      "display_name": "Python 3"
    },
    "language_info": {
      "name": "python"
    }
  },
  "cells": [
    {
      "cell_type": "markdown",
      "metadata": {
        "id": "view-in-github",
        "colab_type": "text"
      },
      "source": [
        "<a href=\"https://colab.research.google.com/github/violet417/violet417/blob/main/1%EA%B8%B0%EC%B4%88_14_%ED%81%B4%EB%9E%98%EC%8A%A4.ipynb\" target=\"_parent\"><img src=\"https://colab.research.google.com/assets/colab-badge.svg\" alt=\"Open In Colab\"/></a>"
      ]
    },
    {
      "cell_type": "markdown",
      "source": [
        "#### 클래스\n",
        "- 클래스: 여러개의 객체를 만들어내는 기능  \n",
        "- 비유하면 붕어빵을 만들어낼 수 있는 틀\n",
        "- 함수와 변수들을 모아 놓는 주머니"
      ],
      "metadata": {
        "id": "QVYrIFzElF1G"
      }
    },
    {
      "cell_type": "code",
      "source": [
        "class 클래스명:    # 클래스명 첫글자는 대문자로 표현. ex) Bank:\n",
        "    def 함수명(self, 매개변수...): "
      ],
      "metadata": {
        "id": "uOVfQcOPnx35"
      },
      "execution_count": null,
      "outputs": []
    },
    {
      "cell_type": "code",
      "execution_count": null,
      "metadata": {
        "id": "UGw3IB8QlB1K"
      },
      "outputs": [],
      "source": [
        "객체 = 클래스()\n",
        "객체.함수명(매개변수)"
      ]
    },
    {
      "cell_type": "code",
      "source": [
        "# 클래스 초기화 함수\n",
        "\n",
        "class 클래스명:\n",
        "    def 함수명(self, 매개변수...):\n",
        "\n",
        "# 객체가 생성될 때, 자동으로 한번 실행되는 함수\n",
        "def __init__(self):"
      ],
      "metadata": {
        "id": "tKAP1qvbn3ey"
      },
      "execution_count": null,
      "outputs": []
    },
    {
      "cell_type": "code",
      "source": [
        "# 상속\n",
        "\n",
        "class 클래스명1:\n",
        "    def 함수명(self, 매개변수...):\n",
        "\n",
        "# 클래스명2는 클래스명1에서 제공하는 모든 함수와 변수들을 사용할 수 있음\n",
        "class 클래스명2(클래스명1):"
      ],
      "metadata": {
        "id": "xXnEGNPeoCy1"
      },
      "execution_count": null,
      "outputs": []
    },
    {
      "cell_type": "code",
      "source": [
        "class Bank:\n",
        "\n",
        "    def deposit(self, a):   # 함수명: deposit, 매개변수: a, 클래스 안에서 함수를 만들 경우'self 재료가 있어야 함.  \n",
        "        self.money = a\n",
        "\n",
        "person1 = Bank()    # person1에게 Bank() 함수 권한을 부여함. \n",
        "person1.deposit(50000)\n",
        "\n",
        "person2 = Bank()    # person2에게 Bank() 함수 권한을 부여함. \n",
        "person2.deposit(30000)\n",
        "\n",
        "print(person1.money)\n",
        "print(person2.money)\n",
        "\n",
        "person3 = Bank()\n",
        "print(person3.money)"
      ],
      "metadata": {
        "colab": {
          "base_uri": "https://localhost:8080/",
          "height": 251
        },
        "id": "OiD0i5kCoMZE",
        "outputId": "9ff539d1-a927-434f-9e59-bcda012c90c1"
      },
      "execution_count": null,
      "outputs": [
        {
          "output_type": "stream",
          "name": "stdout",
          "text": [
            "50000\n",
            "30000\n"
          ]
        },
        {
          "output_type": "error",
          "ename": "AttributeError",
          "evalue": "ignored",
          "traceback": [
            "\u001b[0;31m---------------------------------------------------------------------------\u001b[0m",
            "\u001b[0;31mAttributeError\u001b[0m                            Traceback (most recent call last)",
            "\u001b[0;32m<ipython-input-7-73cc9ce2c393>\u001b[0m in \u001b[0;36m<module>\u001b[0;34m\u001b[0m\n\u001b[1;32m     14\u001b[0m \u001b[0;34m\u001b[0m\u001b[0m\n\u001b[1;32m     15\u001b[0m \u001b[0mperson3\u001b[0m \u001b[0;34m=\u001b[0m \u001b[0mBank\u001b[0m\u001b[0;34m(\u001b[0m\u001b[0;34m)\u001b[0m\u001b[0;34m\u001b[0m\u001b[0;34m\u001b[0m\u001b[0m\n\u001b[0;32m---> 16\u001b[0;31m \u001b[0mprint\u001b[0m\u001b[0;34m(\u001b[0m\u001b[0mperson3\u001b[0m\u001b[0;34m.\u001b[0m\u001b[0mmoney\u001b[0m\u001b[0;34m)\u001b[0m\u001b[0;34m\u001b[0m\u001b[0;34m\u001b[0m\u001b[0m\n\u001b[0m",
            "\u001b[0;31mAttributeError\u001b[0m: 'Bank' object has no attribute 'money'"
          ]
        }
      ]
    },
    {
      "cell_type": "code",
      "source": [
        "class Bank:\n",
        "\n",
        "    # 객체를 생성해서 권한을 줄 때, 자동으로 한번 실행되는 함수\n",
        "    def __init__(self):\n",
        "        print(\"가입을 축하합니다!\")\n",
        "        self.money = 0\n",
        "    \n",
        "    def deposit(self, a):\n",
        "        self.money += a\n",
        "\n",
        "person1 = Bank()\n",
        "person1.deposit(50000)\n",
        "\n",
        "person2 = Bank()\n",
        "person2.deposit(30000)\n",
        "\n",
        "person3 = Bank()\n",
        "print(person3.money)"
      ],
      "metadata": {
        "colab": {
          "base_uri": "https://localhost:8080/"
        },
        "id": "OdcmN-Wsof2M",
        "outputId": "7adf543b-d6f4-4812-f36d-4fb92cdd249d"
      },
      "execution_count": null,
      "outputs": [
        {
          "output_type": "stream",
          "name": "stdout",
          "text": [
            "가입을 축하합니다!\n",
            "가입을 축하합니다!\n",
            "가입을 축하합니다!\n",
            "0\n"
          ]
        }
      ]
    },
    {
      "cell_type": "code",
      "source": [
        "# Bank2 클래스는 Bank에서 제공하는 모든 함수들을 상속받는다. \n",
        "class Bank2(Bank):\n",
        "    pass   \n",
        "    # 아무것도 안 적으면 오류 발생. \n",
        "    # 적을게 없는데 뭐라도 적어야 할 때 -> pass 키워드를 사용하면 그냥 지나쳐라\n",
        "\n",
        "person4 = Bank2()"
      ],
      "metadata": {
        "colab": {
          "base_uri": "https://localhost:8080/"
        },
        "id": "08lGCv96shcw",
        "outputId": "f866fcdc-582d-4b2c-cdbc-b0cd43e9baa4"
      },
      "execution_count": null,
      "outputs": [
        {
          "output_type": "stream",
          "name": "stdout",
          "text": [
            "가입을 축하합니다!\n"
          ]
        }
      ]
    },
    {
      "cell_type": "markdown",
      "source": [
        "[실습예제]\n",
        "수업때 진행했던 Bank() 클래스에서 금액을 출금하는 기능도 추가해서 사용해보세요. "
      ],
      "metadata": {
        "id": "1cu9BqvhsTGa"
      }
    },
    {
      "cell_type": "code",
      "source": [
        "class Bank:\n",
        "\n",
        "    def __init__(self):\n",
        "        print(\"가입을 축하합니다!\")\n",
        "        self.money = 0\n",
        "    \n",
        "    def deposit(self, a):\n",
        "        self.money += a\n",
        "\n",
        "    def withdraw(self, a):\n",
        "        self.money -= a\n",
        "        if self.money <= 0:\n",
        "            print(\"잔액이 부족합니다.\") # 물어보기\n",
        "\n",
        "person = Bank()\n",
        "person.deposit(50000)\n",
        "person.withdraw(30000)\n",
        "print(person.money)"
      ],
      "metadata": {
        "colab": {
          "base_uri": "https://localhost:8080/"
        },
        "id": "acLNcJrhpVa7",
        "outputId": "9662a16a-1873-4ff9-8e80-12a80a96efc5"
      },
      "execution_count": null,
      "outputs": [
        {
          "output_type": "stream",
          "name": "stdout",
          "text": [
            "가입을 축하합니다!\n",
            "20000\n"
          ]
        }
      ]
    },
    {
      "cell_type": "code",
      "source": [],
      "metadata": {
        "id": "P0K7m8grtV_W"
      },
      "execution_count": null,
      "outputs": []
    }
  ]
}