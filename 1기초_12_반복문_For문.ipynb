{
  "nbformat": 4,
  "nbformat_minor": 0,
  "metadata": {
    "colab": {
      "provenance": [],
      "collapsed_sections": [],
      "authorship_tag": "ABX9TyNAH45uBbOH7t8lf9dpyjp6",
      "include_colab_link": true
    },
    "kernelspec": {
      "name": "python3",
      "display_name": "Python 3"
    },
    "language_info": {
      "name": "python"
    }
  },
  "cells": [
    {
      "cell_type": "markdown",
      "metadata": {
        "id": "view-in-github",
        "colab_type": "text"
      },
      "source": [
        "<a href=\"https://colab.research.google.com/github/violet417/violet417/blob/main/1%EA%B8%B0%EC%B4%88_12_%EB%B0%98%EB%B3%B5%EB%AC%B8_For%EB%AC%B8.ipynb\" target=\"_parent\"><img src=\"https://colab.research.google.com/assets/colab-badge.svg\" alt=\"Open In Colab\"/></a>"
      ]
    },
    {
      "cell_type": "code",
      "execution_count": null,
      "metadata": {
        "id": "huEfKFNakiEo"
      },
      "outputs": [],
      "source": [
        "# 반복문 For문: 리스트나 튜플, 문자열의 요소를 순서대로 변수에 대입하여 반복 수행\n",
        "# 반복문 For문 기본구조\n",
        "''' for 변수 in 리스트(또는 튜플, 문자열):\n",
        "        수행할 문장1\n",
        "        수행할 문장2'''"
      ]
    },
    {
      "cell_type": "code",
      "source": [
        "a = [(1,2), (3,4), (5,6)]\n",
        "for (first, last) in a:\n",
        "    print(first + last)"
      ],
      "metadata": {
        "colab": {
          "base_uri": "https://localhost:8080/"
        },
        "id": "ulZrG22jmsbP",
        "outputId": "470f012c-86cb-421f-b8e2-d8a85185649c"
      },
      "execution_count": null,
      "outputs": [
        {
          "output_type": "stream",
          "name": "stdout",
          "text": [
            "3\n",
            "7\n",
            "11\n"
          ]
        }
      ]
    },
    {
      "cell_type": "code",
      "source": [
        "# 반복문 For문과 자주 같이 사용되는 range 함수\n",
        "a = 0\n",
        "for i in range(1, 11):\n",
        "    a += i\n",
        "print(a)"
      ],
      "metadata": {
        "colab": {
          "base_uri": "https://localhost:8080/"
        },
        "id": "3ooZQFNwnw08",
        "outputId": "5291fb02-9dcb-48df-f66c-05ede0693a0d"
      },
      "execution_count": null,
      "outputs": [
        {
          "output_type": "stream",
          "name": "stdout",
          "text": [
            "55\n"
          ]
        }
      ]
    },
    {
      "cell_type": "code",
      "source": [
        "# 이중 For문\n",
        "for i in range(2, 10):    # ①번 for문\n",
        "    for j in range(1, 10):    # ②번 for문\n",
        "        print(i * j, end=\" \")\n",
        "    print()"
      ],
      "metadata": {
        "colab": {
          "base_uri": "https://localhost:8080/"
        },
        "id": "w-OrMU4poaLU",
        "outputId": "bc7c2d18-790c-4f08-94d0-e08446e23035"
      },
      "execution_count": null,
      "outputs": [
        {
          "output_type": "stream",
          "name": "stdout",
          "text": [
            "2 4 6 8 10 12 14 16 18 \n",
            "3 6 9 12 15 18 21 24 27 \n",
            "4 8 12 16 20 24 28 32 36 \n",
            "5 10 15 20 25 30 35 40 45 \n",
            "6 12 18 24 30 36 42 48 54 \n",
            "7 14 21 28 35 42 49 56 63 \n",
            "8 16 24 32 40 48 56 64 72 \n",
            "9 18 27 36 45 54 63 72 81 \n"
          ]
        }
      ]
    },
    {
      "cell_type": "code",
      "source": [
        "# 리스트 내포\n",
        "# 리스트 내포 구조\n",
        "'''[표현식 for 항목1 in 반복가능객체1 if 조건문1\n",
        "           for 항목2 in 반복가능객체2 if 조건문2\n",
        "           ...\n",
        "           for 항목n in 반복가는객체n if 조건문n]"
      ],
      "metadata": {
        "id": "o7SeFSjysGc0"
      },
      "execution_count": null,
      "outputs": []
    },
    {
      "cell_type": "code",
      "source": [
        "a = [1,2,3,4]\n",
        "result = [num * 3 for num in a]\n",
        "print(result)"
      ],
      "metadata": {
        "colab": {
          "base_uri": "https://localhost:8080/"
        },
        "id": "HJ3ZPNaFsSYA",
        "outputId": "55521237-39aa-462a-d08f-cb73bf72ec52"
      },
      "execution_count": null,
      "outputs": [
        {
          "output_type": "stream",
          "name": "stdout",
          "text": [
            "[3, 6, 9, 12]\n"
          ]
        }
      ]
    },
    {
      "cell_type": "code",
      "source": [
        "box = [[1,2], [3,4], [5,6]]\n",
        "\n",
        "for i,j in box:\n",
        "    print(i + j)"
      ],
      "metadata": {
        "id": "dnMgPa8wslRh",
        "colab": {
          "base_uri": "https://localhost:8080/"
        },
        "outputId": "2142279f-b9d2-4966-867f-8230e04e4d6a"
      },
      "execution_count": null,
      "outputs": [
        {
          "output_type": "stream",
          "name": "stdout",
          "text": [
            "3\n",
            "7\n",
            "11\n"
          ]
        }
      ]
    },
    {
      "cell_type": "code",
      "source": [
        "box = []    # [1,2,3,4,5]\n",
        "\n",
        "for i in range(1, 6):\n",
        "    box.append(i)\n",
        "print(box)"
      ],
      "metadata": {
        "colab": {
          "base_uri": "https://localhost:8080/"
        },
        "id": "eT7SMqmsrIRn",
        "outputId": "d6bf9ecb-0dfe-4bf7-eaf5-50d30d79149a"
      },
      "execution_count": null,
      "outputs": [
        {
          "output_type": "stream",
          "name": "stdout",
          "text": [
            "[1, 2, 3, 4, 5]\n"
          ]
        }
      ]
    },
    {
      "cell_type": "code",
      "source": [
        "box = [i for i in range(1, 6)]\n",
        "print(box)"
      ],
      "metadata": {
        "colab": {
          "base_uri": "https://localhost:8080/"
        },
        "id": "1lipyE2qrZ7G",
        "outputId": "8ca0e9ff-0613-40ec-de17-1a13f29a52f1"
      },
      "execution_count": null,
      "outputs": [
        {
          "output_type": "stream",
          "name": "stdout",
          "text": [
            "[1, 2, 3, 4, 5]\n"
          ]
        }
      ]
    },
    {
      "cell_type": "code",
      "source": [
        "box = [i*3 for i in range(1, 11)]\n",
        "print(box)"
      ],
      "metadata": {
        "colab": {
          "base_uri": "https://localhost:8080/"
        },
        "id": "HNNjeE8trhns",
        "outputId": "58cb6e03-7e9d-473e-a66f-599524da2a55"
      },
      "execution_count": null,
      "outputs": [
        {
          "output_type": "stream",
          "name": "stdout",
          "text": [
            "[3, 6, 9, 12, 15, 18, 21, 24, 27, 30]\n"
          ]
        }
      ]
    },
    {
      "cell_type": "code",
      "source": [
        "box = [i for i in range(1, 11) if i % 2 == 0]\n",
        "print(box)"
      ],
      "metadata": {
        "colab": {
          "base_uri": "https://localhost:8080/"
        },
        "id": "ZWm39w6nr2Lc",
        "outputId": "779f8d32-55b8-4ec6-a8de-ec02584a3d24"
      },
      "execution_count": null,
      "outputs": [
        {
          "output_type": "stream",
          "name": "stdout",
          "text": [
            "[2, 4, 6, 8, 10]\n"
          ]
        }
      ]
    },
    {
      "cell_type": "code",
      "source": [
        "box = [i*j for i in range(2, 10) for j in range(1, 10)]\n",
        "print(box)"
      ],
      "metadata": {
        "colab": {
          "base_uri": "https://localhost:8080/"
        },
        "id": "ya6Fa7oasApE",
        "outputId": "26e90245-6501-4aab-bf79-d4f841c1ce7a"
      },
      "execution_count": null,
      "outputs": [
        {
          "output_type": "stream",
          "name": "stdout",
          "text": [
            "[2, 4, 6, 8, 10, 12, 14, 16, 18, 3, 6, 9, 12, 15, 18, 21, 24, 27, 4, 8, 12, 16, 20, 24, 28, 32, 36, 5, 10, 15, 20, 25, 30, 35, 40, 45, 6, 12, 18, 24, 30, 36, 42, 48, 54, 7, 14, 21, 28, 35, 42, 49, 56, 63, 8, 16, 24, 32, 40, 48, 56, 64, 72, 9, 18, 27, 36, 45, 54, 63, 72, 81]\n"
          ]
        }
      ]
    },
    {
      "cell_type": "code",
      "source": [
        "a = 0\n",
        "for i in range(1, 1001):\n",
        "    a += i\n",
        "print(a)"
      ],
      "metadata": {
        "colab": {
          "base_uri": "https://localhost:8080/"
        },
        "id": "irV69xVysH-Y",
        "outputId": "7b89d649-8e2c-4b17-d589-43464458411e"
      },
      "execution_count": null,
      "outputs": [
        {
          "output_type": "stream",
          "name": "stdout",
          "text": [
            "500500\n"
          ]
        }
      ]
    },
    {
      "cell_type": "markdown",
      "source": [
        "[실습예제]\n",
        "로또 당첨번호가 총 몇 개의 조합이 있는지 for문을 사용해서 로또 당첨번호의 총 개수를 구해보세요. "
      ],
      "metadata": {
        "id": "kxG9k34ssZBW"
      }
    },
    {
      "cell_type": "code",
      "source": [
        "count = 0\n",
        "for n1 in range(1, 46):\n",
        "    for n2 in range(n1+1, 46):\n",
        "        for n3 in range(n2+1, 46):\n",
        "            for n4 in range(n3+1, 46):\n",
        "                for n5 in range(n4+1, 46):\n",
        "                    for n6 in range(n5+1, 46):\n",
        "                        count += 1\n",
        "print(count) \n",
        "print(1/count)   "
      ],
      "metadata": {
        "colab": {
          "base_uri": "https://localhost:8080/"
        },
        "id": "olFVGbsPsOO5",
        "outputId": "8e6416c2-45b5-4054-bd5a-48afcef5d8c8"
      },
      "execution_count": null,
      "outputs": [
        {
          "output_type": "stream",
          "name": "stdout",
          "text": [
            "8145060\n",
            "1.2277380399898834e-07\n"
          ]
        }
      ]
    },
    {
      "cell_type": "code",
      "source": [],
      "metadata": {
        "id": "Dzy5IzCPs-SF"
      },
      "execution_count": null,
      "outputs": []
    }
  ]
}