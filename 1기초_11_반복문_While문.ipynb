{
  "nbformat": 4,
  "nbformat_minor": 0,
  "metadata": {
    "colab": {
      "provenance": [],
      "collapsed_sections": [],
      "authorship_tag": "ABX9TyNllBfgrtMEDvHMH4uCMjSy",
      "include_colab_link": true
    },
    "kernelspec": {
      "name": "python3",
      "display_name": "Python 3"
    },
    "language_info": {
      "name": "python"
    }
  },
  "cells": [
    {
      "cell_type": "markdown",
      "metadata": {
        "id": "view-in-github",
        "colab_type": "text"
      },
      "source": [
        "<a href=\"https://colab.research.google.com/github/violet417/violet417/blob/main/1%EA%B8%B0%EC%B4%88_11_%EB%B0%98%EB%B3%B5%EB%AC%B8_While%EB%AC%B8.ipynb\" target=\"_parent\"><img src=\"https://colab.research.google.com/assets/colab-badge.svg\" alt=\"Open In Colab\"/></a>"
      ]
    },
    {
      "cell_type": "code",
      "execution_count": null,
      "metadata": {
        "id": "nMHx2-bNjY_X"
      },
      "outputs": [],
      "source": [
        "# 반복문 While문: 조건문이 참인 동안에 while문 아래의 문장이 반복해서 수행\n",
        "# 반복문 While문 기본구조\n",
        "''' while <조건문>:\n",
        "          <수행할 문장1>\n",
        "          <수행할 문장2>\n",
        "          <수행할 문장3>'''"
      ]
    },
    {
      "cell_type": "code",
      "source": [
        "# 반복문 강제로 빠져나가기 : break\n",
        "''' while <조건문>:\n",
        "          <수행할 문장1>\n",
        "          <수행할 문장2>\n",
        "          break'''"
      ],
      "metadata": {
        "id": "tdNvPb7KkFD4"
      },
      "execution_count": null,
      "outputs": []
    },
    {
      "cell_type": "code",
      "source": [
        "# 반복문의 맨 처음으로 돌아가기: continue\n",
        "''' while <조건문>:\n",
        "          <수행할 문장1>\n",
        "          <수행할 문장2>\n",
        "          continue'''"
      ],
      "metadata": {
        "id": "ZW-L2EJIkUQU"
      },
      "execution_count": null,
      "outputs": []
    },
    {
      "cell_type": "code",
      "source": [
        "hit = 0\n",
        "\n",
        "while hit < 10:\n",
        "    hit = hit + 1\n",
        "    print(\"나무를 {}번 찍었습니다.\".format(hit))\n",
        "    if hit == 10: \n",
        "        print(\"나무가 쓰러졌습니다.\")"
      ],
      "metadata": {
        "id": "JwVq46hpkeIz",
        "colab": {
          "base_uri": "https://localhost:8080/"
        },
        "outputId": "e4fdbb36-a18a-44ca-aa73-ec038b7fb620"
      },
      "execution_count": null,
      "outputs": [
        {
          "output_type": "stream",
          "name": "stdout",
          "text": [
            "나무를 1번 찍었습니다.\n",
            "나무를 2번 찍었습니다.\n",
            "나무를 3번 찍었습니다.\n",
            "나무를 4번 찍었습니다.\n",
            "나무를 5번 찍었습니다.\n",
            "나무를 6번 찍었습니다.\n",
            "나무를 7번 찍었습니다.\n",
            "나무를 8번 찍었습니다.\n",
            "나무를 9번 찍었습니다.\n",
            "나무를 10번 찍었습니다.\n",
            "나무가 쓰러졌습니다.\n"
          ]
        }
      ]
    },
    {
      "cell_type": "code",
      "source": [
        "coffee = 10\n",
        "\n",
        "while True:\n",
        "    coffee = coffee - 1\n",
        "    print(\"커피를 팔고, {}잔 남았습니다.\".format(coffee))\n",
        "    if coffee == 0:\n",
        "        print(\"매진되었습니다.\")\n",
        "        break"
      ],
      "metadata": {
        "colab": {
          "base_uri": "https://localhost:8080/"
        },
        "id": "ojAm2-RpnrB_",
        "outputId": "b5761b02-2b6b-44a8-fade-34f4ee4910d8"
      },
      "execution_count": null,
      "outputs": [
        {
          "output_type": "stream",
          "name": "stdout",
          "text": [
            "커피를 팔고, 9잔 남았습니다.\n",
            "커피를 팔고, 8잔 남았습니다.\n",
            "커피를 팔고, 7잔 남았습니다.\n",
            "커피를 팔고, 6잔 남았습니다.\n",
            "커피를 팔고, 5잔 남았습니다.\n",
            "커피를 팔고, 4잔 남았습니다.\n",
            "커피를 팔고, 3잔 남았습니다.\n",
            "커피를 팔고, 2잔 남았습니다.\n",
            "커피를 팔고, 1잔 남았습니다.\n",
            "커피를 팔고, 0잔 남았습니다.\n",
            "매진되었습니다.\n"
          ]
        }
      ]
    },
    {
      "cell_type": "code",
      "source": [
        "a = 0\n",
        "while a < 10:\n",
        "    a += 1\n",
        "    if a % 2 == 0:\n",
        "        continue\n",
        "    print(a)"
      ],
      "metadata": {
        "colab": {
          "base_uri": "https://localhost:8080/"
        },
        "id": "qpZyqRckoD2u",
        "outputId": "afe9ddcc-c861-4b65-df80-53d0f7a2728f"
      },
      "execution_count": null,
      "outputs": [
        {
          "output_type": "stream",
          "name": "stdout",
          "text": [
            "1\n",
            "3\n",
            "5\n",
            "7\n",
            "9\n"
          ]
        }
      ]
    },
    {
      "cell_type": "markdown",
      "source": [
        "[실습예제]  \n",
        "1. while문을 사용해서 1부터 1000까지 3의 배수의 합을 구해보세요. \n",
        "2. while문을 사용해서 1부터 100까지 더하는 코드를 작성 후, 결과값을 화면에 출력해보세요. "
      ],
      "metadata": {
        "id": "-TNX19q3pX21"
      }
    },
    {
      "cell_type": "code",
      "source": [
        "a = 0\n",
        "b = 0\n",
        "while a < 1000:\n",
        "    a = a+1   # a += 1\n",
        "    if a % 3 == 0:\n",
        "        b = b + a   # b += a\n",
        "print(b)"
      ],
      "metadata": {
        "colab": {
          "base_uri": "https://localhost:8080/"
        },
        "id": "J7zwEepWoWh1",
        "outputId": "d8e34e5c-3cf4-47ca-c6ac-d7f6eef32ef1"
      },
      "execution_count": null,
      "outputs": [
        {
          "output_type": "stream",
          "name": "stdout",
          "text": [
            "166833\n"
          ]
        }
      ]
    },
    {
      "cell_type": "code",
      "source": [
        "a = 0\n",
        "b = 0\n",
        "while a < 100:\n",
        "    a = a + 1   # a += 1\n",
        "    b = b + a   # b += a\n",
        "print(b)"
      ],
      "metadata": {
        "colab": {
          "base_uri": "https://localhost:8080/"
        },
        "id": "-NIndFGWp0sc",
        "outputId": "75925158-3da3-4afb-b36a-d824303f3df1"
      },
      "execution_count": null,
      "outputs": [
        {
          "output_type": "stream",
          "name": "stdout",
          "text": [
            "5050\n"
          ]
        }
      ]
    },
    {
      "cell_type": "code",
      "source": [
        "# 몇 번 반복해야 하는지 모를 경우에는 while문, 아는 경우에는 for문 사용"
      ],
      "metadata": {
        "id": "knFfsFD_qF1J"
      },
      "execution_count": null,
      "outputs": []
    }
  ]
}